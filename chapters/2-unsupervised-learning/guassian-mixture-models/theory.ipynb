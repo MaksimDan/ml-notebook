{
 "cells": [
  {
   "cell_type": "markdown",
   "metadata": {},
   "source": [
    "# Theory\n",
    "\n"
   ]
  },
  {
   "cell_type": "markdown",
   "metadata": {},
   "source": [
    "## Assumption on Dataset Generation\n",
    "\n",
    "A guassian mixture model assumes the conceptual model for the generate of the dataset.\n",
    "\n",
    "1. Select `j` number of guassian distributions or clusters.\n",
    "2. For each instance in `X` select a random guassian distribution.\n",
    "    1. The selection is of the cluster is determined by the probability weight. And the final index for the cluster is denoded $z^{(i)}$ for the ith cluster.\n",
    "\n",
    "For example, if $z^{(2)}=2$ this means that the 3rd instance in the data is generated from cluster 2 which is guassian distribution with parameters $\\mu \\text{ (mean)}, \\sigma \\text{ (covariance matrix)}$\n",
    "\n",
    "\n",
    "![guassian model](../../../assets/2-unsupervised-learning/guassian_model.png)\n"
   ]
  },
  {
   "cell_type": "markdown",
   "metadata": {},
   "source": [
    "**The Reverse**\n",
    "\n",
    "In reality, we begin with `X`, and what we want to do is start estimating the weights associated with each instance, and all the distribution parameters ($\\mu$ and $\\sigma$) for each cluster (guassian distribution). \n",
    "\n",
    "To find these parameters, we use EM, or Expectation Maximization Algorithm. This is an iterative algorithm for negative log-liklihood maximization. This algorithm identifies the most suitable parameters for the set of Gaussian mixture models.\n",
    "\n",
    "### The Expectation Maximization Algorithm\n",
    "\n",
    "The EM algorithm holds many similiaries over the KMeans algorithm. Recall the KMeans algorithm:\n",
    "\n",
    "1. Initialize k random centroids in space.\n",
    "2. Assign each observation to its nearest centroids.\n",
    "3. Recalculate each centroid as the mean of the previously assigned cluster coordinates.\n",
    "4. Repeat (2-3), until cluster assignments become stable (that is, do not change from previous assignments).\n",
    "\n",
    "The EM algorithm:\n",
    "\n",
    "1. Initialize k random points in space.\n",
    "2. Expectation step: assign instances to one of points of the k points in a probabilistic way. That is, estimate the probabilities of a instance belonging to each of the k clusters. These probabilities are are _responsibilities_ and they will be used in step 3.\n",
    "3. Maximization step: Update the k cluster points. That is, using all the instances in the dataset (and their associated weights), update each cluster based on these. Instances that have a higher probability or favor towards a particular cluster will impact that specific cluster the most in terms of this update step.\n",
    "4. Repeat (2-3), until cluster assignements become stable, just like in KMeans.\n",
    "\n",
    "EM can be thought as a generalization of the KMeans algorithm in that in addition to finding the cluster centroids (means), it additionally finds the their size, shape and orientation.\n"
   ]
  },
  {
   "cell_type": "markdown",
   "metadata": {},
   "source": [
    "## Pros and Cons\n",
    "\n",
    "### Pros\n",
    "* Can be used for _model estimation_: Given data, you can estimate, approximately what the parameters of this distributions are. Now that you have an approximation of this distribution, you can things such as _model sampling_. That is, we can generate more points using the estimated set of distributions. This can also be used hand in hand with data imputation - where additional data is sample to produce more training data.\n",
    "* Gaussian distributions are shape agnostic (it can be fit to be circular, diagonal, stretched, etc)\n",
    "\n",
    "### Cons\n",
    "* Does not scale well with a large number of features. $O(kmn^2+kn^3)$\n",
    "* Due to its random nature, the algorithm ususally has to initialized or run several times in order to find good performance.\n",
    "* Singularities: with small amounts of data, the covariances are estimated poorly.\n",
    "    * Additionally coverages poorly with many clusters or in a high dimensional setting.\n",
    "* Number of components are required to be known in initialization.\n",
    "\n",
    "## Demonstration and Explainations"
   ]
  },
  {
   "cell_type": "code",
   "execution_count": 1,
   "metadata": {},
   "outputs": [
    {
     "data": {
      "text/plain": [
       "<matplotlib.collections.PathCollection at 0x1a1a290eb8>"
      ]
     },
     "execution_count": 1,
     "metadata": {},
     "output_type": "execute_result"
    },
    {
     "data": {
      "image/png": "[encoded data removed]",
      "text/plain": [
       "<Figure size 432x288 with 1 Axes>"
      ]
     },
     "metadata": {
      "needs_background": "light"
     },
     "output_type": "display_data"
    }
   ],
   "source": [
    "import matplotlib.pyplot as plt\n",
    "%matplotlib inline\n",
    "\n",
    "from sklearn.datasets.samples_generator import make_blobs\n",
    "from sklearn.mixture import GaussianMixture\n",
    "\n",
    "X, y = make_blobs(n_samples=200, centers=3, n_features=2, random_state=0)\n",
    "plt.scatter(X[:,0], X[:, 1])"
   ]
  },
  {
   "cell_type": "code",
   "execution_count": 2,
   "metadata": {},
   "outputs": [],
   "source": [
    "# n_init = number of initializations that are performed, and the best one is kept\n",
    "gm = GaussianMixture(n_components=3, n_init=10)\n",
    "gm.fit(X)\n",
    "\n",
    "# seperate X and y to compare to the true estimations\n",
    "X_0, X_1, X_2 = X[y==0], X[y==1], X[y==2]"
   ]
  },
  {
   "cell_type": "code",
   "execution_count": 3,
   "metadata": {},
   "outputs": [
    {
     "name": "stdout",
     "output_type": "stream",
     "text": [
      "Estimated Guassian Parameters:\n",
      "weights:\n",
      " [0.31639943 0.33637295 0.34722762]\n",
      "\n",
      "means:\n",
      " [[ 0.92173144  4.55033435]\n",
      " [-1.68242734  2.89909118]\n",
      " [ 1.96672754  0.84976746]]\n",
      "\n",
      "covariances:\n",
      " [[[ 0.88679289 -0.0232662 ]\n",
      "  [-0.0232662   0.89587275]]\n",
      "\n",
      " [[ 0.99969795 -0.08349552]\n",
      "  [-0.08349552  0.96274406]]\n",
      "\n",
      " [[ 1.04320083  0.05080197]\n",
      "  [ 0.05080197  1.04056045]]]\n",
      "\n"
     ]
    }
   ],
   "source": [
    "print('Estimated Guassian Parameters:')\n",
    "print(f'weights:\\n {gm.weights_}', end='\\n\\n')\n",
    "print(f'means:\\n {gm.means_}', end='\\n\\n')\n",
    "print(f'covariances:\\n {gm.covariances_}', end='\\n\\n')"
   ]
  },
  {
   "cell_type": "code",
   "execution_count": 4,
   "metadata": {},
   "outputs": [
    {
     "name": "stdout",
     "output_type": "stream",
     "text": [
      "Actual Guassian Parameters\n",
      "means\n",
      "[[0.9551988277566075 4.489474359775159]\n",
      " [1.9638477199745117 0.7651087393108689]]\n",
      " [-1.7250491432307105 2.877807368687578]]\n",
      "\n",
      "covariances\n",
      "[[ 0.98052671 -0.10450309]\n",
      " [-0.10450309  0.97429942]]\n",
      "[[1.01514135 0.04632573]\n",
      " [0.04632573 0.90224034]]\n",
      "[[ 0.9380414  -0.1034993 ]\n",
      " [-0.1034993   0.91471663]]\n"
     ]
    }
   ],
   "source": [
    "import numpy as np\n",
    "\n",
    "\n",
    "print('Actual Guassian Parameters')\n",
    "print('means')\n",
    "print(f'[[{np.mean(X_0[:, 0])} {np.mean(X_0[:, 1])}]')\n",
    "print(f' [{np.mean(X_1[:, 0])} {np.mean(X_1[:, 1])}]]')\n",
    "print(f' [{np.mean(X_2[:, 0])} {np.mean(X_2[:, 1])}]]')\n",
    "\n",
    "print()\n",
    "print('covariances')\n",
    "# note: .T because it cov operates on horizontal vectors\n",
    "print(np.cov(X_0.T))\n",
    "print(np.cov(X_1.T))\n",
    "print(np.cov(X_2.T))\n"
   ]
  },
  {
   "cell_type": "markdown",
   "metadata": {},
   "source": [
    "**What Do these Estimations Mean?**\n",
    "\n",
    "* **Weights**: Because there were 2 components estimated, we have the probability weights associated with each distribution.\n",
    "* **Means**: We can see that this returns a 2x2 matrix. This is because our algorithm was initalized with 2 clusters, and we have to estimate the X and y axis.\n",
    "* **Covariances**: Covariance measures the joint variability between 2 random variables. In our case, our two random variables are the X and y axises, independently for the 2 clusters.\n",
    "    $\n",
    "    \\Sigma=\\left[ \\begin{array}{ll}{\\sigma(x, x)} & {\\sigma(x, y)} \\\\ {\\sigma(y, x)} & {\\sigma(y, y)}\\end{array}\\right]\n",
    "    $ \n"
   ]
  },
  {
   "cell_type": "markdown",
   "metadata": {},
   "source": [
    "**Making Predictions**\n",
    "\n",
    "Both soft and hard predictions are supported."
   ]
  },
  {
   "cell_type": "code",
   "execution_count": 5,
   "metadata": {},
   "outputs": [
    {
     "data": {
      "text/plain": [
       "Text(0.5, 1.0, 'GaussianMixture(n_components=2, n_init=10) Prediction Model')"
      ]
     },
     "execution_count": 5,
     "metadata": {},
     "output_type": "execute_result"
    },
    {
     "data": {
      "image/png": "[encoded data removed]",
      "text/plain": [
       "<Figure size 432x288 with 1 Axes>"
      ]
     },
     "metadata": {
      "needs_background": "light"
     },
     "output_type": "display_data"
    }
   ],
   "source": [
    "from mltoolbox.draw.color import map_labels_to_random_color\n",
    "\n",
    "predictions = gm.predict(X)\n",
    "plt.scatter(X[:, 0], X[:, 1], color=map_labels_to_random_color(predictions))\n",
    "plt.title('GaussianMixture(n_components=2, n_init=10) Prediction Model')"
   ]
  },
  {
   "cell_type": "markdown",
   "metadata": {},
   "source": [
    "We observe that the predictions didn't perform as well. Lets try to visualize this in space more concretely. For any sort of hard classification, we should be able to observe a boundary decision.\n",
    "\n",
    "**Hard Decision Boundary**"
   ]
  },
  {
   "cell_type": "code",
   "execution_count": 6,
   "metadata": {},
   "outputs": [
    {
     "data": {
      "text/plain": [
       "Text(0.5, 1.0, 'Gaussian Mixture Model Hard Classification')"
      ]
     },
     "execution_count": 6,
     "metadata": {},
     "output_type": "execute_result"
    },
    {
     "data": {
      "image/png": "[encoded data removed]",
      "text/plain": [
       "<Figure size 432x288 with 2 Axes>"
      ]
     },
     "metadata": {
      "needs_background": "light"
     },
     "output_type": "display_data"
    }
   ],
   "source": [
    "from mltoolbox.draw.classification import plot_2d_decision_boundary_unsupervised\n",
    "\n",
    "plot_2d_decision_boundary_unsupervised([gm], X, (min(X[:,0]), max(X[:,0])), (min(X[:,1]), max(X[:,1])), 100, 100)\n",
    "plt.title('Gaussian Mixture Model Hard Classification')"
   ]
  },
  {
   "cell_type": "markdown",
   "metadata": {},
   "source": [
    "**Soft Classification**\n",
    "\n",
    "We also able to estimate the density or PDF at any location. Density is not probability, but density can be converted to probability, in this case by $e^d$. The way to look at this is, for every instance we estimate \"likelyhood\" that a particular instance falls within any of the regions."
   ]
  },
  {
   "cell_type": "code",
   "execution_count": 7,
   "metadata": {},
   "outputs": [
    {
     "data": {
      "image/png": "[encoded data removed]",
      "text/plain": [
       "<Figure size 432x288 with 2 Axes>"
      ]
     },
     "metadata": {
      "needs_background": "light"
     },
     "output_type": "display_data"
    }
   ],
   "source": [
    "plot_2d_decision_boundary_unsupervised([gm], X, (min(X[:,0]), max(X[:,0])), (min(X[:,1]), max(X[:,1])), 100, 100, soft=True)\n",
    "plt.title('Gaussian Mixture Model Soft Classification')\n",
    "plt.show()"
   ]
  },
  {
   "cell_type": "markdown",
   "metadata": {},
   "source": [
    "## Shape Constrains\n",
    "\n",
    "By constraining the shape of the model, the \"difficulty\" of the algorithm can be reduced. Shapes can be constrained by alterning the `covariance_type`:\n",
    "* spherical: any size sphere.\n",
    "* diag: elliptical in shape, where the axis are parallel to the coordinate axes.\n",
    "* tied: all clusters have the same elliptical shape, size and orientation (same covariance matrix).\n",
    "* full: default option: the cluster can be any size, shape or orientation."
   ]
  },
  {
   "cell_type": "code",
   "execution_count": 8,
   "metadata": {},
   "outputs": [
    {
     "data": {
      "text/plain": [
       "<matplotlib.axes._subplots.AxesSubplot at 0x1a1e33bf98>"
      ]
     },
     "execution_count": 8,
     "metadata": {},
     "output_type": "execute_result"
    },
    {
     "data": {
      "image/png": "[encoded data removed]",
      "text/plain": [
       "<Figure size 864x360 with 4 Axes>"
      ]
     },
     "metadata": {
      "needs_background": "light"
     },
     "output_type": "display_data"
    }
   ],
   "source": [
    "X, y = make_blobs(n_samples=500, centers=5, n_features=2, random_state=0)\n",
    "gm_s = GaussianMixture(n_components=5, n_init=10, covariance_type='spherical')\n",
    "gm_d = GaussianMixture(n_components=5, n_init=10, covariance_type='diag')\n",
    "gm_t = GaussianMixture(n_components=5, n_init=10, covariance_type='tied')\n",
    "\n",
    "gm_s.fit(X)\n",
    "gm_d.fit(X)\n",
    "gm_t.fit(X)\n",
    "\n",
    "\n",
    "plot_2d_decision_boundary_unsupervised([gm_s, gm_d, gm_t],\n",
    "                                       X, (min(X[:,0]),max(X[:,0])),\n",
    "                                       (min(X[:,1]), max(X[:,1])), 100, 100,\n",
    "                                       soft=True, figsize=(12, 5),\n",
    "                                       suptitle='Gaussian Mixture Model Soft Classification')"
   ]
  },
  {
   "cell_type": "markdown",
   "metadata": {},
   "source": [
    "## Automatically Identifying the Optimal Number of Clusters\n",
    "\n",
    "With kmeans we introduced inertia or the silhouette score to identify the optimal number clusters. This approached worked because the algorithm always produces circular clusters. Because Guassian mixtures do not have this constrain, the same memtric cannot be used.\n",
    "\n",
    "Instead, we try to minimize the _Baysian information criterion (BIC)_ or the _Akaike information criterion (AIC)_\n",
    "\n",
    "$$\n",
    "\\begin{aligned} B I C=& \\log (m) p-2 \\log (\\widehat{L}) \\\\ A I C=& 2 p-2 \\log (\\widehat{L}) \\end{aligned}\n",
    "$$"
   ]
  },
  {
   "cell_type": "markdown",
   "metadata": {},
   "source": [
    "Lets break this down these numbers and try to understand what they mean."
   ]
  },
  {
   "cell_type": "code",
   "execution_count": 9,
   "metadata": {},
   "outputs": [
    {
     "data": {
      "application/vnd.plotly.v1+json": {
       "config": {
        "linkText": "Export to plot.ly",
        "plotlyServerURL": "https://plot.ly",
        "showLink": false
       },
       "data": [
        {
         "line": {
          "color": "#0066FF",
          "width": 2
         },
         "mode": "lines",
         "type": "scatter3d",
         "uid": "342044dd-597c-4f36-bedf-dd7d4c81e777",
         "x": [
          1,
          2
         ],
         "y": [
          0.001,
          0.001
         ],
         "z": [
          18.420680743952367,
          23.025850929940457
         ]
        },
        {
         "line": {
          "color": "#0066FF",
          "width": 2
         },
         "mode": "lines",
         "type": "scatter3d",
         "uid": "6fa05193-c699-4282-9bde-be3cff031871",
         "x": [
          1,
          2
         ],
         "y": [
          0.011,
          0.011
         ],
         "z": [
          13.624890198355624,
          18.230060384343716
         ]
        },
        {
         "line": {
          "color": "#0066FF",
          "width": 2
         },
         "mode": "lines",
         "type": "scatter3d",
         "uid": "f2fc0852-7253-4981-a744-f1cb495468c4",
         "x": [
          1,
          2
         ],
         "y": [
          0.020999999999999998,
          0.020999999999999998
         ],
         "z": [
          12.33163586850552,
          16.936806054493612
         ]
        },
        {
         "line": {
          "color": "#0066FF",
          "width": 2
         },
         "mode": "lines",
         "type": "scatter3d",
         "uid": "443d8b47-1a66-45a2-ae95-d30a4bb9e404",
         "x": [
          1,
          2
         ],
         "y": [
          0.030999999999999996,
          0.030999999999999996
         ],
         "z": [
          11.552706334982073,
          16.157876520970166
         ]
        },
        {
         "line": {
          "color": "#0066FF",
          "width": 2
         },
         "mode": "lines",
         "type": "scatter3d",
         "uid": "da1d586e-0312-40c0-888b-0aadc62f9861",
         "x": [
          1,
          2
         ],
         "y": [
          0.040999999999999995,
          0.040999999999999995
         ],
         "z": [
          10.99353661054375,
          15.598706796531843
         ]
        },
        {
         "line": {
          "color": "#0066FF",
          "width": 2
         },
         "mode": "lines",
         "type": "scatter3d",
         "uid": "ea6e550c-4aea-4617-9f19-f0e6ac16830e",
         "x": [
          1,
          2
         ],
         "y": [
          0.05099999999999999,
          0.05099999999999999
         ],
         "z": [
          10.557029478503715,
          15.162199664491807
         ]
        },
        {
         "line": {
          "color": "#0066FF",
          "width": 2
         },
         "mode": "lines",
         "type": "scatter3d",
         "uid": "bab4878a-41cb-4078-8125-386508be9f8e",
         "x": [
          1,
          2
         ],
         "y": [
          0.06099999999999999,
          0.06099999999999999
         ],
         "z": [
          10.198933015605743,
          14.804103201593836
         ]
        },
        {
         "line": {
          "color": "#0066FF",
          "width": 2
         },
         "mode": "lines",
         "type": "scatter3d",
         "uid": "49435166-a19c-472a-a58c-69469b9c7edc",
         "x": [
          1,
          2
         ],
         "y": [
          0.071,
          0.071
         ],
         "z": [
          9.895320989869735,
          14.500491175857828
         ]
        },
        {
         "line": {
          "color": "#0066FF",
          "width": 2
         },
         "mode": "lines",
         "type": "scatter3d",
         "uid": "8b0bb3be-6088-4f97-87f5-7f0096698fe1",
         "x": [
          1,
          2
         ],
         "y": [
          0.08099999999999999,
          0.08099999999999999
         ],
         "z": [
          9.631782434607489,
          14.23695262059558
         ]
        },
        {
         "line": {
          "color": "#0066FF",
          "width": 2
         },
         "mode": "lines",
         "type": "scatter3d",
         "uid": "20227e32-a235-40d6-8929-cf20fbcfd22f",
         "x": [
          1,
          2
         ],
         "y": [
          0.09099999999999998,
          0.09099999999999998
         ],
         "z": [
          9.398961730918666,
          14.004131916906758
         ]
        },
        {
         "line": {
          "color": "#0066FF",
          "width": 2
         },
         "mode": "lines",
         "type": "scatter3d",
         "uid": "ec68d0e4-f3f1-4f7f-aee2-96b079598265",
         "x": [
          1,
          2
         ],
         "y": [
          0.10099999999999998,
          0.10099999999999998
         ],
         "z": [
          9.190439710269848,
          13.79560989625794
         ]
        },
        {
         "line": {
          "color": "#0066FF",
          "width": 2
         },
         "mode": "lines",
         "type": "scatter3d",
         "uid": "8913f088-9a7f-47f5-aa33-cc2300afdcfd",
         "x": [
          1,
          2
         ],
         "y": [
          0.11099999999999999,
          0.11099999999999999
         ],
         "z": [
          9.001620341327698,
          13.60679052731579
         ]
        },
        {
         "line": {
          "color": "#0066FF",
          "width": 2
         },
         "mode": "lines",
         "type": "scatter3d",
         "uid": "76260739-fb01-4e69-8d6d-1a02235a7b7a",
         "x": [
          1,
          2
         ],
         "y": [
          0.12099999999999998,
          0.12099999999999998
         ],
         "z": [
          8.829099652758885,
          13.434269838746975
         ]
        },
        {
         "line": {
          "color": "#0066FF",
          "width": 2
         },
         "mode": "lines",
         "type": "scatter3d",
         "uid": "e337cf53-59d6-42c6-9266-c6acc4bebcb6",
         "x": [
          1,
          2
         ],
         "y": [
          0.13099999999999998,
          0.13099999999999998
         ],
         "z": [
          8.670286097550063,
          13.275456283538155
         ]
        },
        {
         "line": {
          "color": "#0066FF",
          "width": 2
         },
         "mode": "lines",
         "type": "scatter3d",
         "uid": "5eb6a1a5-7916-4991-8411-e3d6fc7f387e",
         "x": [
          1,
          2
         ],
         "y": [
          0.141,
          0.141
         ],
         "z": [
          8.52316096319603,
          13.12833114918412
         ]
        },
        {
         "line": {
          "color": "#0066FF",
          "width": 2
         },
         "mode": "lines",
         "type": "scatter3d",
         "uid": "8be8ca06-8669-443f-b985-8b81269c9834",
         "x": [
          1,
          2
         ],
         "y": [
          0.15099999999999997,
          0.15099999999999997
         ],
         "z": [
          8.386121070322517,
          12.99129125631061
         ]
        },
        {
         "line": {
          "color": "#0066FF",
          "width": 2
         },
         "mode": "lines",
         "type": "scatter3d",
         "uid": "b275a4be-1834-4fa2-ba3d-636b7e2684a4",
         "x": [
          1,
          2
         ],
         "y": [
          0.16099999999999998,
          0.16099999999999998
         ],
         "z": [
          8.257872013983441,
          12.863042199971531
         ]
        },
        {
         "line": {
          "color": "#0066FF",
          "width": 2
         },
         "mode": "lines",
         "type": "scatter3d",
         "uid": "debe8859-50d5-4314-9633-a14197ae7ca2",
         "x": [
          1,
          2
         ],
         "y": [
          0.17099999999999999,
          0.17099999999999999
         ],
         "z": [
          8.137353630947047,
          12.742523816935138
         ]
        },
        {
         "line": {
          "color": "#0066FF",
          "width": 2
         },
         "mode": "lines",
         "type": "scatter3d",
         "uid": "191a7267-0aeb-43b3-b5e7-3a267b30a673",
         "x": [
          1,
          2
         ],
         "y": [
          0.18099999999999997,
          0.18099999999999997
         ],
         "z": [
          8.023686681420715,
          12.628856867408807
         ]
        },
        {
         "line": {
          "color": "#0066FF",
          "width": 2
         },
         "mode": "lines",
         "type": "scatter3d",
         "uid": "23552d46-3f69-49be-9dcf-3afc0d3d74a7",
         "x": [
          1,
          2
         ],
         "y": [
          0.19099999999999998,
          0.19099999999999998
         ],
         "z": [
          7.9161338878591065,
          12.521304073847197
         ]
        },
        {
         "line": {
          "color": "#0066FF",
          "width": 2
         },
         "mode": "lines",
         "type": "scatter3d",
         "uid": "12040fdc-d80c-4d86-a503-73b99cf9f91e",
         "x": [
          1,
          2
         ],
         "y": [
          0.20099999999999996,
          0.20099999999999996
         ],
         "z": [
          7.814070927834215,
          12.419241113822306
         ]
        },
        {
         "line": {
          "color": "#0066FF",
          "width": 2
         },
         "mode": "lines",
         "type": "scatter3d",
         "uid": "7a3a6784-8011-43eb-91dd-685249398b6b",
         "x": [
          1,
          2
         ],
         "y": [
          0.21099999999999997,
          0.21099999999999997
         ],
         "z": [
          7.716964477000233,
          12.322134662988326
         ]
        },
        {
         "line": {
          "color": "#0066FF",
          "width": 2
         },
         "mode": "lines",
         "type": "scatter3d",
         "uid": "513db177-1c2f-4987-8abb-1362ec01b2ad",
         "x": [
          1,
          2
         ],
         "y": [
          0.22099999999999997,
          0.22099999999999997
         ],
         "z": [
          7.6243553409168605,
          12.229525526904952
         ]
        },
        {
         "line": {
          "color": "#0066FF",
          "width": 2
         },
         "mode": "lines",
         "type": "scatter3d",
         "uid": "11e940f3-d92f-417c-8c8c-7e86c0d34a1c",
         "x": [
          1,
          2
         ],
         "y": [
          0.23099999999999996,
          0.23099999999999996
         ],
         "z": [
          7.535845322908779,
          12.14101550889687
         ]
        },
        {
         "line": {
          "color": "#0066FF",
          "width": 2
         },
         "mode": "lines",
         "type": "scatter3d",
         "uid": "ad2d4bf7-c225-4e15-9f98-f5c41d49bd00",
         "x": [
          1,
          2
         ],
         "y": [
          0.24099999999999996,
          0.24099999999999996
         ],
         "z": [
          7.451086876971056,
          12.056257062959148
         ]
        },
        {
         "line": {
          "color": "#0066FF",
          "width": 2
         },
         "mode": "lines",
         "type": "scatter3d",
         "uid": "e0c942e8-ec63-415d-a218-716fbdc3f0a9",
         "x": [
          1,
          2
         ],
         "y": [
          0.25099999999999995,
          0.25099999999999995
         ],
         "z": [
          7.3697748656887985,
          11.97494505167689
         ]
        },
        {
         "line": {
          "color": "#0066FF",
          "width": 2
         },
         "mode": "lines",
         "type": "scatter3d",
         "uid": "f28422c8-aea3-4faf-b759-98960c5a1c64",
         "x": [
          1,
          2
         ],
         "y": [
          0.26099999999999995,
          0.26099999999999995
         ],
         "z": [
          7.29163992930698,
          11.896810115295072
         ]
        },
        {
         "line": {
          "color": "#0066FF",
          "width": 2
         },
         "mode": "lines",
         "type": "scatter3d",
         "uid": "fc2b636b-c159-4b48-b315-c07faffce714",
         "x": [
          1,
          2
         ],
         "y": [
          0.27099999999999996,
          0.27099999999999996
         ],
         "z": [
          7.216443102192964,
          11.821613288181055
         ]
        },
        {
         "line": {
          "color": "#0066FF",
          "width": 2
         },
         "mode": "lines",
         "type": "scatter3d",
         "uid": "7d9934e2-0c44-4572-98fd-b9a8cffd2a71",
         "x": [
          1,
          2
         ],
         "y": [
          0.28099999999999997,
          0.28099999999999997
         ],
         "z": [
          7.143971405284875,
          11.749141591272966
         ]
        },
        {
         "line": {
          "color": "#0066FF",
          "width": 2
         },
         "mode": "lines",
         "type": "scatter3d",
         "uid": "10d89ca5-e3e9-4eb1-a1a4-d9f74495b026",
         "x": [
          1,
          2
         ],
         "y": [
          0.291,
          0.291
         ],
         "z": [
          7.074034209609382,
          11.679204395597473
         ]
        },
        {
         "line": {
          "color": "#0066FF",
          "width": 2
         },
         "mode": "lines",
         "type": "scatter3d",
         "uid": "ef8f6660-f237-4bad-bd11-a9e84397d9c4",
         "x": [
          1,
          2
         ],
         "y": [
          0.30099999999999993,
          0.30099999999999993
         ],
         "z": [
          7.006460214454615,
          11.611630400442706
         ]
        },
        {
         "line": {
          "color": "#0066FF",
          "width": 2
         },
         "mode": "lines",
         "type": "scatter3d",
         "uid": "ffeba388-d572-42e8-9724-abd90847b7fd",
         "x": [
          1,
          2
         ],
         "y": [
          0.31099999999999994,
          0.31099999999999994
         ],
         "z": [
          6.941094919593898,
          11.54626510558199
         ]
        },
        {
         "line": {
          "color": "#0066FF",
          "width": 2
         },
         "mode": "lines",
         "type": "scatter3d",
         "uid": "452a875f-baac-493a-b315-fe65c7eaf63b",
         "x": [
          1,
          2
         ],
         "y": [
          0.32099999999999995,
          0.32099999999999995
         ],
         "z": [
          6.877798497692334,
          11.482968683680426
         ]
        },
        {
         "line": {
          "color": "#0066FF",
          "width": 2
         },
         "mode": "lines",
         "type": "scatter3d",
         "uid": "8d8ef2ac-c93f-41fa-8d37-e7ffcd43d53d",
         "x": [
          1,
          2
         ],
         "y": [
          0.33099999999999996,
          0.33099999999999996
         ],
         "z": [
          6.81644399319824,
          11.421614179186331
         ]
        },
        {
         "line": {
          "color": "#0066FF",
          "width": 2
         },
         "mode": "lines",
         "type": "scatter3d",
         "uid": "5e2bc227-823b-463a-bd2c-2502ca196548",
         "x": [
          1,
          2
         ],
         "y": [
          0.34099999999999997,
          0.34099999999999997
         ],
         "z": [
          6.756915789385332,
          11.362085975373425
         ]
        },
        {
         "line": {
          "color": "#0066FF",
          "width": 2
         },
         "mode": "lines",
         "type": "scatter3d",
         "uid": "d9da4fa0-390e-4ad3-8026-cac819e7a99d",
         "x": [
          1,
          2
         ],
         "y": [
          0.3509999999999999,
          0.3509999999999999
         ],
         "z": [
          6.699108297020635,
          11.304278483008726
         ]
        },
        {
         "line": {
          "color": "#0066FF",
          "width": 2
         },
         "mode": "lines",
         "type": "scatter3d",
         "uid": "b475a53f-b56b-464d-94b7-51292401ae2f",
         "x": [
          1,
          2
         ],
         "y": [
          0.36099999999999993,
          0.36099999999999993
         ],
         "z": [
          6.642924827286604,
          11.248095013274696
         ]
        },
        {
         "line": {
          "color": "#0066FF",
          "width": 2
         },
         "mode": "lines",
         "type": "scatter3d",
         "uid": "5b6aa9d7-5003-4fb6-a581-6f0eee11e166",
         "x": [
          1,
          2
         ],
         "y": [
          0.37099999999999994,
          0.37099999999999994
         ],
         "z": [
          6.5882766187374955,
          11.193446804725587
         ]
        },
        {
         "line": {
          "color": "#0066FF",
          "width": 2
         },
         "mode": "lines",
         "type": "scatter3d",
         "uid": "91652a9d-cfb7-490f-b1bb-a59b8d24b644",
         "x": [
          1,
          2
         ],
         "y": [
          0.38099999999999995,
          0.38099999999999995
         ],
         "z": [
          6.535081993698964,
          11.140252179687057
         ]
        },
        {
         "line": {
          "color": "#0066FF",
          "width": 2
         },
         "mode": "lines",
         "type": "scatter3d",
         "uid": "3cf524eb-49ae-4692-b5d1-d07422ce537e",
         "x": [
          1,
          2
         ],
         "y": [
          0.39099999999999996,
          0.39099999999999996
         ],
         "z": [
          6.483265623981635,
          11.088435809969727
         ]
        },
        {
         "line": {
          "color": "#0066FF",
          "width": 2
         },
         "mode": "lines",
         "type": "scatter3d",
         "uid": "a724ece3-a699-4910-a3c6-b5a3f6031c54",
         "x": [
          1,
          2
         ],
         "y": [
          0.4009999999999999,
          0.4009999999999999
         ],
         "z": [
          6.432757889339228,
          11.03792807532732
         ]
        },
        {
         "line": {
          "color": "#0066FF",
          "width": 2
         },
         "mode": "lines",
         "type": "scatter3d",
         "uid": "50ee3745-1f29-409c-ad68-14ef1dc2e68f",
         "x": [
          1,
          2
         ],
         "y": [
          0.4109999999999999,
          0.4109999999999999
         ],
         "z": [
          6.383494314959897,
          10.988664500947989
         ]
        },
        {
         "line": {
          "color": "#0066FF",
          "width": 2
         },
         "mode": "lines",
         "type": "scatter3d",
         "uid": "82a607c4-f3e1-4835-adaa-cab62ceb0160",
         "x": [
          1,
          2
         ],
         "y": [
          0.42099999999999993,
          0.42099999999999993
         ],
         "z": [
          6.335415076587603,
          10.940585262575695
         ]
        },
        {
         "line": {
          "color": "#0066FF",
          "width": 2
         },
         "mode": "lines",
         "type": "scatter3d",
         "uid": "91751a8c-ab85-4abd-8230-b5d27a713089",
         "x": [
          1,
          2
         ],
         "y": [
          0.43099999999999994,
          0.43099999999999994
         ],
         "z": [
          6.288464563744871,
          10.893634749732962
         ]
        },
        {
         "line": {
          "color": "#0066FF",
          "width": 2
         },
         "mode": "lines",
         "type": "scatter3d",
         "uid": "6519f233-4d6b-4bc5-91d0-cc2ef9c40204",
         "x": [
          1,
          2
         ],
         "y": [
          0.44099999999999995,
          0.44099999999999995
         ],
         "z": [
          6.242590993058674,
          10.847761179046767
         ]
        },
        {
         "line": {
          "color": "#0066FF",
          "width": 2
         },
         "mode": "lines",
         "type": "scatter3d",
         "uid": "065398fa-3fb9-4bf9-8e55-3f59e0a6f31d",
         "x": [
          1,
          2
         ],
         "y": [
          0.45099999999999996,
          0.45099999999999996
         ],
         "z": [
          6.197746064947009,
          10.802916250935102
         ]
        },
        {
         "line": {
          "color": "#0066FF",
          "width": 2
         },
         "mode": "lines",
         "type": "scatter3d",
         "uid": "eedba6d5-6b9b-48ea-b1a5-c14b3593b9e1",
         "x": [
          1,
          2
         ],
         "y": [
          0.4609999999999999,
          0.4609999999999999
         ],
         "z": [
          6.153884657959069,
          10.759054843947162
         ]
        },
        {
         "line": {
          "color": "#0066FF",
          "width": 2
         },
         "mode": "lines",
         "type": "scatter3d",
         "uid": "477f67b2-c019-4861-a8c7-9bd7b88db4ff",
         "x": [
          1,
          2
         ],
         "y": [
          0.4709999999999999,
          0.4709999999999999
         ],
         "z": [
          6.110964555919531,
          10.716134741907622
         ]
        },
        {
         "line": {
          "color": "#0066FF",
          "width": 2
         },
         "mode": "lines",
         "type": "scatter3d",
         "uid": "6db94df8-0227-456a-9a90-55688ce53a85",
         "x": [
          1,
          2
         ],
         "y": [
          0.4809999999999999,
          0.4809999999999999
         ],
         "z": [
          6.068946203740844,
          10.674116389728935
         ]
        },
        {
         "line": {
          "color": "#0066FF",
          "width": 2
         },
         "mode": "lines",
         "type": "scatter3d",
         "uid": "885791b6-134c-4c85-8c27-287a7f8e5c53",
         "x": [
          1,
          2
         ],
         "y": [
          0.49099999999999994,
          0.49099999999999994
         ],
         "z": [
          6.027792488363325,
          10.632962674351417
         ]
        },
        {
         "line": {
          "color": "#0066FF",
          "width": 2
         },
         "mode": "lines",
         "type": "scatter3d",
         "uid": "32514a23-02e4-4da4-b3df-8ed6646bfe0f",
         "x": [
          1,
          2
         ],
         "y": [
          0.5009999999999999,
          0.5009999999999999
         ],
         "z": [
          5.987468541782636,
          10.592638727770728
         ]
        },
        {
         "line": {
          "color": "#0066FF",
          "width": 2
         },
         "mode": "lines",
         "type": "scatter3d",
         "uid": "5c924dbd-6b41-4cce-a94c-3c370ed054fa",
         "x": [
          1,
          2
         ],
         "y": [
          0.5109999999999999,
          0.5109999999999999
         ],
         "z": [
          5.9479415635449575,
          10.553111749533048
         ]
        },
        {
         "line": {
          "color": "#0066FF",
          "width": 2
         },
         "mode": "lines",
         "type": "scatter3d",
         "uid": "053ca1a1-0795-4277-a19b-66cfd240d3b6",
         "x": [
          1,
          2
         ],
         "y": [
          0.5209999999999999,
          0.5209999999999999
         ],
         "z": [
          5.9091806604456325,
          10.514350846433725
         ]
        },
        {
         "line": {
          "color": "#0066FF",
          "width": 2
         },
         "mode": "lines",
         "type": "scatter3d",
         "uid": "f94a88ca-da12-4bf1-8fe2-53c5b2d8a30e",
         "x": [
          1,
          2
         ],
         "y": [
          0.5309999999999999,
          0.5309999999999999
         ],
         "z": [
          5.871156701468489,
          10.47632688745658
         ]
        },
        {
         "line": {
          "color": "#0066FF",
          "width": 2
         },
         "mode": "lines",
         "type": "scatter3d",
         "uid": "13272894-7a2c-4bb2-9980-f22524a49303",
         "x": [
          1,
          2
         ],
         "y": [
          0.5409999999999999,
          0.5409999999999999
         ],
         "z": [
          5.833842186259403,
          10.439012372247495
         ]
        },
        {
         "line": {
          "color": "#0066FF",
          "width": 2
         },
         "mode": "lines",
         "type": "scatter3d",
         "uid": "519f4268-5b29-410e-84fd-93d765e38052",
         "x": [
          1,
          2
         ],
         "y": [
          0.5509999999999999,
          0.5509999999999999
         ],
         "z": [
          5.7972111256465375,
          10.40238131163463
         ]
        },
        {
         "line": {
          "color": "#0066FF",
          "width": 2
         },
         "mode": "lines",
         "type": "scatter3d",
         "uid": "9c83a2d7-242c-4ce6-a1ab-18169c69b332",
         "x": [
          1,
          2
         ],
         "y": [
          0.5609999999999999,
          0.5609999999999999
         ],
         "z": [
          5.7612389329069735,
          10.366409118895065
         ]
        },
        {
         "line": {
          "color": "#0066FF",
          "width": 2
         },
         "mode": "lines",
         "type": "scatter3d",
         "uid": "68cbb753-0421-4ddb-8680-f93af80155b8",
         "x": [
          1,
          2
         ],
         "y": [
          0.571,
          0.571
         ],
         "z": [
          5.725902324640345,
          10.331072510628438
         ]
        },
        {
         "line": {
          "color": "#0066FF",
          "width": 2
         },
         "mode": "lines",
         "type": "scatter3d",
         "uid": "885e6fc2-a144-4f7c-bf03-fca7f73a5489",
         "x": [
          1,
          2
         ],
         "y": [
          0.581,
          0.581
         ],
         "z": [
          5.691179230248544,
          10.296349416236636
         ]
        },
        {
         "line": {
          "color": "#0066FF",
          "width": 2
         },
         "mode": "lines",
         "type": "scatter3d",
         "uid": "a39156ea-0851-419d-9ae7-46e0757a22c6",
         "x": [
          1,
          2
         ],
         "y": [
          0.5909999999999999,
          0.5909999999999999
         ],
         "z": [
          5.65704870914017,
          10.262218895128262
         ]
        },
        {
         "line": {
          "color": "#0066FF",
          "width": 2
         },
         "mode": "lines",
         "type": "scatter3d",
         "uid": "b3bc9035-4903-40af-b3ee-cc66d19d0703",
         "x": [
          1,
          2
         ],
         "y": [
          0.6009999999999999,
          0.6009999999999999
         ],
         "z": [
          5.623490874881951,
          10.228661060870042
         ]
        },
        {
         "line": {
          "color": "#0066FF",
          "width": 2
         },
         "mode": "lines",
         "type": "scatter3d",
         "uid": "b55cda36-daf5-4292-b2cf-a6657916a289",
         "x": [
          1,
          2
         ],
         "y": [
          0.6109999999999999,
          0.6109999999999999
         ],
         "z": [
          5.590486825609176,
          10.195657011597268
         ]
        },
        {
         "line": {
          "color": "#0066FF",
          "width": 2
         },
         "mode": "lines",
         "type": "scatter3d",
         "uid": "3dde6655-5093-4627-8b7c-9e7dd29f6f5a",
         "x": [
          1,
          2
         ],
         "y": [
          0.6209999999999999,
          0.6209999999999999
         ],
         "z": [
          5.558018580085409,
          10.1631887660735
         ]
        },
        {
         "line": {
          "color": "#0066FF",
          "width": 2
         },
         "mode": "lines",
         "type": "scatter3d",
         "uid": "e3951d76-297f-4169-aefc-728671ff67c7",
         "x": [
          1,
          2
         ],
         "y": [
          0.6309999999999999,
          0.6309999999999999
         ],
         "z": [
          5.52606901886994,
          10.131239204858032
         ]
        },
        {
         "line": {
          "color": "#0066FF",
          "width": 2
         },
         "mode": "lines",
         "type": "scatter3d",
         "uid": "edefb20f-f3ee-4eb9-a2e0-691a815847fd",
         "x": [
          1,
          2
         ],
         "y": [
          0.6409999999999999,
          0.6409999999999999
         ],
         "z": [
          5.494621830111026,
          10.099792016099117
         ]
        },
        {
         "line": {
          "color": "#0066FF",
          "width": 2
         },
         "mode": "lines",
         "type": "scatter3d",
         "uid": "be390d7f-74e1-46ae-afc5-0f08d0d21013",
         "x": [
          1,
          2
         ],
         "y": [
          0.6509999999999999,
          0.6509999999999999
         ],
         "z": [
          5.463661459535228,
          10.06883164552332
         ]
        },
        {
         "line": {
          "color": "#0066FF",
          "width": 2
         },
         "mode": "lines",
         "type": "scatter3d",
         "uid": "dd3f7c4c-8045-4d3c-be68-311460d97197",
         "x": [
          1,
          2
         ],
         "y": [
          0.6609999999999999,
          0.6609999999999999
         ],
         "z": [
          5.433173064248994,
          10.038343250237086
         ]
        },
        {
         "line": {
          "color": "#0066FF",
          "width": 2
         },
         "mode": "lines",
         "type": "scatter3d",
         "uid": "d119a028-4240-4873-a4b3-b4a38738518f",
         "x": [
          1,
          2
         ],
         "y": [
          0.6709999999999999,
          0.6709999999999999
         ],
         "z": [
          5.403142470009002,
          10.008312655997095
         ]
        },
        {
         "line": {
          "color": "#0066FF",
          "width": 2
         },
         "mode": "lines",
         "type": "scatter3d",
         "uid": "281a04b6-f57f-4b55-b527-59eb0dc93844",
         "x": [
          1,
          2
         ],
         "y": [
          0.6809999999999999,
          0.6809999999999999
         ],
         "z": [
          5.373556131653341,
          9.978726317641433
         ]
        },
        {
         "line": {
          "color": "#0066FF",
          "width": 2
         },
         "mode": "lines",
         "type": "scatter3d",
         "uid": "e3f972d9-f175-4f64-894d-62a2b569f006",
         "x": [
          1,
          2
         ],
         "y": [
          0.691,
          0.691
         ],
         "z": [
          5.344401096417027,
          9.949571282405119
         ]
        },
        {
         "line": {
          "color": "#0066FF",
          "width": 2
         },
         "mode": "lines",
         "type": "scatter3d",
         "uid": "9494632d-aba4-4375-a86f-68c72854abe8",
         "x": [
          1,
          2
         ],
         "y": [
          0.7009999999999998,
          0.7009999999999998
         ],
         "z": [
          5.315664969883186,
          9.920835155871277
         ]
        },
        {
         "line": {
          "color": "#0066FF",
          "width": 2
         },
         "mode": "lines",
         "type": "scatter3d",
         "uid": "dea0db7d-1965-4132-8e69-f8b9f0c9e093",
         "x": [
          1,
          2
         ],
         "y": [
          0.7109999999999999,
          0.7109999999999999
         ],
         "z": [
          5.287335884345884,
          9.892506070333976
         ]
        },
        {
         "line": {
          "color": "#0066FF",
          "width": 2
         },
         "mode": "lines",
         "type": "scatter3d",
         "uid": "bcac59ae-8c27-46b2-80b9-aeaed50963fb",
         "x": [
          1,
          2
         ],
         "y": [
          0.7209999999999999,
          0.7209999999999999
         ],
         "z": [
          5.259402469382469,
          9.86457265537056
         ]
        },
        {
         "line": {
          "color": "#0066FF",
          "width": 2
         },
         "mode": "lines",
         "type": "scatter3d",
         "uid": "d99475f1-baf0-4c36-87d2-534ac9164888",
         "x": [
          1,
          2
         ],
         "y": [
          0.7309999999999999,
          0.7309999999999999
         ],
         "z": [
          5.231853824452809,
          9.837024010440901
         ]
        },
        {
         "line": {
          "color": "#0066FF",
          "width": 2
         },
         "mode": "lines",
         "type": "scatter3d",
         "uid": "3ace9c88-4387-47da-ab45-de0874cebce7",
         "x": [
          1,
          2
         ],
         "y": [
          0.7409999999999999,
          0.7409999999999999
         ],
         "z": [
          5.204679493360192,
          9.809849679348284
         ]
        },
        {
         "line": {
          "color": "#0066FF",
          "width": 2
         },
         "mode": "lines",
         "type": "scatter3d",
         "uid": "307cc3d9-2260-4558-8096-432a084606a5",
         "x": [
          1,
          2
         ],
         "y": [
          0.7509999999999999,
          0.7509999999999999
         ],
         "z": [
          5.177869440424097,
          9.783039626412188
         ]
        },
        {
         "line": {
          "color": "#0066FF",
          "width": 2
         },
         "mode": "lines",
         "type": "scatter3d",
         "uid": "31ee8870-98fd-4c69-a02c-f9b187d591c5",
         "x": [
          1,
          2
         ],
         "y": [
          0.7609999999999999,
          0.7609999999999999
         ],
         "z": [
          5.151414028228994,
          9.756584214217087
         ]
        },
        {
         "line": {
          "color": "#0066FF",
          "width": 2
         },
         "mode": "lines",
         "type": "scatter3d",
         "uid": "f680e2fb-67ad-4180-8f84-0908bbb861b6",
         "x": [
          1,
          2
         ],
         "y": [
          0.7709999999999999,
          0.7709999999999999
         ],
         "z": [
          5.125303996825707,
          9.730474182813799
         ]
        },
        {
         "line": {
          "color": "#0066FF",
          "width": 2
         },
         "mode": "lines",
         "type": "scatter3d",
         "uid": "ed3aea1f-9833-495d-a38a-489c6e54b1db",
         "x": [
          1,
          2
         ],
         "y": [
          0.7809999999999999,
          0.7809999999999999
         ],
         "z": [
          5.099530444272994,
          9.704700630261087
         ]
        },
        {
         "line": {
          "color": "#0066FF",
          "width": 2
         },
         "mode": "lines",
         "type": "scatter3d",
         "uid": "160a5e3b-6e85-45d1-b1b2-2ac01a0a843c",
         "x": [
          1,
          2
         ],
         "y": [
          0.7909999999999999,
          0.7909999999999999
         ],
         "z": [
          5.074084808417059,
          9.67925499440515
         ]
        },
        {
         "line": {
          "color": "#0066FF",
          "width": 2
         },
         "mode": "lines",
         "type": "scatter3d",
         "uid": "13243cce-7b70-49e9-a9e0-3d11f9b8d78a",
         "x": [
          1,
          2
         ],
         "y": [
          0.8009999999999998,
          0.8009999999999998
         ],
         "z": [
          5.048958849815648,
          9.65412903580374
         ]
        },
        {
         "line": {
          "color": "#0066FF",
          "width": 2
         },
         "mode": "lines",
         "type": "scatter3d",
         "uid": "904b19fd-bc75-44c2-a7fb-d92af6b63482",
         "x": [
          1,
          2
         ],
         "y": [
          0.8109999999999998,
          0.8109999999999998
         ],
         "z": [
          5.024144635721541,
          9.629314821709633
         ]
        },
        {
         "line": {
          "color": "#0066FF",
          "width": 2
         },
         "mode": "lines",
         "type": "scatter3d",
         "uid": "3035e487-0ccb-47e4-87b2-19a2683e94e7",
         "x": [
          1,
          2
         ],
         "y": [
          0.8209999999999998,
          0.8209999999999998
         ],
         "z": [
          4.99963452504751,
          9.604804711035602
         ]
        },
        {
         "line": {
          "color": "#0066FF",
          "width": 2
         },
         "mode": "lines",
         "type": "scatter3d",
         "uid": "d65d4ca5-bb54-4f91-9349-23b1f6a73ac8",
         "x": [
          1,
          2
         ],
         "y": [
          0.8309999999999998,
          0.8309999999999998
         ],
         "z": [
          4.97542115424147,
          9.580591340229562
         ]
        },
        {
         "line": {
          "color": "#0066FF",
          "width": 2
         },
         "mode": "lines",
         "type": "scatter3d",
         "uid": "706d1e30-8676-4933-8487-7749650487d0",
         "x": [
          1,
          2
         ],
         "y": [
          0.8409999999999999,
          0.8409999999999999
         ],
         "z": [
          4.95149742400647,
          9.556667609994562
         ]
        },
        {
         "line": {
          "color": "#0066FF",
          "width": 2
         },
         "mode": "lines",
         "type": "scatter3d",
         "uid": "459eba16-3c2a-43c2-b509-898df7f665fe",
         "x": [
          1,
          2
         ],
         "y": [
          0.8509999999999999,
          0.8509999999999999
         ],
         "z": [
          4.927856486805618,
          9.53302667279371
         ]
        },
        {
         "line": {
          "color": "#0066FF",
          "width": 2
         },
         "mode": "lines",
         "type": "scatter3d",
         "uid": "631892e6-3918-4662-bb6a-2f78ed73bb50",
         "x": [
          1,
          2
         ],
         "y": [
          0.8609999999999999,
          0.8609999999999999
         ],
         "z": [
          4.904491735096904,
          9.509661921084996
         ]
        },
        {
         "line": {
          "color": "#0066FF",
          "width": 2
         },
         "mode": "lines",
         "type": "scatter3d",
         "uid": "18f983e9-bd04-48ce-9512-cd3fb686a8ce",
         "x": [
          1,
          2
         ],
         "y": [
          0.8709999999999999,
          0.8709999999999999
         ],
         "z": [
          4.8813967902473605,
          9.486566976235453
         ]
        },
        {
         "line": {
          "color": "#0066FF",
          "width": 2
         },
         "mode": "lines",
         "type": "scatter3d",
         "uid": "1c57c22b-aff4-47d8-8136-327702c2a306",
         "x": [
          1,
          2
         ],
         "y": [
          0.8809999999999999,
          0.8809999999999999
         ],
         "z": [
          4.858565492080007,
          9.4637356780681
         ]
        },
        {
         "line": {
          "color": "#0066FF",
          "width": 2
         },
         "mode": "lines",
         "type": "scatter3d",
         "uid": "39aa4d51-994a-468e-8dfd-8b7a78fb5a31",
         "x": [
          1,
          2
         ],
         "y": [
          0.8909999999999999,
          0.8909999999999999
         ],
         "z": [
          4.835991889010748,
          9.44116207499884
         ]
        },
        {
         "line": {
          "color": "#0066FF",
          "width": 2
         },
         "mode": "lines",
         "type": "scatter3d",
         "uid": "fc0866d5-c7c9-40b0-a407-8d8923a02f61",
         "x": [
          1,
          2
         ],
         "y": [
          0.9009999999999999,
          0.9009999999999999
         ],
         "z": [
          4.81367022873569,
          9.418840414723782
         ]
        },
        {
         "line": {
          "color": "#0066FF",
          "width": 2
         },
         "mode": "lines",
         "type": "scatter3d",
         "uid": "00c9795f-fefd-40d8-a612-9428b1deee7a",
         "x": [
          1,
          2
         ],
         "y": [
          0.9109999999999998,
          0.9109999999999998
         ],
         "z": [
          4.79159494943245,
          9.39676513542054
         ]
        },
        {
         "line": {
          "color": "#0066FF",
          "width": 2
         },
         "mode": "lines",
         "type": "scatter3d",
         "uid": "66c1545a-d533-4c59-bde4-1934527bbb96",
         "x": [
          1,
          2
         ],
         "y": [
          0.9209999999999998,
          0.9209999999999998
         ],
         "z": [
          4.769760671441753,
          9.374930857429844
         ]
        },
        {
         "line": {
          "color": "#0066FF",
          "width": 2
         },
         "mode": "lines",
         "type": "scatter3d",
         "uid": "7a5a0ae6-f218-46d5-a311-2f56d93a473c",
         "x": [
          1,
          2
         ],
         "y": [
          0.9309999999999998,
          0.9309999999999998
         ],
         "z": [
          4.748162189398232,
          9.353332375386325
         ]
        },
        {
         "line": {
          "color": "#0066FF",
          "width": 2
         },
         "mode": "lines",
         "type": "scatter3d",
         "uid": "eb91ae4d-97dd-409d-9be2-c4595f6f17c5",
         "x": [
          1,
          2
         ],
         "y": [
          0.9409999999999998,
          0.9409999999999998
         ],
         "z": [
          4.726794464781607,
          9.331964650769699
         ]
        },
        {
         "line": {
          "color": "#0066FF",
          "width": 2
         },
         "mode": "lines",
         "type": "scatter3d",
         "uid": "c280e93d-df9d-4463-9e12-bf838f9f1f28",
         "x": [
          1,
          2
         ],
         "y": [
          0.9509999999999998,
          0.9509999999999998
         ],
         "z": [
          4.705652618861586,
          9.310822804849677
         ]
        },
        {
         "line": {
          "color": "#0066FF",
          "width": 2
         },
         "mode": "lines",
         "type": "scatter3d",
         "uid": "4573fdd7-0185-4eb8-81d8-a702781fb952",
         "x": [
          1,
          2
         ],
         "y": [
          0.9609999999999999,
          0.9609999999999999
         ],
         "z": [
          4.684731926011781,
          9.289902111999872
         ]
        },
        {
         "line": {
          "color": "#0066FF",
          "width": 2
         },
         "mode": "lines",
         "type": "scatter3d",
         "uid": "ca2fd32b-987e-4d7b-ab7a-e106d437d3ef",
         "x": [
          1,
          2
         ],
         "y": [
          0.9709999999999999,
          0.9709999999999999
         ],
         "z": [
          4.664027807369717,
          9.269197993357809
         ]
        },
        {
         "line": {
          "color": "#0066FF",
          "width": 2
         },
         "mode": "lines",
         "type": "scatter3d",
         "uid": "a677d3ca-6acb-42d4-b1bb-9de5660449d7",
         "x": [
          1,
          2
         ],
         "y": [
          0.9809999999999999,
          0.9809999999999999
         ],
         "z": [
          4.64353582482164,
          9.248706010809732
         ]
        },
        {
         "line": {
          "color": "#0066FF",
          "width": 2
         },
         "mode": "lines",
         "type": "scatter3d",
         "uid": "6fc2740a-394f-44ba-9f65-3b16db1eefc8",
         "x": [
          1,
          2
         ],
         "y": [
          0.9909999999999999,
          0.9909999999999999
         ],
         "z": [
          4.62325167529239,
          9.228421861280482
         ]
        }
       ],
       "layout": {
        "autosize": true,
        "scene": {
         "aspectmode": "auto",
         "aspectratio": {
          "x": 1,
          "y": 1,
          "z": 1
         },
         "xaxis": {
          "backgroundcolor": "rgb(230, 230,230)",
          "gridcolor": "rgb(255, 255, 255)",
          "showbackground": true,
          "title": {
           "text": "p"
          },
          "type": "linear",
          "zerolinecolor": "rgb(255, 255, 255)"
         },
         "yaxis": {
          "backgroundcolor": "rgb(230, 230,230)",
          "gridcolor": "rgb(255, 255, 255)",
          "showbackground": true,
          "title": {
           "text": "L"
          },
          "type": "linear",
          "zerolinecolor": "rgb(255, 255, 255)"
         },
         "zaxis": {
          "backgroundcolor": "rgb(230, 230,230)",
          "gridcolor": "rgb(255, 255, 255)",
          "showbackground": true,
          "title": {
           "text": "BIC"
          },
          "type": "linear",
          "zerolinecolor": "rgb(255, 255, 255)"
         }
        },
        "showlegend": false,
        "title": {
         "text": "BIC - L:Likelyhood, p:number parameters"
        }
       }
      }
     },
     "metadata": {},
     "output_type": "display_data"
    }
   ],
   "source": [
    "import math\n",
    "from mltoolbox.draw.math import plotly_3d_functions\n",
    "from plotly.offline import iplot\n",
    "\n",
    "\n",
    "m = 100\n",
    "bic = lambda p, L : np.log(m)*p-2*np.log(L)\n",
    "aic = lambda p, L : 2*p-2*np.log(L)\n",
    "\n",
    "fig1 = plotly_3d_functions(bic, np.arange(1, 3, 1), np.arange(.001, 1, .01), \n",
    "                           title='BIC - L:Likelyhood, p:number parameters',\n",
    "                           xaxis_title='p', yaxis_title='L', zaxis_title='BIC')\n",
    "iplot(fig1)"
   ]
  },
  {
   "cell_type": "code",
   "execution_count": 10,
   "metadata": {},
   "outputs": [
    {
     "data": {
      "application/vnd.plotly.v1+json": {
       "config": {
        "linkText": "Export to plot.ly",
        "plotlyServerURL": "https://plot.ly",
        "showLink": false
       },
       "data": [
        {
         "line": {
          "color": "#0066FF",
          "width": 2
         },
         "mode": "lines",
         "type": "scatter3d",
         "uid": "5d348147-6e1d-4011-84cc-b73b4a4271b2",
         "x": [
          1,
          2
         ],
         "y": [
          0.001,
          0.001
         ],
         "z": [
          18.420680743952367,
          23.025850929940457
         ]
        },
        {
         "line": {
          "color": "#0066FF",
          "width": 2
         },
         "mode": "lines",
         "type": "scatter3d",
         "uid": "6b509b8f-a547-4445-9fc3-e490445619fd",
         "x": [
          1,
          2
         ],
         "y": [
          0.011,
          0.011
         ],
         "z": [
          13.624890198355624,
          18.230060384343716
         ]
        },
        {
         "line": {
          "color": "#0066FF",
          "width": 2
         },
         "mode": "lines",
         "type": "scatter3d",
         "uid": "d8689b69-4b37-4a8c-b801-7422f7e21c8a",
         "x": [
          1,
          2
         ],
         "y": [
          0.020999999999999998,
          0.020999999999999998
         ],
         "z": [
          12.33163586850552,
          16.936806054493612
         ]
        },
        {
         "line": {
          "color": "#0066FF",
          "width": 2
         },
         "mode": "lines",
         "type": "scatter3d",
         "uid": "31ff4073-3f31-41ac-8817-a984b1e238f9",
         "x": [
          1,
          2
         ],
         "y": [
          0.030999999999999996,
          0.030999999999999996
         ],
         "z": [
          11.552706334982073,
          16.157876520970166
         ]
        },
        {
         "line": {
          "color": "#0066FF",
          "width": 2
         },
         "mode": "lines",
         "type": "scatter3d",
         "uid": "63e48006-b0e3-4aaf-8953-3bcf8182cf27",
         "x": [
          1,
          2
         ],
         "y": [
          0.040999999999999995,
          0.040999999999999995
         ],
         "z": [
          10.99353661054375,
          15.598706796531843
         ]
        },
        {
         "line": {
          "color": "#0066FF",
          "width": 2
         },
         "mode": "lines",
         "type": "scatter3d",
         "uid": "2cfdcecd-2266-4b7f-8881-a258c5531032",
         "x": [
          1,
          2
         ],
         "y": [
          0.05099999999999999,
          0.05099999999999999
         ],
         "z": [
          10.557029478503715,
          15.162199664491807
         ]
        },
        {
         "line": {
          "color": "#0066FF",
          "width": 2
         },
         "mode": "lines",
         "type": "scatter3d",
         "uid": "cf20b066-b917-4b8c-95de-6c41366e32af",
         "x": [
          1,
          2
         ],
         "y": [
          0.06099999999999999,
          0.06099999999999999
         ],
         "z": [
          10.198933015605743,
          14.804103201593836
         ]
        },
        {
         "line": {
          "color": "#0066FF",
          "width": 2
         },
         "mode": "lines",
         "type": "scatter3d",
         "uid": "89e897b6-dea3-41ac-a378-f11ad2b1cbb5",
         "x": [
          1,
          2
         ],
         "y": [
          0.071,
          0.071
         ],
         "z": [
          9.895320989869735,
          14.500491175857828
         ]
        },
        {
         "line": {
          "color": "#0066FF",
          "width": 2
         },
         "mode": "lines",
         "type": "scatter3d",
         "uid": "ad7e16c5-e1e5-4bf9-ad79-95418fee52c0",
         "x": [
          1,
          2
         ],
         "y": [
          0.08099999999999999,
          0.08099999999999999
         ],
         "z": [
          9.631782434607489,
          14.23695262059558
         ]
        },
        {
         "line": {
          "color": "#0066FF",
          "width": 2
         },
         "mode": "lines",
         "type": "scatter3d",
         "uid": "3a25c2b3-57e4-48da-a33b-8086c0916a45",
         "x": [
          1,
          2
         ],
         "y": [
          0.09099999999999998,
          0.09099999999999998
         ],
         "z": [
          9.398961730918666,
          14.004131916906758
         ]
        },
        {
         "line": {
          "color": "#0066FF",
          "width": 2
         },
         "mode": "lines",
         "type": "scatter3d",
         "uid": "774c9eee-737e-4740-a01c-a24a14b0d8ea",
         "x": [
          1,
          2
         ],
         "y": [
          0.10099999999999998,
          0.10099999999999998
         ],
         "z": [
          9.190439710269848,
          13.79560989625794
         ]
        },
        {
         "line": {
          "color": "#0066FF",
          "width": 2
         },
         "mode": "lines",
         "type": "scatter3d",
         "uid": "3e4cb8be-8851-4efd-a993-3274d4f27d0f",
         "x": [
          1,
          2
         ],
         "y": [
          0.11099999999999999,
          0.11099999999999999
         ],
         "z": [
          9.001620341327698,
          13.60679052731579
         ]
        },
        {
         "line": {
          "color": "#0066FF",
          "width": 2
         },
         "mode": "lines",
         "type": "scatter3d",
         "uid": "2f9b29de-b068-4f5a-83a9-6aa419541cd9",
         "x": [
          1,
          2
         ],
         "y": [
          0.12099999999999998,
          0.12099999999999998
         ],
         "z": [
          8.829099652758885,
          13.434269838746975
         ]
        },
        {
         "line": {
          "color": "#0066FF",
          "width": 2
         },
         "mode": "lines",
         "type": "scatter3d",
         "uid": "af30e207-06e6-4ce0-9ca1-ab25c63de05c",
         "x": [
          1,
          2
         ],
         "y": [
          0.13099999999999998,
          0.13099999999999998
         ],
         "z": [
          8.670286097550063,
          13.275456283538155
         ]
        },
        {
         "line": {
          "color": "#0066FF",
          "width": 2
         },
         "mode": "lines",
         "type": "scatter3d",
         "uid": "6bc64dac-1781-4d1e-a32a-fbad3ca63d7f",
         "x": [
          1,
          2
         ],
         "y": [
          0.141,
          0.141
         ],
         "z": [
          8.52316096319603,
          13.12833114918412
         ]
        },
        {
         "line": {
          "color": "#0066FF",
          "width": 2
         },
         "mode": "lines",
         "type": "scatter3d",
         "uid": "ce4b7359-46c3-4fe9-880d-3c70e0f6cadc",
         "x": [
          1,
          2
         ],
         "y": [
          0.15099999999999997,
          0.15099999999999997
         ],
         "z": [
          8.386121070322517,
          12.99129125631061
         ]
        },
        {
         "line": {
          "color": "#0066FF",
          "width": 2
         },
         "mode": "lines",
         "type": "scatter3d",
         "uid": "d1740f8f-bdde-444d-8b34-57aaebaf17c9",
         "x": [
          1,
          2
         ],
         "y": [
          0.16099999999999998,
          0.16099999999999998
         ],
         "z": [
          8.257872013983441,
          12.863042199971531
         ]
        },
        {
         "line": {
          "color": "#0066FF",
          "width": 2
         },
         "mode": "lines",
         "type": "scatter3d",
         "uid": "4416caf6-5a8d-448c-bf18-af38aafe40c1",
         "x": [
          1,
          2
         ],
         "y": [
          0.17099999999999999,
          0.17099999999999999
         ],
         "z": [
          8.137353630947047,
          12.742523816935138
         ]
        },
        {
         "line": {
          "color": "#0066FF",
          "width": 2
         },
         "mode": "lines",
         "type": "scatter3d",
         "uid": "c1f4ad22-0fb5-40b8-b9e3-b9d17e973932",
         "x": [
          1,
          2
         ],
         "y": [
          0.18099999999999997,
          0.18099999999999997
         ],
         "z": [
          8.023686681420715,
          12.628856867408807
         ]
        },
        {
         "line": {
          "color": "#0066FF",
          "width": 2
         },
         "mode": "lines",
         "type": "scatter3d",
         "uid": "0f416069-f9d1-4a96-a2a8-b50822200877",
         "x": [
          1,
          2
         ],
         "y": [
          0.19099999999999998,
          0.19099999999999998
         ],
         "z": [
          7.9161338878591065,
          12.521304073847197
         ]
        },
        {
         "line": {
          "color": "#0066FF",
          "width": 2
         },
         "mode": "lines",
         "type": "scatter3d",
         "uid": "180a0600-930b-4d85-9af7-b43944cc0741",
         "x": [
          1,
          2
         ],
         "y": [
          0.20099999999999996,
          0.20099999999999996
         ],
         "z": [
          7.814070927834215,
          12.419241113822306
         ]
        },
        {
         "line": {
          "color": "#0066FF",
          "width": 2
         },
         "mode": "lines",
         "type": "scatter3d",
         "uid": "229f503a-092e-4d0c-9a9c-004ea5374749",
         "x": [
          1,
          2
         ],
         "y": [
          0.21099999999999997,
          0.21099999999999997
         ],
         "z": [
          7.716964477000233,
          12.322134662988326
         ]
        },
        {
         "line": {
          "color": "#0066FF",
          "width": 2
         },
         "mode": "lines",
         "type": "scatter3d",
         "uid": "d932c230-92d9-40e9-812e-ba1984cc2c03",
         "x": [
          1,
          2
         ],
         "y": [
          0.22099999999999997,
          0.22099999999999997
         ],
         "z": [
          7.6243553409168605,
          12.229525526904952
         ]
        },
        {
         "line": {
          "color": "#0066FF",
          "width": 2
         },
         "mode": "lines",
         "type": "scatter3d",
         "uid": "d6cf4edb-d9ae-4efa-962d-44a45221ea7f",
         "x": [
          1,
          2
         ],
         "y": [
          0.23099999999999996,
          0.23099999999999996
         ],
         "z": [
          7.535845322908779,
          12.14101550889687
         ]
        },
        {
         "line": {
          "color": "#0066FF",
          "width": 2
         },
         "mode": "lines",
         "type": "scatter3d",
         "uid": "6fff7164-5f55-47a9-ade7-acb19fa5251d",
         "x": [
          1,
          2
         ],
         "y": [
          0.24099999999999996,
          0.24099999999999996
         ],
         "z": [
          7.451086876971056,
          12.056257062959148
         ]
        },
        {
         "line": {
          "color": "#0066FF",
          "width": 2
         },
         "mode": "lines",
         "type": "scatter3d",
         "uid": "dff12ab3-5058-4c0b-af10-c2f958767927",
         "x": [
          1,
          2
         ],
         "y": [
          0.25099999999999995,
          0.25099999999999995
         ],
         "z": [
          7.3697748656887985,
          11.97494505167689
         ]
        },
        {
         "line": {
          "color": "#0066FF",
          "width": 2
         },
         "mode": "lines",
         "type": "scatter3d",
         "uid": "bc379c43-5779-4d69-918f-211c91cc2ade",
         "x": [
          1,
          2
         ],
         "y": [
          0.26099999999999995,
          0.26099999999999995
         ],
         "z": [
          7.29163992930698,
          11.896810115295072
         ]
        },
        {
         "line": {
          "color": "#0066FF",
          "width": 2
         },
         "mode": "lines",
         "type": "scatter3d",
         "uid": "eda1be21-d4c4-407d-bb08-14c8b27793ff",
         "x": [
          1,
          2
         ],
         "y": [
          0.27099999999999996,
          0.27099999999999996
         ],
         "z": [
          7.216443102192964,
          11.821613288181055
         ]
        },
        {
         "line": {
          "color": "#0066FF",
          "width": 2
         },
         "mode": "lines",
         "type": "scatter3d",
         "uid": "085b819e-1854-41d5-b97b-1691da939023",
         "x": [
          1,
          2
         ],
         "y": [
          0.28099999999999997,
          0.28099999999999997
         ],
         "z": [
          7.143971405284875,
          11.749141591272966
         ]
        },
        {
         "line": {
          "color": "#0066FF",
          "width": 2
         },
         "mode": "lines",
         "type": "scatter3d",
         "uid": "78aa8185-14cd-4bd7-b97b-f5a07b413cdc",
         "x": [
          1,
          2
         ],
         "y": [
          0.291,
          0.291
         ],
         "z": [
          7.074034209609382,
          11.679204395597473
         ]
        },
        {
         "line": {
          "color": "#0066FF",
          "width": 2
         },
         "mode": "lines",
         "type": "scatter3d",
         "uid": "e06fc6e5-726f-4f91-98d1-dbd9438a2176",
         "x": [
          1,
          2
         ],
         "y": [
          0.30099999999999993,
          0.30099999999999993
         ],
         "z": [
          7.006460214454615,
          11.611630400442706
         ]
        },
        {
         "line": {
          "color": "#0066FF",
          "width": 2
         },
         "mode": "lines",
         "type": "scatter3d",
         "uid": "1d2196d9-3d79-426d-9a0c-78bb4e06e920",
         "x": [
          1,
          2
         ],
         "y": [
          0.31099999999999994,
          0.31099999999999994
         ],
         "z": [
          6.941094919593898,
          11.54626510558199
         ]
        },
        {
         "line": {
          "color": "#0066FF",
          "width": 2
         },
         "mode": "lines",
         "type": "scatter3d",
         "uid": "ac0c4cac-7a8a-46f6-971c-56d37a753652",
         "x": [
          1,
          2
         ],
         "y": [
          0.32099999999999995,
          0.32099999999999995
         ],
         "z": [
          6.877798497692334,
          11.482968683680426
         ]
        },
        {
         "line": {
          "color": "#0066FF",
          "width": 2
         },
         "mode": "lines",
         "type": "scatter3d",
         "uid": "145b3a54-28b8-4fad-9a2b-dc4ddec57ba0",
         "x": [
          1,
          2
         ],
         "y": [
          0.33099999999999996,
          0.33099999999999996
         ],
         "z": [
          6.81644399319824,
          11.421614179186331
         ]
        },
        {
         "line": {
          "color": "#0066FF",
          "width": 2
         },
         "mode": "lines",
         "type": "scatter3d",
         "uid": "1fea2b97-6a9d-4db9-a26e-ba4d4531f5af",
         "x": [
          1,
          2
         ],
         "y": [
          0.34099999999999997,
          0.34099999999999997
         ],
         "z": [
          6.756915789385332,
          11.362085975373425
         ]
        },
        {
         "line": {
          "color": "#0066FF",
          "width": 2
         },
         "mode": "lines",
         "type": "scatter3d",
         "uid": "4ad3f5f5-9d58-4b08-ba1f-c0aaf0d39429",
         "x": [
          1,
          2
         ],
         "y": [
          0.3509999999999999,
          0.3509999999999999
         ],
         "z": [
          6.699108297020635,
          11.304278483008726
         ]
        },
        {
         "line": {
          "color": "#0066FF",
          "width": 2
         },
         "mode": "lines",
         "type": "scatter3d",
         "uid": "9310c867-0cb5-46f2-b2c9-631311c9eace",
         "x": [
          1,
          2
         ],
         "y": [
          0.36099999999999993,
          0.36099999999999993
         ],
         "z": [
          6.642924827286604,
          11.248095013274696
         ]
        },
        {
         "line": {
          "color": "#0066FF",
          "width": 2
         },
         "mode": "lines",
         "type": "scatter3d",
         "uid": "6a3a01e2-6e03-499a-9ed9-b3c7838fefa3",
         "x": [
          1,
          2
         ],
         "y": [
          0.37099999999999994,
          0.37099999999999994
         ],
         "z": [
          6.5882766187374955,
          11.193446804725587
         ]
        },
        {
         "line": {
          "color": "#0066FF",
          "width": 2
         },
         "mode": "lines",
         "type": "scatter3d",
         "uid": "03ad0134-9e27-414c-8517-3cba801003e0",
         "x": [
          1,
          2
         ],
         "y": [
          0.38099999999999995,
          0.38099999999999995
         ],
         "z": [
          6.535081993698964,
          11.140252179687057
         ]
        },
        {
         "line": {
          "color": "#0066FF",
          "width": 2
         },
         "mode": "lines",
         "type": "scatter3d",
         "uid": "2b5309fc-2f70-4e74-a53a-4643943a8476",
         "x": [
          1,
          2
         ],
         "y": [
          0.39099999999999996,
          0.39099999999999996
         ],
         "z": [
          6.483265623981635,
          11.088435809969727
         ]
        },
        {
         "line": {
          "color": "#0066FF",
          "width": 2
         },
         "mode": "lines",
         "type": "scatter3d",
         "uid": "bdb61bac-2e8f-472e-9204-25866aedd34b",
         "x": [
          1,
          2
         ],
         "y": [
          0.4009999999999999,
          0.4009999999999999
         ],
         "z": [
          6.432757889339228,
          11.03792807532732
         ]
        },
        {
         "line": {
          "color": "#0066FF",
          "width": 2
         },
         "mode": "lines",
         "type": "scatter3d",
         "uid": "3dffa68a-fc0b-48f9-9ab9-7b43b0ba61b5",
         "x": [
          1,
          2
         ],
         "y": [
          0.4109999999999999,
          0.4109999999999999
         ],
         "z": [
          6.383494314959897,
          10.988664500947989
         ]
        },
        {
         "line": {
          "color": "#0066FF",
          "width": 2
         },
         "mode": "lines",
         "type": "scatter3d",
         "uid": "ee37b558-8133-48a6-ac21-7bcce9c93f16",
         "x": [
          1,
          2
         ],
         "y": [
          0.42099999999999993,
          0.42099999999999993
         ],
         "z": [
          6.335415076587603,
          10.940585262575695
         ]
        },
        {
         "line": {
          "color": "#0066FF",
          "width": 2
         },
         "mode": "lines",
         "type": "scatter3d",
         "uid": "18953c98-9849-4191-a3ed-528d7c4d4957",
         "x": [
          1,
          2
         ],
         "y": [
          0.43099999999999994,
          0.43099999999999994
         ],
         "z": [
          6.288464563744871,
          10.893634749732962
         ]
        },
        {
         "line": {
          "color": "#0066FF",
          "width": 2
         },
         "mode": "lines",
         "type": "scatter3d",
         "uid": "33145cc1-14e3-49e3-ab0f-279737519d03",
         "x": [
          1,
          2
         ],
         "y": [
          0.44099999999999995,
          0.44099999999999995
         ],
         "z": [
          6.242590993058674,
          10.847761179046767
         ]
        },
        {
         "line": {
          "color": "#0066FF",
          "width": 2
         },
         "mode": "lines",
         "type": "scatter3d",
         "uid": "c344f0cb-a3ed-42fa-bd7f-46b6c275ce9e",
         "x": [
          1,
          2
         ],
         "y": [
          0.45099999999999996,
          0.45099999999999996
         ],
         "z": [
          6.197746064947009,
          10.802916250935102
         ]
        },
        {
         "line": {
          "color": "#0066FF",
          "width": 2
         },
         "mode": "lines",
         "type": "scatter3d",
         "uid": "391dace7-1bc0-4aaf-badd-fe0855bf36ae",
         "x": [
          1,
          2
         ],
         "y": [
          0.4609999999999999,
          0.4609999999999999
         ],
         "z": [
          6.153884657959069,
          10.759054843947162
         ]
        },
        {
         "line": {
          "color": "#0066FF",
          "width": 2
         },
         "mode": "lines",
         "type": "scatter3d",
         "uid": "137c3c18-1f4f-4a42-9571-f55664babcc8",
         "x": [
          1,
          2
         ],
         "y": [
          0.4709999999999999,
          0.4709999999999999
         ],
         "z": [
          6.110964555919531,
          10.716134741907622
         ]
        },
        {
         "line": {
          "color": "#0066FF",
          "width": 2
         },
         "mode": "lines",
         "type": "scatter3d",
         "uid": "e89ae89a-5612-4239-893f-259d22c4b682",
         "x": [
          1,
          2
         ],
         "y": [
          0.4809999999999999,
          0.4809999999999999
         ],
         "z": [
          6.068946203740844,
          10.674116389728935
         ]
        },
        {
         "line": {
          "color": "#0066FF",
          "width": 2
         },
         "mode": "lines",
         "type": "scatter3d",
         "uid": "5e01b50d-6722-4c6a-921f-64ebe311c21c",
         "x": [
          1,
          2
         ],
         "y": [
          0.49099999999999994,
          0.49099999999999994
         ],
         "z": [
          6.027792488363325,
          10.632962674351417
         ]
        },
        {
         "line": {
          "color": "#0066FF",
          "width": 2
         },
         "mode": "lines",
         "type": "scatter3d",
         "uid": "9d9bc60d-1b28-44db-afec-947d84360f30",
         "x": [
          1,
          2
         ],
         "y": [
          0.5009999999999999,
          0.5009999999999999
         ],
         "z": [
          5.987468541782636,
          10.592638727770728
         ]
        },
        {
         "line": {
          "color": "#0066FF",
          "width": 2
         },
         "mode": "lines",
         "type": "scatter3d",
         "uid": "8994a593-1d14-4f8b-a798-6eaa25a5776a",
         "x": [
          1,
          2
         ],
         "y": [
          0.5109999999999999,
          0.5109999999999999
         ],
         "z": [
          5.9479415635449575,
          10.553111749533048
         ]
        },
        {
         "line": {
          "color": "#0066FF",
          "width": 2
         },
         "mode": "lines",
         "type": "scatter3d",
         "uid": "1270b9e9-6f83-4a49-8c37-8c337e2e9880",
         "x": [
          1,
          2
         ],
         "y": [
          0.5209999999999999,
          0.5209999999999999
         ],
         "z": [
          5.9091806604456325,
          10.514350846433725
         ]
        },
        {
         "line": {
          "color": "#0066FF",
          "width": 2
         },
         "mode": "lines",
         "type": "scatter3d",
         "uid": "cc255096-6831-42a3-9b7a-482214a4e024",
         "x": [
          1,
          2
         ],
         "y": [
          0.5309999999999999,
          0.5309999999999999
         ],
         "z": [
          5.871156701468489,
          10.47632688745658
         ]
        },
        {
         "line": {
          "color": "#0066FF",
          "width": 2
         },
         "mode": "lines",
         "type": "scatter3d",
         "uid": "71486c3b-53f8-43a9-a803-fc71131613ce",
         "x": [
          1,
          2
         ],
         "y": [
          0.5409999999999999,
          0.5409999999999999
         ],
         "z": [
          5.833842186259403,
          10.439012372247495
         ]
        },
        {
         "line": {
          "color": "#0066FF",
          "width": 2
         },
         "mode": "lines",
         "type": "scatter3d",
         "uid": "0f939722-b94e-43fd-9c78-dcadb7764494",
         "x": [
          1,
          2
         ],
         "y": [
          0.5509999999999999,
          0.5509999999999999
         ],
         "z": [
          5.7972111256465375,
          10.40238131163463
         ]
        },
        {
         "line": {
          "color": "#0066FF",
          "width": 2
         },
         "mode": "lines",
         "type": "scatter3d",
         "uid": "383a715a-28e4-4fe3-b12c-ccf7de9456a7",
         "x": [
          1,
          2
         ],
         "y": [
          0.5609999999999999,
          0.5609999999999999
         ],
         "z": [
          5.7612389329069735,
          10.366409118895065
         ]
        },
        {
         "line": {
          "color": "#0066FF",
          "width": 2
         },
         "mode": "lines",
         "type": "scatter3d",
         "uid": "0e2dcbf6-60bc-4fa0-996f-056b99a88d77",
         "x": [
          1,
          2
         ],
         "y": [
          0.571,
          0.571
         ],
         "z": [
          5.725902324640345,
          10.331072510628438
         ]
        },
        {
         "line": {
          "color": "#0066FF",
          "width": 2
         },
         "mode": "lines",
         "type": "scatter3d",
         "uid": "7143a028-4360-47a8-86a0-91f1927be832",
         "x": [
          1,
          2
         ],
         "y": [
          0.581,
          0.581
         ],
         "z": [
          5.691179230248544,
          10.296349416236636
         ]
        },
        {
         "line": {
          "color": "#0066FF",
          "width": 2
         },
         "mode": "lines",
         "type": "scatter3d",
         "uid": "f168a5f9-12ee-49c8-9b88-16cc28627765",
         "x": [
          1,
          2
         ],
         "y": [
          0.5909999999999999,
          0.5909999999999999
         ],
         "z": [
          5.65704870914017,
          10.262218895128262
         ]
        },
        {
         "line": {
          "color": "#0066FF",
          "width": 2
         },
         "mode": "lines",
         "type": "scatter3d",
         "uid": "6e924006-5eb5-4f55-854d-7417ee545a98",
         "x": [
          1,
          2
         ],
         "y": [
          0.6009999999999999,
          0.6009999999999999
         ],
         "z": [
          5.623490874881951,
          10.228661060870042
         ]
        },
        {
         "line": {
          "color": "#0066FF",
          "width": 2
         },
         "mode": "lines",
         "type": "scatter3d",
         "uid": "32ecce10-e069-4741-b14f-2b8e138f970e",
         "x": [
          1,
          2
         ],
         "y": [
          0.6109999999999999,
          0.6109999999999999
         ],
         "z": [
          5.590486825609176,
          10.195657011597268
         ]
        },
        {
         "line": {
          "color": "#0066FF",
          "width": 2
         },
         "mode": "lines",
         "type": "scatter3d",
         "uid": "75a71816-67d2-4d27-b329-b48d1a5cf4f0",
         "x": [
          1,
          2
         ],
         "y": [
          0.6209999999999999,
          0.6209999999999999
         ],
         "z": [
          5.558018580085409,
          10.1631887660735
         ]
        },
        {
         "line": {
          "color": "#0066FF",
          "width": 2
         },
         "mode": "lines",
         "type": "scatter3d",
         "uid": "e2232b3f-ae6e-408a-9452-cb471a865b55",
         "x": [
          1,
          2
         ],
         "y": [
          0.6309999999999999,
          0.6309999999999999
         ],
         "z": [
          5.52606901886994,
          10.131239204858032
         ]
        },
        {
         "line": {
          "color": "#0066FF",
          "width": 2
         },
         "mode": "lines",
         "type": "scatter3d",
         "uid": "3b034cee-db91-4c51-bbe5-f0e2794481db",
         "x": [
          1,
          2
         ],
         "y": [
          0.6409999999999999,
          0.6409999999999999
         ],
         "z": [
          5.494621830111026,
          10.099792016099117
         ]
        },
        {
         "line": {
          "color": "#0066FF",
          "width": 2
         },
         "mode": "lines",
         "type": "scatter3d",
         "uid": "47808f09-df7a-4f59-9136-696595b3ad99",
         "x": [
          1,
          2
         ],
         "y": [
          0.6509999999999999,
          0.6509999999999999
         ],
         "z": [
          5.463661459535228,
          10.06883164552332
         ]
        },
        {
         "line": {
          "color": "#0066FF",
          "width": 2
         },
         "mode": "lines",
         "type": "scatter3d",
         "uid": "46a9de92-4b17-491d-ba94-7e891630a87d",
         "x": [
          1,
          2
         ],
         "y": [
          0.6609999999999999,
          0.6609999999999999
         ],
         "z": [
          5.433173064248994,
          10.038343250237086
         ]
        },
        {
         "line": {
          "color": "#0066FF",
          "width": 2
         },
         "mode": "lines",
         "type": "scatter3d",
         "uid": "bcb8cdfe-8a9e-4ca8-aee6-7f68c9923032",
         "x": [
          1,
          2
         ],
         "y": [
          0.6709999999999999,
          0.6709999999999999
         ],
         "z": [
          5.403142470009002,
          10.008312655997095
         ]
        },
        {
         "line": {
          "color": "#0066FF",
          "width": 2
         },
         "mode": "lines",
         "type": "scatter3d",
         "uid": "cc4ca29f-a46e-41c3-9b38-9ed9ce14fedc",
         "x": [
          1,
          2
         ],
         "y": [
          0.6809999999999999,
          0.6809999999999999
         ],
         "z": [
          5.373556131653341,
          9.978726317641433
         ]
        },
        {
         "line": {
          "color": "#0066FF",
          "width": 2
         },
         "mode": "lines",
         "type": "scatter3d",
         "uid": "c0c87e2a-21dd-43a5-8a6c-78206b4be99e",
         "x": [
          1,
          2
         ],
         "y": [
          0.691,
          0.691
         ],
         "z": [
          5.344401096417027,
          9.949571282405119
         ]
        },
        {
         "line": {
          "color": "#0066FF",
          "width": 2
         },
         "mode": "lines",
         "type": "scatter3d",
         "uid": "b5a66397-81d2-4650-bfcc-d84d3f4e0e48",
         "x": [
          1,
          2
         ],
         "y": [
          0.7009999999999998,
          0.7009999999999998
         ],
         "z": [
          5.315664969883186,
          9.920835155871277
         ]
        },
        {
         "line": {
          "color": "#0066FF",
          "width": 2
         },
         "mode": "lines",
         "type": "scatter3d",
         "uid": "e33da85f-a99d-4907-bb76-fcbec0df57aa",
         "x": [
          1,
          2
         ],
         "y": [
          0.7109999999999999,
          0.7109999999999999
         ],
         "z": [
          5.287335884345884,
          9.892506070333976
         ]
        },
        {
         "line": {
          "color": "#0066FF",
          "width": 2
         },
         "mode": "lines",
         "type": "scatter3d",
         "uid": "f87a70f4-8a8c-4625-bd60-20da02fa65c0",
         "x": [
          1,
          2
         ],
         "y": [
          0.7209999999999999,
          0.7209999999999999
         ],
         "z": [
          5.259402469382469,
          9.86457265537056
         ]
        },
        {
         "line": {
          "color": "#0066FF",
          "width": 2
         },
         "mode": "lines",
         "type": "scatter3d",
         "uid": "81b1b6ac-df5b-4f6d-b351-5d25b903bcf9",
         "x": [
          1,
          2
         ],
         "y": [
          0.7309999999999999,
          0.7309999999999999
         ],
         "z": [
          5.231853824452809,
          9.837024010440901
         ]
        },
        {
         "line": {
          "color": "#0066FF",
          "width": 2
         },
         "mode": "lines",
         "type": "scatter3d",
         "uid": "2279875f-0139-49b2-898c-8424160e371a",
         "x": [
          1,
          2
         ],
         "y": [
          0.7409999999999999,
          0.7409999999999999
         ],
         "z": [
          5.204679493360192,
          9.809849679348284
         ]
        },
        {
         "line": {
          "color": "#0066FF",
          "width": 2
         },
         "mode": "lines",
         "type": "scatter3d",
         "uid": "9232fb20-8fad-479b-a9b8-c76780faea5e",
         "x": [
          1,
          2
         ],
         "y": [
          0.7509999999999999,
          0.7509999999999999
         ],
         "z": [
          5.177869440424097,
          9.783039626412188
         ]
        },
        {
         "line": {
          "color": "#0066FF",
          "width": 2
         },
         "mode": "lines",
         "type": "scatter3d",
         "uid": "aca723e7-e0aa-430d-a89b-1622f4b1f9aa",
         "x": [
          1,
          2
         ],
         "y": [
          0.7609999999999999,
          0.7609999999999999
         ],
         "z": [
          5.151414028228994,
          9.756584214217087
         ]
        },
        {
         "line": {
          "color": "#0066FF",
          "width": 2
         },
         "mode": "lines",
         "type": "scatter3d",
         "uid": "aa9b6d6e-2dec-4fd1-b298-0d65f515ae2c",
         "x": [
          1,
          2
         ],
         "y": [
          0.7709999999999999,
          0.7709999999999999
         ],
         "z": [
          5.125303996825707,
          9.730474182813799
         ]
        },
        {
         "line": {
          "color": "#0066FF",
          "width": 2
         },
         "mode": "lines",
         "type": "scatter3d",
         "uid": "26b213f6-d50c-4a0e-b85b-ef2c08687e60",
         "x": [
          1,
          2
         ],
         "y": [
          0.7809999999999999,
          0.7809999999999999
         ],
         "z": [
          5.099530444272994,
          9.704700630261087
         ]
        },
        {
         "line": {
          "color": "#0066FF",
          "width": 2
         },
         "mode": "lines",
         "type": "scatter3d",
         "uid": "50edb5d3-245a-468b-a77f-133de8e54978",
         "x": [
          1,
          2
         ],
         "y": [
          0.7909999999999999,
          0.7909999999999999
         ],
         "z": [
          5.074084808417059,
          9.67925499440515
         ]
        },
        {
         "line": {
          "color": "#0066FF",
          "width": 2
         },
         "mode": "lines",
         "type": "scatter3d",
         "uid": "33386f4c-800c-40c2-bef9-2af1bb87d99d",
         "x": [
          1,
          2
         ],
         "y": [
          0.8009999999999998,
          0.8009999999999998
         ],
         "z": [
          5.048958849815648,
          9.65412903580374
         ]
        },
        {
         "line": {
          "color": "#0066FF",
          "width": 2
         },
         "mode": "lines",
         "type": "scatter3d",
         "uid": "9098c9c3-5f5c-4f90-8775-59214f0ba688",
         "x": [
          1,
          2
         ],
         "y": [
          0.8109999999999998,
          0.8109999999999998
         ],
         "z": [
          5.024144635721541,
          9.629314821709633
         ]
        },
        {
         "line": {
          "color": "#0066FF",
          "width": 2
         },
         "mode": "lines",
         "type": "scatter3d",
         "uid": "42497935-dc93-4bfa-84aa-c41b59003a60",
         "x": [
          1,
          2
         ],
         "y": [
          0.8209999999999998,
          0.8209999999999998
         ],
         "z": [
          4.99963452504751,
          9.604804711035602
         ]
        },
        {
         "line": {
          "color": "#0066FF",
          "width": 2
         },
         "mode": "lines",
         "type": "scatter3d",
         "uid": "fe974155-cfdd-4105-8afb-a00fb67b59b9",
         "x": [
          1,
          2
         ],
         "y": [
          0.8309999999999998,
          0.8309999999999998
         ],
         "z": [
          4.97542115424147,
          9.580591340229562
         ]
        },
        {
         "line": {
          "color": "#0066FF",
          "width": 2
         },
         "mode": "lines",
         "type": "scatter3d",
         "uid": "499c3233-fcc1-4790-bfe0-573c7c15139c",
         "x": [
          1,
          2
         ],
         "y": [
          0.8409999999999999,
          0.8409999999999999
         ],
         "z": [
          4.95149742400647,
          9.556667609994562
         ]
        },
        {
         "line": {
          "color": "#0066FF",
          "width": 2
         },
         "mode": "lines",
         "type": "scatter3d",
         "uid": "4f06943c-e3e4-4809-bd54-a3f725549402",
         "x": [
          1,
          2
         ],
         "y": [
          0.8509999999999999,
          0.8509999999999999
         ],
         "z": [
          4.927856486805618,
          9.53302667279371
         ]
        },
        {
         "line": {
          "color": "#0066FF",
          "width": 2
         },
         "mode": "lines",
         "type": "scatter3d",
         "uid": "728a957b-3f6f-4639-9f12-78856e7bc023",
         "x": [
          1,
          2
         ],
         "y": [
          0.8609999999999999,
          0.8609999999999999
         ],
         "z": [
          4.904491735096904,
          9.509661921084996
         ]
        },
        {
         "line": {
          "color": "#0066FF",
          "width": 2
         },
         "mode": "lines",
         "type": "scatter3d",
         "uid": "97c1a68c-b415-41cf-827b-a1f46b2fc679",
         "x": [
          1,
          2
         ],
         "y": [
          0.8709999999999999,
          0.8709999999999999
         ],
         "z": [
          4.8813967902473605,
          9.486566976235453
         ]
        },
        {
         "line": {
          "color": "#0066FF",
          "width": 2
         },
         "mode": "lines",
         "type": "scatter3d",
         "uid": "f019b291-2f12-41e9-aa10-6390554ed81d",
         "x": [
          1,
          2
         ],
         "y": [
          0.8809999999999999,
          0.8809999999999999
         ],
         "z": [
          4.858565492080007,
          9.4637356780681
         ]
        },
        {
         "line": {
          "color": "#0066FF",
          "width": 2
         },
         "mode": "lines",
         "type": "scatter3d",
         "uid": "ec8bdfbd-9678-4cf0-8de0-568dd9773a4b",
         "x": [
          1,
          2
         ],
         "y": [
          0.8909999999999999,
          0.8909999999999999
         ],
         "z": [
          4.835991889010748,
          9.44116207499884
         ]
        },
        {
         "line": {
          "color": "#0066FF",
          "width": 2
         },
         "mode": "lines",
         "type": "scatter3d",
         "uid": "1ca852e5-1c10-4b7b-911b-02286548cd71",
         "x": [
          1,
          2
         ],
         "y": [
          0.9009999999999999,
          0.9009999999999999
         ],
         "z": [
          4.81367022873569,
          9.418840414723782
         ]
        },
        {
         "line": {
          "color": "#0066FF",
          "width": 2
         },
         "mode": "lines",
         "type": "scatter3d",
         "uid": "eda12b89-86bc-4fa0-a1f5-6f136cf62566",
         "x": [
          1,
          2
         ],
         "y": [
          0.9109999999999998,
          0.9109999999999998
         ],
         "z": [
          4.79159494943245,
          9.39676513542054
         ]
        },
        {
         "line": {
          "color": "#0066FF",
          "width": 2
         },
         "mode": "lines",
         "type": "scatter3d",
         "uid": "35c9d17f-c553-4101-b123-3b82a7cd35ea",
         "x": [
          1,
          2
         ],
         "y": [
          0.9209999999999998,
          0.9209999999999998
         ],
         "z": [
          4.769760671441753,
          9.374930857429844
         ]
        },
        {
         "line": {
          "color": "#0066FF",
          "width": 2
         },
         "mode": "lines",
         "type": "scatter3d",
         "uid": "a3bb3c43-115c-4b85-b4c3-94b807f127cb",
         "x": [
          1,
          2
         ],
         "y": [
          0.9309999999999998,
          0.9309999999999998
         ],
         "z": [
          4.748162189398232,
          9.353332375386325
         ]
        },
        {
         "line": {
          "color": "#0066FF",
          "width": 2
         },
         "mode": "lines",
         "type": "scatter3d",
         "uid": "e766d05f-4fe2-4236-81d2-78bb6aead149",
         "x": [
          1,
          2
         ],
         "y": [
          0.9409999999999998,
          0.9409999999999998
         ],
         "z": [
          4.726794464781607,
          9.331964650769699
         ]
        },
        {
         "line": {
          "color": "#0066FF",
          "width": 2
         },
         "mode": "lines",
         "type": "scatter3d",
         "uid": "7f790f4a-8f09-4892-bc1f-cf48cea1d7b6",
         "x": [
          1,
          2
         ],
         "y": [
          0.9509999999999998,
          0.9509999999999998
         ],
         "z": [
          4.705652618861586,
          9.310822804849677
         ]
        },
        {
         "line": {
          "color": "#0066FF",
          "width": 2
         },
         "mode": "lines",
         "type": "scatter3d",
         "uid": "f297f213-a3f3-4e16-950d-c2fe55d5a15d",
         "x": [
          1,
          2
         ],
         "y": [
          0.9609999999999999,
          0.9609999999999999
         ],
         "z": [
          4.684731926011781,
          9.289902111999872
         ]
        },
        {
         "line": {
          "color": "#0066FF",
          "width": 2
         },
         "mode": "lines",
         "type": "scatter3d",
         "uid": "920b839e-b393-4ffd-a468-bce7c41af5a2",
         "x": [
          1,
          2
         ],
         "y": [
          0.9709999999999999,
          0.9709999999999999
         ],
         "z": [
          4.664027807369717,
          9.269197993357809
         ]
        },
        {
         "line": {
          "color": "#0066FF",
          "width": 2
         },
         "mode": "lines",
         "type": "scatter3d",
         "uid": "f0711d90-70f1-46c4-a45a-b9719baba756",
         "x": [
          1,
          2
         ],
         "y": [
          0.9809999999999999,
          0.9809999999999999
         ],
         "z": [
          4.64353582482164,
          9.248706010809732
         ]
        },
        {
         "line": {
          "color": "#0066FF",
          "width": 2
         },
         "mode": "lines",
         "type": "scatter3d",
         "uid": "cacd9d1f-878f-4039-8679-5eb6a599225b",
         "x": [
          1,
          2
         ],
         "y": [
          0.9909999999999999,
          0.9909999999999999
         ],
         "z": [
          4.62325167529239,
          9.228421861280482
         ]
        }
       ],
       "layout": {
        "autosize": true,
        "scene": {
         "aspectmode": "auto",
         "aspectratio": {
          "x": 1,
          "y": 1,
          "z": 1
         },
         "camera": {
          "center": {
           "x": 0,
           "y": 0,
           "z": 0
          },
          "eye": {
           "x": 1.464085917503918,
           "y": 1.4640859175039178,
           "z": 1.4640859175039178
          },
          "projection": {
           "type": "perspective"
          },
          "up": {
           "x": 0,
           "y": 0,
           "z": 1
          }
         },
         "xaxis": {
          "backgroundcolor": "rgb(230, 230,230)",
          "gridcolor": "rgb(255, 255, 255)",
          "showbackground": true,
          "title": {
           "text": "p"
          },
          "type": "linear",
          "zerolinecolor": "rgb(255, 255, 255)"
         },
         "yaxis": {
          "backgroundcolor": "rgb(230, 230,230)",
          "gridcolor": "rgb(255, 255, 255)",
          "showbackground": true,
          "title": {
           "text": "L"
          },
          "type": "linear",
          "zerolinecolor": "rgb(255, 255, 255)"
         },
         "zaxis": {
          "backgroundcolor": "rgb(230, 230,230)",
          "gridcolor": "rgb(255, 255, 255)",
          "showbackground": true,
          "title": {
           "text": "AIC"
          },
          "type": "linear",
          "zerolinecolor": "rgb(255, 255, 255)"
         }
        },
        "showlegend": false,
        "title": {
         "text": "AIC - L:Likelyhood, p:number parameters"
        }
       }
      }
     },
     "metadata": {},
     "output_type": "display_data"
    }
   ],
   "source": [
    "fig2 = plotly_3d_functions(bic, np.arange(1, 3, 1), np.arange(.001, 1, .01), \n",
    "                           title='AIC - L:Likelyhood, p:number parameters',\n",
    "                           xaxis_title='p', yaxis_title='L', zaxis_title='AIC')\n",
    "iplot(fig2)"
   ]
  },
  {
   "cell_type": "markdown",
   "metadata": {},
   "source": [
    "### Shape Analysis\n",
    "* `p` is the number of parameters in the model\n",
    "    * discrete integer > 0\n",
    "* `m` is the number of instances\n",
    "    * discrete integer > 0\n",
    "* `L` is the likelihood function of the model\n",
    "    * real number [0, 1]\n",
    "* Now looking at its shape, this graph looks like a logarithmic like of plane. Both shapes look similiar to one another.\n",
    "    * As `L` increases, then `IC` decreases\n",
    "    * As `p` increases, then `IC` increases\n",
    "    * `IC` increases linearly with `p`\n",
    "    * `IC` exponentially increases with decrease of `L`\n",
    "    * `IC` is largest when `p` is high and `L` is low\n",
    "    \n",
    "### Putting this into Context\n",
    "\n",
    "Both IC scores penalize models that have a large number of parameters and a low likelihood score. In other words, the more clusters the algorithm is presented, the more it adds it as a penality to the total `IC` score. This is because we want to favor models that use the fewest amount of clusters to fit the data as possible. Now looking at the liklihood (overall fit), the `IC` even more _heavily_ disfavors models that do not fit well. The way the likelihood is computed is that first the parameters of the guassian mixture are estimated as an MLE, and this are used as the input to the guassian mixture model, to output the liklihood. In other words, this is the value that determines the overall fit to the model, given the best estimation of parameters it could find.\n"
   ]
  },
  {
   "cell_type": "code",
   "execution_count": 11,
   "metadata": {},
   "outputs": [
    {
     "name": "stdout",
     "output_type": "stream",
     "text": [
      "bic: 11770.58408886226\n",
      "aic: 11698.935751189083\n"
     ]
    }
   ],
   "source": [
    "print('bic:', gm.bic(X))\n",
    "print('aic:', gm.aic(X))"
   ]
  },
  {
   "cell_type": "markdown",
   "metadata": {},
   "source": [
    "Now its just a matter of finding the minimum aic or bic score."
   ]
  },
  {
   "cell_type": "code",
   "execution_count": 24,
   "metadata": {},
   "outputs": [
    {
     "name": "stdout",
     "output_type": "stream",
     "text": [
      "k=1, aic=5060.126370192171, bic=5081.199410684281\n",
      "k=2, aic=4509.092157757744, bic=4555.452846840388\n",
      "k=3, aic=4434.906412306772, bic=4506.5547499799495\n",
      "k=4, aic=4315.793450129624, bic=4412.729436393334\n",
      "k=5, aic=4306.74333605365, bic=4428.9669709078935\n",
      "stop!\n"
     ]
    }
   ],
   "source": [
    "def find_opt_clusters_gm(X, y, k_start=1, k_end=float('inf'), aic_and_bic=False, verbose=True, **kwargs_model):\n",
    "    prev_aic_scores, prev_bic_scores = [float('inf'), float('inf')], [float('inf'), float('inf')]\n",
    "    def stop(ic_score, ic_type):\n",
    "        if ic_type == 'bic':\n",
    "            return  prev_bic_scores[-2] <= prev_bic_scores[-1] <= ic_score\n",
    "        elif ic_type == 'aic':\n",
    "            return  prev_aic_scores[-2] <= prev_aic_scores[-1] <= ic_score\n",
    "\n",
    "    k_start_org = k_start\n",
    "    while k_start <= k_end:\n",
    "        gm = GaussianMixture(n_components=k_start, **kwargs_model)\n",
    "        gm.fit(X)\n",
    "        bic_score, aic_score = gm.bic(X), gm.aic(X)\n",
    "        if aic_and_bic and stop(bic_score, 'bic') and stop(aic_score, 'aic'):\n",
    "            # take max to avoid negatives\n",
    "            print('stop!')\n",
    "            return max(k_start_org, k_start-1)\n",
    "        elif stop(bic_score, 'bic') or stop(aic_score, 'aic'):\n",
    "            print('stop!')\n",
    "            return max(k_start_org, k_start-1)\n",
    "        if verbose:\n",
    "            print(f'k={k_start}, aic={aic_score}, bic={bic_score}')\n",
    "        k_start += 1\n",
    "        prev_aic_scores.append(aic_score)\n",
    "        prev_bic_scores.append(bic_score)\n",
    "    \n",
    "    # -2 because of the float placeholders\n",
    "    arg_min_bic, arg_min_aic = np.argmin(prev_bic_scores) - 2, np.argmin(prev_aic_scores) - 2\n",
    "    if aic_and_bic:\n",
    "        # take the average of both number of clusters\n",
    "        return k_start + int(arg_min_bic + arg_min_aic / 2) + 1\n",
    "    else:\n",
    "        # any score will do, so just select the smaller of the two\n",
    "        min_arg = min(arg_min_bic, arg_min_aic)\n",
    "        return k_start + min_arg + 1\n",
    "\n",
    "\n",
    "opt_k = find_opt_clusters_gm(X, y, aic_and_bic=True, n_init=10)"
   ]
  },
  {
   "cell_type": "code",
   "execution_count": 26,
   "metadata": {},
   "outputs": [
    {
     "data": {
      "text/plain": [
       "Text(0.5, 1.0, 'Optimal Gaussian Mixture Model Hard Classification')"
      ]
     },
     "execution_count": 26,
     "metadata": {},
     "output_type": "execute_result"
    },
    {
     "data": {
      "image/png": "[encoded data removed]",
      "text/plain": [
       "<Figure size 432x288 with 2 Axes>"
      ]
     },
     "metadata": {
      "needs_background": "light"
     },
     "output_type": "display_data"
    }
   ],
   "source": [
    "gm = GaussianMixture(n_components=opt_k, n_init=10)\n",
    "gm.fit(X)\n",
    "plot_2d_decision_boundary_unsupervised([gm], X, (min(X[:,0]), max(X[:,0])), (min(X[:,1]), max(X[:,1])), 100, 100)\n",
    "plt.title('Optimal Gaussian Mixture Model Hard Classification')"
   ]
  }
 ],
 "metadata": {
  "kernelspec": {
   "display_name": "Python 3",
   "language": "python",
   "name": "python3"
  },
  "language_info": {
   "codemirror_mode": {
    "name": "ipython",
    "version": 3
   },
   "file_extension": ".py",
   "mimetype": "text/x-python",
   "name": "python",
   "nbconvert_exporter": "python",
   "pygments_lexer": "ipython3",
   "version": "3.6.7"
  }
 },
 "nbformat": 4,
 "nbformat_minor": 2
}
