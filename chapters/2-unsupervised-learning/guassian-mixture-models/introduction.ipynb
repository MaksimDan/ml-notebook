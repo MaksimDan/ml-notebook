{
 "cells": [
  {
   "cell_type": "markdown",
   "metadata": {},
   "source": [
    "# Introduction\n",
    "\n",
    "In a guassian mixture, all the distributions together are used to describe one complete phenomenon. \n",
    "\n",
    "Guassian mixtures make the underlying assumption that the data is generated from one or more guassian distributions whose parameters are unknown. And each guassian distribution forms a mapping to a cluster. So the general problem statement here is to find which guassian distributions form which clusters and what are the parameters of that guassian distribution.\n",
    "\n",
    "There are several varients of GMM, in the simpliest case you are required to know in advance the number of `k` distributions.\n"
   ]
  },
  {
   "cell_type": "markdown",
   "metadata": {},
   "source": [
    "## Use Cases\n",
    "\n",
    "The main purpose for guassian distributions is model estimation. This is long well known problem, where you have some data, and you want to find the parameters to a distrubution that maximize the likelihood that the parameters generalize for that distribution.\n",
    "\n",
    "With this information you can do different likes such as:\n",
    "\n",
    "* **Model Sampling**: Generate more points from a formulaic set of distributions. This can also be used hand in hand with data imputation - where additional data is sample to produce more training data.\n",
    "* **Identify clusters**: Assign a new instance to a new cluster dependent on what distrubtion would be most likely to generate it.\n"
   ]
  }
 ],
 "metadata": {
  "kernelspec": {
   "display_name": "Python 3",
   "language": "python",
   "name": "python3"
  },
  "language_info": {
   "codemirror_mode": {
    "name": "ipython",
    "version": 3
   },
   "file_extension": ".py",
   "mimetype": "text/x-python",
   "name": "python",
   "nbconvert_exporter": "python",
   "pygments_lexer": "ipython3",
   "version": "3.6.7"
  }
 },
 "nbformat": 4,
 "nbformat_minor": 2
}
