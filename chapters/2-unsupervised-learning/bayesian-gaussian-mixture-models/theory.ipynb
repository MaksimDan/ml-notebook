{
 "cells": [
  {
   "cell_type": "markdown",
   "metadata": {},
   "source": [
    "# Bayesian Gaussian Mixtures\n",
    "\n",
    "In a Bayesian Mixture Model, the model parameters unlike in normal mixture models, are no longer fixed, but are not latent random variables.\n",
    "\n",
    "In this model, we develop or take advantage of prexisting beliefs gathered from the data. For example, we made know that clusters are more likely to be high or low densities. \n",
    "\n",
    "## Optimial Number of Clusters\n",
    "`BayesianGaussianMixture` is able to weight clusters, if you provide a reasonably high number of clusters, this model is able to weight these out (0).\n",
    "\n",
    "\n",
    "MORE WORK NEEDS TO GET DONE HERE\n",
    "\n",
    "https://learning.oreilly.com/library/view/hands-on-machine-learning/9781492032632/ch09.html#"
   ]
  },
  {
   "cell_type": "code",
   "execution_count": 27,
   "metadata": {},
   "outputs": [
    {
     "data": {
      "text/plain": [
       "array([0.21, 0.  , 0.  , 0.22, 0.37, 0.  , 0.2 , 0.  , 0.  , 0.  ])"
      ]
     },
     "execution_count": 27,
     "metadata": {},
     "output_type": "execute_result"
    }
   ],
   "source": [
    "from sklearn.mixture import BayesianGaussianMixture\n",
    "\n",
    "\n",
    "bgm = BayesianGaussianMixture(n_components=10, n_init=10, random_state=42)\n",
    "bgm.fit(X)\n",
    "np.round(bgm.weights_, 2)"
   ]
  },
  {
   "cell_type": "code",
   "execution_count": null,
   "metadata": {},
   "outputs": [],
   "source": []
  }
 ],
 "metadata": {
  "kernelspec": {
   "display_name": "Python 3",
   "language": "python",
   "name": "python3"
  },
  "language_info": {
   "codemirror_mode": {
    "name": "ipython",
    "version": 3
   },
   "file_extension": ".py",
   "mimetype": "text/x-python",
   "name": "python",
   "nbconvert_exporter": "python",
   "pygments_lexer": "ipython3",
   "version": "3.6.7"
  }
 },
 "nbformat": 4,
 "nbformat_minor": 2
}
