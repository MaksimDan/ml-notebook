{
 "cells": [
  {
   "cell_type": "markdown",
   "metadata": {},
   "source": [
    "# Clustering\n"
   ]
  },
  {
   "cell_type": "markdown",
   "metadata": {},
   "source": [
    "The central goal with clustering is to be able to identify or classify common groups in data using an arbitrary `distance` metric that numerically measures the proximity of a data point to another data point. As an analogy for clustering, human can for example identify group a species of plants together independently of understanding of what a specific species of the plant it actually is. The name of the species isn't what is important here because it is made up to begin with.\n",
    "\n",
    "Use cases:\n",
    "* Dimensionality reduction - replace each vector instance with a new reduced k vector of affinities, where each affinity represents how well the original vector fits into a particular cluster. For example, 10 dimensional vector can get mapped into a 3 dimensional vector in the situation where there are 3 clusters.\n",
    "* Anomaly detection or outlier detection. Any instance that has low affinity to all the clusters is likely to be an outlier (as it is unlikely to belong to any of the clusters).\n",
    "* Finding similiar images provided some image. The similiar images would belong to the same assigned cluster as the original image.\n",
    "* Information reduction or image segementation. Group pixels of an image into a cluster and then replace each pixel in the image with the mean color of its respected cluster. This way we reduce the total number of different color in an image and produce more contours, which could be useful depending on the situation.\n",
    "\n",
    "Individually, there are over 100 clustering algorithms, but there are a few that stand out.\n",
    "\n",
    "\n",
    "## Types of Clustering\n",
    "\n",
    "**Hierarchical Clustering**\n",
    "\n",
    "In hierarchical clustering, clusters have parent clusters, which implies that they can fall under more general groups.\n",
    "\n",
    "\n",
    "**Soft and Hard Clustering**\n",
    "\n",
    "In hard clustering a data point is assigned a group, where as in soft clustering a data point is assigned a  probability of belonging to each of the groups.\n",
    "\n"
   ]
  }
 ],
 "metadata": {
  "kernelspec": {
   "display_name": "Python 3",
   "language": "python",
   "name": "python3"
  },
  "language_info": {
   "codemirror_mode": {
    "name": "ipython",
    "version": 3
   },
   "file_extension": ".py",
   "mimetype": "text/x-python",
   "name": "python",
   "nbconvert_exporter": "python",
   "pygments_lexer": "ipython3",
   "version": "3.6.7"
  },
  "toc": {
   "nav_menu": {},
   "number_sections": true,
   "sideBar": true,
   "skip_h1_title": false,
   "title_cell": "Table of Contents",
   "title_sidebar": "Contents",
   "toc_cell": false,
   "toc_position": {
    "height": "calc(100% - 180px)",
    "left": "10px",
    "top": "150px",
    "width": "258px"
   },
   "toc_section_display": true,
   "toc_window_display": true
  }
 },
 "nbformat": 4,
 "nbformat_minor": 2
}
