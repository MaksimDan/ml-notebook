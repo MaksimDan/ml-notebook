{
 "cells": [
  {
   "cell_type": "markdown",
   "metadata": {},
   "source": [
    "# Introduction\n",
    "\n",
    "The majority of data in the world is unlabeled, and it generally requires humans to make these labels. This process is long, costly, and not always 100% accurate. And with every new iteration of data would require new labels, the relabeling process is unsustainable.\n",
    "\n",
    "Enter unsupervised learning. In unsupervised learning, the dataset is a collection of unlabeled examples (whether it be classfication or regression). The goal is produce another vector or output that is useful in solving some problem.\n",
    "\n",
    "One of the most common forms of unsepervised learning is dimensionality reduction. There is also:\n",
    "\n",
    "* Clustering\n",
    "* Anomaly detection\n",
    "* Density estimation"
   ]
  },
  {
   "cell_type": "code",
   "execution_count": null,
   "metadata": {},
   "outputs": [],
   "source": []
  }
 ],
 "metadata": {
  "kernelspec": {
   "display_name": "Python 3",
   "language": "python",
   "name": "python3"
  },
  "language_info": {
   "codemirror_mode": {
    "name": "ipython",
    "version": 3
   },
   "file_extension": ".py",
   "mimetype": "text/x-python",
   "name": "python",
   "nbconvert_exporter": "python",
   "pygments_lexer": "ipython3",
   "version": "3.6.7"
  }
 },
 "nbformat": 4,
 "nbformat_minor": 2
}
