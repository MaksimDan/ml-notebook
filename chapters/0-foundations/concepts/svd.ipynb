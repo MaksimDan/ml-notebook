{
 "cells": [
  {
   "cell_type": "markdown",
   "metadata": {},
   "source": [
    "# Singular Value Decomposition\n",
    "\n",
    "SVD is used in different places such as PCA and Closed form matrix regression. To begin, the goal of SVD is to take an input matrix $X$ that is of shape $n \\times p$ and _decompose_ it into 3 individual terms. This kind of decomposition is always possible, and there is only ever one unique decomposition.\n",
    "\n",
    "\n",
    "<img src=\"../../../assets/0-foundations/svd-graphic-1.png\" alt=\"svd-graphic-1\" style=\"width: 260px;\"/>\n",
    "\n",
    "<img src=\"../../../assets/0-foundations/svd-graphic-2.png\" alt=\"svd-graphic-2\" style=\"width: 260px;\"/>\n",
    "\n",
    "$$X = \\sum_{i=1}^m d_i u_i v_i^T = U_{n \\times m} D_{r \\times r} V^T_{n \\times r}$$\n",
    "\n",
    "Where\n",
    "* $A$ is the input matrix\n",
    "* $U$ is the left singular vectors\n",
    "* $D$ is the singular values, a diagonal matrix\n",
    "* $V$ is the right singular vectors\n",
    "* $r$ is the rank of $A$\n",
    "\n",
    "Some other properties include:\n",
    "\n",
    "* $U^T U = 1$ and $V^T V = 1$, that is - the sum of each column squared of $U$ and $V$ are always one. More over the product of and $U$ or $V$ column are zero. In other words, $U$ and $V$ are column orthonormal.\n",
    "\n",
    "The two illstrations graphic two different kinds of decomposition. The first, as a matrix product, and the second as a sum of individual product vectors.\n",
    "\n",
    "## Example\n"
   ]
  },
  {
   "cell_type": "markdown",
   "metadata": {},
   "source": [
    "Suppose we have a user rating matrix where each row is the rating a user has for a movie (column).\n",
    "$$\n",
    "A = \n",
    "\\begin{bmatrix}\n",
    "    1 & 1 & 1 & 0 & 0 \\\\\n",
    "    3 & 3 & 3 & 0 & 0 \\\\\n",
    "    4 & 4 & 4 & 0 & 0 \\\\\n",
    "    5 & 5 & 5 & 0 & 0 \\\\\n",
    "    0 & 2 & 0 & 4 & 4 \\\\\n",
    "    0 & 0 & 0 & 5 & 5 \\\\\n",
    "    0 & 1 & 0 & 2 & 2\n",
    "\\end{bmatrix}\n",
    "$$\n",
    "\n",
    "The idea with SVD is break the matrix down into groups or concepts. Where for example, we can organize groups of users who like sci-fi films and other group that likes old roman type films.\n",
    "\n",
    "$$\n",
    "A = \n",
    "\\begin{bmatrix}\n",
    "    1 & 1 & 1 & 0 & 0 \\\\\n",
    "    3 & 3 & 3 & 0 & 0 \\\\\n",
    "    4 & 4 & 4 & 0 & 0 \\\\\n",
    "    5 & 5 & 5 & 0 & 0 \\\\\n",
    "    0 & 2 & 0 & 4 & 4 \\\\\n",
    "    0 & 0 & 0 & 5 & 5 \\\\\n",
    "    0 & 1 & 0 & 2 & 2\n",
    "\\end{bmatrix}\n",
    "=\n",
    "\\begin{bmatrix}\n",
    "    .13 & .02  &-.01 \\\\\n",
    "    .41 & .07  &-.03 \\\\\n",
    "    .55 & .09  &-.04 \\\\\n",
    "    .68 & .11  &-.05 \\\\\n",
    "    .15 & -.59 & .65 \\\\\n",
    "    .07 & -.73 & -.67 \\\\\n",
    "    .07 & -.29 & .32\n",
    "\\end{bmatrix}\n",
    "\\times\n",
    "\\begin{bmatrix}\n",
    "    12.4 & 0   & 0 \\\\ \n",
    "    0    & 9.5 & 0 \\\\\n",
    "    0    & 0   & 1.3\n",
    "\\end{bmatrix}\n",
    "\\times\n",
    "\\begin{bmatrix}\n",
    "    .56 & .59  & .56 & .09  & .09 \\\\\n",
    "    .12 & -.02 & .12 & -.69 & -.69 \\\\\n",
    "    .40 & -.80 & .50 & .09  & .09\n",
    "\\end{bmatrix}\n",
    "$$"
   ]
  },
  {
   "cell_type": "markdown",
   "metadata": {},
   "source": [
    "The way to interpret this decomposition is:\n",
    "\n",
    "* In $U$ the columns correspond to the strengths of each identified concepts on a per user basis. For example, the first column might corresponds to the strength of the sci-fi concept, and the second column, to the strength of the roman concept on a per user basis.\n",
    "* In $D$ each value along the diagon represents the strength of each individual concept. For example, 12.4 as an overall concept has a high strength than 9.5, the concept for roman film. The final concept of 1.3 has low strength when compared to the other two concepts. For low strengths, the concept could just be measuring noise and potentially ignored.\n",
    "* In $V$, each row corresponds to a concept and the values in each row coorespond to the strength each particular film belongs to a concept. In the example above we have three concepts for 3 different film genres, and the value for each movie (column) corresponds to how similiar that film is to each concept."
   ]
  },
  {
   "cell_type": "markdown",
   "metadata": {},
   "source": [
    "The two illstrations graphic two different kinds of decomposition. The first, as a matrix product, and the second as a sum of individual product vectors."
   ]
  }
 ],
 "metadata": {
  "kernelspec": {
   "display_name": "Python 3",
   "language": "python",
   "name": "python3"
  },
  "language_info": {
   "codemirror_mode": {
    "name": "ipython",
    "version": 3
   },
   "file_extension": ".py",
   "mimetype": "text/x-python",
   "name": "python",
   "nbconvert_exporter": "python",
   "pygments_lexer": "ipython3",
   "version": "3.6.6"
  }
 },
 "nbformat": 4,
 "nbformat_minor": 2
}
