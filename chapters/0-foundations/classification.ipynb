{
 "cells": [
  {
   "cell_type": "markdown",
   "metadata": {},
   "source": [
    "# Classification\n",
    "\n",
    "\n",
    "**Binary Classification**: Classification into one of two categories.\n",
    "\n",
    "\n",
    "**Multi-label Classification**: Classification into one of many possible categories.\n",
    "\n",
    "How is this achieved?\n",
    "\n",
    "* One vs rest: Have separate binary classifiers, where each binary classifier belongs to a particular label. For example for 3 different fruits (apples, bananas, orange), we have would a classifier that understand that difference between apples against bananas and oranges, bananas against apples and oranges, and oranges against apples and bananas. We can represent this in matrix form:\n",
    "\n",
    "\n",
    "|          | apples | bananas | oranges  |\n",
    "|----------|--------|---------|----------|\n",
    "| apples   |    1   |   0     |  0       |\n",
    "| bananas  |    0   |   1     |  0       |\n",
    "| oranges  |    0   |   0     |  1       |\n",
    "\n",
    "\n",
    "\\begin{bmatrix}\n",
    "    1 & 0 & 0 \\\\\n",
    "    0 & 1 & 0 \\\\\n",
    "    0 & 0 & 1\n",
    "\\end{bmatrix}\n",
    "\n",
    "Even though we use binary code of length $k$ represent $k$ different classifications (even though it could represent $2^k$ things), the reason that this is done is because representationally in the matrix equation, the zeros will cancels out the remaining variables so we effectively get a kind of comparision between \"one thing\" and \"everything else\".\n",
    "\n",
    "\n"
   ]
  },
  {
   "cell_type": "code",
   "execution_count": null,
   "metadata": {},
   "outputs": [],
   "source": []
  }
 ],
 "metadata": {
  "kernelspec": {
   "display_name": "Python 3",
   "language": "python",
   "name": "python3"
  },
  "language_info": {
   "codemirror_mode": {
    "name": "ipython",
    "version": 3
   },
   "file_extension": ".py",
   "mimetype": "text/x-python",
   "name": "python",
   "nbconvert_exporter": "python",
   "pygments_lexer": "ipython3",
   "version": "3.6.5"
  },
  "toc": {
   "nav_menu": {},
   "number_sections": true,
   "sideBar": true,
   "skip_h1_title": false,
   "title_cell": "Table of Contents",
   "title_sidebar": "Contents",
   "toc_cell": false,
   "toc_position": {
    "height": "calc(100% - 180px)",
    "left": "10px",
    "top": "150px",
    "width": "258px"
   },
   "toc_section_display": true,
   "toc_window_display": true
  }
 },
 "nbformat": 4,
 "nbformat_minor": 2
}
