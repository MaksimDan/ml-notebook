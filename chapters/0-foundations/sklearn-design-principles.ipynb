{
 "cells": [
  {
   "cell_type": "markdown",
   "metadata": {},
   "source": [
    "# Sklearn Design Principles\n",
    "\n",
    "Scikit-learn's API is designed to have around the following principles. Because objects share the same interface, understanding these will help underline your own architecture.\n",
    "\n",
    "\n",
    "1. **Key Interface Methods**:\n",
    "    1. _Estimators_: An estimater estimates, or forms some approximate calculation on a data. For example, imputer or a supervised learning algorithm. The estimation or training is performed by the `fit()` method.\n",
    "    2. _Transformers_: Some _estimators_ can applied on a dataset through the `transform()` method. This method returns a transformed dataset, which relies on the parameters \"learned\" from `fit()`. The two methods can be combined with `fit_transform()` if desired. The two methods are split because `fit()` provides various statistics of the learned estimator. `fit_transform()` is provided more as a convience as it optimizes the two calls.\n",
    "    3. _Predictors_: Some _estimators_ are capable of forming predictions on a dataset. `LinearRegression` estimator, for example, is a predictor. Predictors have a `predict()` method, and `score()` to measure the quality of a prediction over a test dataset.\n",
    "2. **Inspection**: Everything important to an estimator is transparent through its interface. Can we for example, view the set and defaulted hyperparameters of an estimator as well as an estimators learned parameters through the underscore suffix. For example (`statistics_`) from imputer.\n",
    "3. **Nonproliferation of Classes**: All datasets are all numpy arrays or scipy sparse matrices rather than their own thing. All hyperparameter types are alphanumerically defined a either regular python strings or numbers.\n",
    "4. **Composition**: We can using existing blocks of code customize our own data pipelines from start to finish. For example, we can use `Pipeline` to pass a dataset through a series of transformers, and then towards a final estimator.\n",
    "5. **Sensible Defaults**: Scikit-Learn provides reasonable default values for most parameters, making it easy to create a baseline\n",
    "working system quickly.\n",
    "\n"
   ]
  },
  {
   "cell_type": "code",
   "execution_count": null,
   "metadata": {},
   "outputs": [],
   "source": []
  }
 ],
 "metadata": {
  "kernelspec": {
   "display_name": "Python 3",
   "language": "python",
   "name": "python3"
  },
  "language_info": {
   "codemirror_mode": {
    "name": "ipython",
    "version": 3
   },
   "file_extension": ".py",
   "mimetype": "text/x-python",
   "name": "python",
   "nbconvert_exporter": "python",
   "pygments_lexer": "ipython3",
   "version": "3.6.6"
  }
 },
 "nbformat": 4,
 "nbformat_minor": 2
}
