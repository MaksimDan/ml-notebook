{
 "cells": [
  {
   "cell_type": "markdown",
   "metadata": {},
   "source": [
    "# Introduction\n",
    "\n",
    "In semisupervised learning, the dataset is a collection of both labeled and unlabeled examples (whether it be classfication or regression). The goal in an semisupervised system is the same in that of an unsupervised system.\n",
    "\n",
    "Ususally the proportion of unlabeled examples out weight that of the labeled examples. It might feel counterintuitive, but adding more unlabeled examples generally improves the overal performance of the semi-supervised system, given that it leverages this new information."
   ]
  },
  {
   "cell_type": "code",
   "execution_count": null,
   "metadata": {},
   "outputs": [],
   "source": []
  }
 ],
 "metadata": {
  "kernelspec": {
   "display_name": "Python 3",
   "language": "python",
   "name": "python3"
  },
  "language_info": {
   "codemirror_mode": {
    "name": "ipython",
    "version": 3
   },
   "file_extension": ".py",
   "mimetype": "text/x-python",
   "name": "python",
   "nbconvert_exporter": "python",
   "pygments_lexer": "ipython3",
   "version": "3.6.7"
  }
 },
 "nbformat": 4,
 "nbformat_minor": 2
}
