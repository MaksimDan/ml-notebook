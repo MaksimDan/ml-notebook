{
 "cells": [
  {
   "cell_type": "markdown",
   "metadata": {},
   "source": [
    "# Cleaning\n",
    "\n",
    "## Dealing with Missing Data\n",
    "\n",
    "Options include:\n",
    "1. Discard row or fields with missing data. Particularly a good idea if you have \"enough\" data.\n",
    "2. **Imputation** (Replace data with...)\n",
    "    1. Average\n",
    "    2. Median. Outlier resistant.\n",
    "    3. Most frequent. (categorical)\n",
    "    4. Probabalistic. (weight probability based onf frequency).\n"
   ]
  },
  {
   "cell_type": "code",
   "execution_count": 9,
   "metadata": {},
   "outputs": [
    {
     "data": {
      "text/plain": [
       "array([[ 30., 100.],\n",
       "       [ 20.,  50.],\n",
       "       [ 35.,  72.],\n",
       "       [ 25.,  80.],\n",
       "       [ 30.,  70.],\n",
       "       [ 40.,  60.]])"
      ]
     },
     "execution_count": 9,
     "metadata": {},
     "output_type": "execute_result"
    }
   ],
   "source": [
    "import numpy as np\n",
    "from sklearn.impute import SimpleImputer\n",
    "\n",
    "\n",
    "data = [[30, 100],\n",
    "        [20, 50],\n",
    "        [35, np.nan],\n",
    "        [25, 80],\n",
    "        [30, 70],\n",
    "        [40, 60]]\n",
    "\n",
    "\n",
    "# opt 1 - mean\n",
    "imp_mean = SimpleImputer(missing_values=np.nan, strategy='mean')\n",
    "imp_mean.fit(data)\n",
    "data_mean = imp_mean.transform(data)\n",
    "data_mean"
   ]
  },
  {
   "cell_type": "code",
   "execution_count": 10,
   "metadata": {},
   "outputs": [
    {
     "data": {
      "text/plain": [
       "array([[ 30., 100.],\n",
       "       [ 20.,  50.],\n",
       "       [ 35.,  70.],\n",
       "       [ 25.,  80.],\n",
       "       [ 30.,  70.],\n",
       "       [ 40.,  60.]])"
      ]
     },
     "execution_count": 10,
     "metadata": {},
     "output_type": "execute_result"
    }
   ],
   "source": [
    "# opt 2 - median\n",
    "imp_med = SimpleImputer(missing_values=np.nan, strategy='median')\n",
    "imp_med.fit(data)\n",
    "data_mean = imp_med.transform(data)\n",
    "data_mean"
   ]
  },
  {
   "cell_type": "code",
   "execution_count": null,
   "metadata": {},
   "outputs": [],
   "source": []
  }
 ],
 "metadata": {
  "kernelspec": {
   "display_name": "Python 3",
   "language": "python",
   "name": "python3"
  },
  "language_info": {
   "codemirror_mode": {
    "name": "ipython",
    "version": 3
   },
   "file_extension": ".py",
   "mimetype": "text/x-python",
   "name": "python",
   "nbconvert_exporter": "python",
   "pygments_lexer": "ipython3",
   "version": "3.6.6"
  }
 },
 "nbformat": 4,
 "nbformat_minor": 2
}
