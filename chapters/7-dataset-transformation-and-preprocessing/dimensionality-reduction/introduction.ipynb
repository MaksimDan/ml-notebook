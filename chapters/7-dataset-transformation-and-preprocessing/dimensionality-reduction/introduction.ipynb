{
 "cells": [
  {
   "cell_type": "markdown",
   "metadata": {},
   "source": [
    "# Introduction\n",
    "\n",
    "## Curse of Dimensionality\n",
    "\n",
    "In the real world, models scale from hundreds to millions of features. As a consequence training is slow, and finding a good solution becomes difficult. \n",
    "\n",
    "The good news is that data in the real world actually tends to be pretty sparse. The reason for this is quite simple. As greater and greater features (aka attributes or dimensions) are added, we can an exponential explosion of possibilities that can go on within that space. In the real world, or on earth at the least, anything reliably measured tends to have patterns that are void in comparison that originally high dimension.\n",
    "\n",
    "As one practical example, in the MNIST digits dataset, the bordors along the images are almost always white and add little to no information to the model. So this features or dimensions can be droped to little to no loss to the model.\n",
    "\n",
    "## Use Cases\n",
    "\n",
    "* One of the main reasons dimensionality reduction is perform is to get a favorable boost in training speed in exchange for little model performance loss. So for practical purposes, if your model performs reasonably fast, avoid doing any sort of dimensionality reduction.\n",
    "* _Sometimes_ reducing noise in the model, simplifing it, improving its performance or both.\n",
    "* Data Visualization. Features can be reduced to 2-3 features making it possible to visually detect clusters and/or other patterns and gain additional insights about the data this way.\n",
    "\n",
    "\n",
    "## Approaches\n",
    "\n",
    "There are two main approaches when it comes to dimensionality reduction techniques. Projection and manifold learning."
   ]
  }
 ],
 "metadata": {
  "kernelspec": {
   "display_name": "Python 3",
   "language": "python",
   "name": "python3"
  },
  "language_info": {
   "codemirror_mode": {
    "name": "ipython",
    "version": 3
   },
   "file_extension": ".py",
   "mimetype": "text/x-python",
   "name": "python",
   "nbconvert_exporter": "python",
   "pygments_lexer": "ipython3",
   "version": "3.6.6"
  }
 },
 "nbformat": 4,
 "nbformat_minor": 2
}
