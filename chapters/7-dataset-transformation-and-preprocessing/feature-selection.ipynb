{
 "cells": [
  {
   "cell_type": "markdown",
   "metadata": {},
   "source": [
    "# Feature Selection\n",
    "\n",
    "Feature selection is the process of selecting a subset of significant feature for better model construction. Often feature can be not important _enough_ for a model, and can therefore be tossed out without little to no loss to the model. And by occam's razor, this is a preferrable strategy.\n",
    "\n",
    "It should be noted that if an insignificant feature is removed, the overall performance of the model may go down, but it insignificant. A insignificant features only improve model performance due to what is effectively just noise.\n",
    "\n",
    "**Why is Feature Selection Important?**\n",
    "\n",
    "* Reduced training time due to the elimination or redundent or unimportant features.\n",
    "* Reduced over fitting because less things are used to describe a penomena, and so things become more generalized.\n",
    "* (Likely) improved overall performance due to the above. "
   ]
  },
  {
   "cell_type": "markdown",
   "metadata": {},
   "source": [
    "## Random Forest Based Feature Selection\n",
    "\n",
    "Random forests allow us to qualitatively measure the relative importance of each feature.\n",
    "\n",
    "**How does this work?**\n",
    "\n",
    "Recall in the node splitting process for decision trees, features are chosen in the splitting process using a metric like mutation information, or gini impurity to determine the quality of a split. Feature importance in a random forest takes this same metric, and averages the result each feature impurity across all trees in the forest. This imples that each feature carries a distribution of impurity values. More precisely, this is a weighted average. Recall the logarithmic time complexity of constructing a tree due to the continous subdivision and partitioning effect that is done. Hence a feature or node further down in the tree will have few training instances associated with it - and hence it should be valued to a smaller degree.\n",
    "\n",
    "The results gives us a pretty measure of how effective a feature/branch was (and hence more oftenly chosen) in the forest. "
   ]
  },
  {
   "cell_type": "code",
   "execution_count": 2,
   "metadata": {},
   "outputs": [
    {
     "name": "stdout",
     "output_type": "stream",
     "text": [
      "Feature rank: 21, score: 0.04922280346227523\n",
      "Feature rank: 26, score: 0.04339488614934009\n",
      "Feature rank: 43, score: 0.041187070718076264\n",
      "Feature rank: 36, score: 0.039796088457971196\n",
      "Feature rank: 42, score: 0.03759886741435654\n",
      "Feature rank: 28, score: 0.03285099153272587\n",
      "Feature rank: 20, score: 0.03188886394967972\n",
      "Feature rank: 30, score: 0.031742910130827445\n",
      "Feature rank: 61, score: 0.02969257560900765\n",
      "Feature rank: 33, score: 0.029423314200886407\n",
      "Feature rank: 27, score: 0.02857383892929682\n",
      "Feature rank: 10, score: 0.028164917024861395\n",
      "Feature rank: 38, score: 0.02800644242451898\n",
      "Feature rank: 13, score: 0.027686680439047155\n",
      "Feature rank: 19, score: 0.02699442190917519\n",
      "Feature rank: 29, score: 0.026732124222611633\n",
      "Feature rank: 34, score: 0.025112288741548625\n",
      "Feature rank: 54, score: 0.024409390633263542\n",
      "Feature rank: 53, score: 0.02393171935067039\n",
      "Feature rank: 60, score: 0.022980893273868125\n",
      "Feature rank: 46, score: 0.021842987053666427\n",
      "Feature rank: 2, score: 0.02125146148273246\n",
      "Feature rank: 51, score: 0.021034945907269308\n",
      "Feature rank: 5, score: 0.02029895640853943\n",
      "Feature rank: 18, score: 0.01999838435895964\n",
      "Feature rank: 37, score: 0.01995477446959963\n",
      "Feature rank: 44, score: 0.01965014961578283\n",
      "Feature rank: 45, score: 0.0173728535739341\n",
      "Feature rank: 58, score: 0.01669343827505863\n",
      "Feature rank: 35, score: 0.016308436406298046\n",
      "Feature rank: 62, score: 0.015884165054711227\n",
      "Feature rank: 12, score: 0.01551157680424116\n",
      "Feature rank: 50, score: 0.015060712523686761\n",
      "Feature rank: 52, score: 0.014451430187919072\n",
      "Feature rank: 25, score: 0.013723407032885852\n",
      "Feature rank: 9, score: 0.01119105872729703\n",
      "Feature rank: 59, score: 0.01047127995612436\n",
      "Feature rank: 4, score: 0.009697670341553976\n",
      "Feature rank: 41, score: 0.009510515499218648\n",
      "Feature rank: 3, score: 0.009422901994573322\n",
      "Feature rank: 22, score: 0.009031907260605055\n",
      "Feature rank: 6, score: 0.008902405993866084\n",
      "Feature rank: 17, score: 0.006934127797835864\n",
      "Feature rank: 11, score: 0.006638454246363858\n",
      "Feature rank: 14, score: 0.006117741378165596\n",
      "Feature rank: 63, score: 0.0037988063624314183\n",
      "Feature rank: 49, score: 0.002486543067443129\n",
      "Feature rank: 1, score: 0.001984927892800999\n",
      "Feature rank: 57, score: 0.001983623804404901\n",
      "Feature rank: 55, score: 0.0015768564224003475\n",
      "Feature rank: 7, score: 0.0007317345829303076\n",
      "Feature rank: 15, score: 0.0006255912838625364\n",
      "Feature rank: 23, score: 0.0001827704156658586\n",
      "Feature rank: 47, score: 0.00011772883852708846\n",
      "Feature rank: 16, score: 6.837579680139892e-05\n",
      "Feature rank: 24, score: 2.8884805759373655e-05\n",
      "Feature rank: 48, score: 2.8249577449527058e-05\n",
      "Feature rank: 40, score: 2.092370361570456e-05\n",
      "Feature rank: 31, score: 1.815252101078455e-05\n",
      "Feature rank: 8, score: 0.0\n",
      "Feature rank: 32, score: 0.0\n",
      "Feature rank: 39, score: 0.0\n",
      "Feature rank: 56, score: 0.0\n",
      "Feature rank: 0, score: 0.0\n"
     ]
    }
   ],
   "source": [
    "%matplotlib inline\n",
    "import numpy as np\n",
    "import pandas as pd\n",
    "\n",
    "from sklearn.ensemble import RandomForestClassifier\n",
    "from sklearn.datasets import load_digits\n",
    "\n",
    "from sklearn.svm import SVC\n",
    "from sklearn.model_selection import cross_val_score\n",
    "\n",
    "\n",
    "dataset = load_digits()\n",
    "X, y = dataset.data, dataset.target\n",
    "\n",
    "random_forest = RandomForestClassifier(n_estimators=100, criterion='gini', n_jobs=-1)\n",
    "random_forest.fit(X, y)\n",
    "\n",
    "# feature importances: index = feature, value = weight of importance\n",
    "# the higher the weight, the more important the feature\n",
    "importances = random_forest.feature_importances_\n",
    "\n",
    "# assign an index that defines the sort position, reverse for descending order\n",
    "# this way, we assign the original index (which is the feature name) to be in order\n",
    "indices = np.argsort(importances)[::-1]\n",
    "\n",
    "# print the feature ranking\n",
    "for rank in indices:\n",
    "    print(f'Feature rank: {rank}, score: {importances[rank]}')"
   ]
  },
  {
   "cell_type": "markdown",
   "metadata": {},
   "source": [
    "Every tree within a random forest classifier carries its own `feature_importances_`. A random forest classifier takes these results and averages them to obtain its final score. Back tracking, we can obtain obtain the distribution of every feature and its score.\n",
    "\n",
    "|   .       |   tree 1    | tree 2      | tree 3      | ...    | tree n      |\n",
    "|-----------|-------------|-------------|-------------|--------|-------------| \n",
    "| feature 1 | score_{0,0} | score_{1,0} | score_{2,0} | ...    | score_{m,0} | \n",
    "| feature 2 | score_{1,0} |     ...     |    ...      | ...    |    ...      | \n",
    "| feature 3 | score_{2,0} |     ...     |    ...      | ...    |    ...      | \n",
    "| ...       | ...         |     ...     |    ...      | ...    |    ...      | \n",
    "| feature n | score_{n,0} |     ...     |    ...      | ...    | score_{n,m} |\n"
   ]
  },
  {
   "cell_type": "code",
   "execution_count": 3,
   "metadata": {},
   "outputs": [
    {
     "data": {
      "image/png": "[encoded data removed]",
      "text/plain": [
       "<Figure size 1152x432 with 1 Axes>"
      ]
     },
     "metadata": {
      "needs_background": "light"
     },
     "output_type": "display_data"
    }
   ],
   "source": [
    "import matplotlib.pyplot as plt\n",
    "\n",
    "# plot the feature importances of the forest\n",
    "std = np.std([tree.feature_importances_ for tree in random_forest.estimators_], axis=0)\n",
    "n_r, n_c = X.shape\n",
    "plt.figure(figsize=(16, 6))\n",
    "plt.title(\"Feature importances\")\n",
    "plt.bar(x=range(n_c), height=importances[indices], yerr=std[indices], align=\"center\")\n",
    "plt.xticks(range(n_c), indices)\n",
    "plt.xlim([-1, n_c])\n",
    "plt.show()"
   ]
  },
  {
   "cell_type": "markdown",
   "metadata": {},
   "source": [
    "A neat caveat with images is that we can associate feature importance (color) to position (pixel) within an associated image."
   ]
  },
  {
   "cell_type": "code",
   "execution_count": 5,
   "metadata": {},
   "outputs": [
    {
     "data": {
      "image/png": "[encoded data removed]",
      "text/plain": [
       "<Figure size 432x288 with 2 Axes>"
      ]
     },
     "metadata": {
      "needs_background": "light"
     },
     "output_type": "display_data"
    }
   ],
   "source": [
    "import matplotlib as mpl\n",
    "\n",
    "\n",
    "feature_strength_im = random_forest.feature_importances_.reshape(8, 8)\n",
    "plt.imshow(feature_strength_im, cmap=mpl.cm.hot, interpolation=\"nearest\")\n",
    "plt.axis(\"off\")\n",
    "cbar = plt.colorbar(ticks=[random_forest.feature_importances_.min(), random_forest.feature_importances_.max()])\n",
    "cbar.ax.set_yticklabels(['Not important', 'Very important'])\n",
    "plt.show()"
   ]
  },
  {
   "cell_type": "markdown",
   "metadata": {},
   "source": [
    "## L1-based Regularization Feature Selections\n",
    "\n"
   ]
  },
  {
   "cell_type": "code",
   "execution_count": null,
   "metadata": {},
   "outputs": [],
   "source": []
  }
 ],
 "metadata": {
  "kernelspec": {
   "display_name": "Python 3",
   "language": "python",
   "name": "python3"
  },
  "language_info": {
   "codemirror_mode": {
    "name": "ipython",
    "version": 3
   },
   "file_extension": ".py",
   "mimetype": "text/x-python",
   "name": "python",
   "nbconvert_exporter": "python",
   "pygments_lexer": "ipython3",
   "version": "3.6.6"
  }
 },
 "nbformat": 4,
 "nbformat_minor": 2
}
