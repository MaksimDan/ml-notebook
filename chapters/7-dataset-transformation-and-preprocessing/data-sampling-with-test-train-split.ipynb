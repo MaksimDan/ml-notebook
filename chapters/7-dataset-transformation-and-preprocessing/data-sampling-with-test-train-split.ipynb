{
 "cells": [
  {
   "cell_type": "markdown",
   "metadata": {},
   "source": [
    "# Data Sampling with Test Train Split\n",
    "\n",
    "\n",
    "## The Problem with Random Sampling\n",
    "\n",
    "Consider this example. You have 5 red balls, 2 green balls and 3 blue balls. If you wanted a fair representation of the population of the 10 balls from 5 samples, you would expect to have 1/2 to red, 1/5 to be green, and the remaining to be blue. With random sampling without replacement, this what we generally get in the long term. In the immediate term, however this is not guareenteed.\n",
    "\n",
    "Introduce stratified sampling. In stratified sampling the population into homogenious subgroups called stravata, and the from each strata - the right number of instacne is sampling in order to _guarentee_ (key word here) that the samples are representative of the entire population.\n",
    "\n",
    "In our case, our strata would be: red, green, blue. And from each strata would would randomly sample the following if we wanted to ensure that we sample at least $\\leq 5$ balls.\n",
    "\n",
    "$\n",
    "\\text{red: }  \\lfloor 5/10*5 \\rfloor = 2 \\\\\n",
    "\\text{green: }\\lfloor 2/10*5 \\rfloor = 1 \\\\\n",
    "\\text{blue: } \\lfloor 3/10*5 \\rfloor = 1 \\\\\n",
    "$\n",
    "\n",
    "**What About Numerical Attributes?**\n",
    "\n",
    "In this case, we could _bin_ or _discretize_ the numerical data into groups and then stratify each group. We can do this for attributes that we know are particularly important, and will therefore want to make sure the attribute is well represented. There are a couple of strategies for doing this one way is the following:\n",
    "\n"
   ]
  },
  {
   "cell_type": "code",
   "execution_count": 47,
   "metadata": {},
   "outputs": [
    {
     "data": {
      "image/png": "[encoded data removed]",
      "text/plain": [
       "<Figure size 1080x360 with 2 Axes>"
      ]
     },
     "metadata": {
      "needs_background": "light"
     },
     "output_type": "display_data"
    }
   ],
   "source": [
    "import matplotlib.pyplot as plt\n",
    "import pandas as pd\n",
    "\n",
    "\n",
    "normal_matrix = np.random.normal(0, 10, (1000, 2))\n",
    "sample_df = pd.DataFrame(normal_matrix, columns=['A', 'B'])\n",
    "sample_df.hist(bins=50, figsize=(15,5))\n",
    "plt.show()"
   ]
  },
  {
   "cell_type": "code",
   "execution_count": 81,
   "metadata": {},
   "outputs": [
    {
     "data": {
      "text/html": [
       "<div>\n",
       "<style scoped>\n",
       "    .dataframe tbody tr th:only-of-type {\n",
       "        vertical-align: middle;\n",
       "    }\n",
       "\n",
       "    .dataframe tbody tr th {\n",
       "        vertical-align: top;\n",
       "    }\n",
       "\n",
       "    .dataframe thead th {\n",
       "        text-align: right;\n",
       "    }\n",
       "</style>\n",
       "<table border=\"1\" class=\"dataframe\">\n",
       "  <thead>\n",
       "    <tr style=\"text-align: right;\">\n",
       "      <th></th>\n",
       "      <th>A</th>\n",
       "      <th>B</th>\n",
       "      <th>C</th>\n",
       "    </tr>\n",
       "  </thead>\n",
       "  <tbody>\n",
       "    <tr>\n",
       "      <th>0</th>\n",
       "      <td>6.868593</td>\n",
       "      <td>-11.303856</td>\n",
       "      <td>-2.0</td>\n",
       "    </tr>\n",
       "    <tr>\n",
       "      <th>1</th>\n",
       "      <td>-1.278019</td>\n",
       "      <td>8.378370</td>\n",
       "      <td>3.0</td>\n",
       "    </tr>\n",
       "    <tr>\n",
       "      <th>2</th>\n",
       "      <td>-10.771069</td>\n",
       "      <td>-9.245524</td>\n",
       "      <td>-2.0</td>\n",
       "    </tr>\n",
       "  </tbody>\n",
       "</table>\n",
       "</div>"
      ],
      "text/plain": [
       "           A          B    C\n",
       "0   6.868593 -11.303856 -2.0\n",
       "1  -1.278019   8.378370  3.0\n",
       "2 -10.771069  -9.245524 -2.0"
      ]
     },
     "execution_count": 81,
     "metadata": {},
     "output_type": "execute_result"
    }
   ],
   "source": [
    "# now in a similiar way we have discritized the values into bins, we can create a new column of data\n",
    "# that mocks this is a perminate way\n",
    "\n",
    "# ensure to ceil to discritize float\n",
    "sample_df['C'] = np.ceil(sample_df['B'] / 4)\n",
    "sample_df.head(3)"
   ]
  },
  {
   "cell_type": "code",
   "execution_count": 82,
   "metadata": {},
   "outputs": [
    {
     "name": "stdout",
     "output_type": "stream",
     "text": [
      "[-0.0, 1.0, 2.0, 3.0, 4.0, 5.0, 6.0, 7.0, -1.0, -7.0, -6.0, -5.0, -4.0, -3.0, -2.0]\n"
     ]
    }
   ],
   "source": [
    "# possible numerical categorics now include\n",
    "print(list(set(sample_df['C'].tolist())))"
   ]
  },
  {
   "cell_type": "markdown",
   "metadata": {},
   "source": [
    "One thing we want to prove by example is that stratified sampling represents the population better and with less error when compared to random sampling. To do this, we compare the stratified and random sampled proportion to true proportion of in the samplied category field."
   ]
  },
  {
   "cell_type": "code",
   "execution_count": 83,
   "metadata": {},
   "outputs": [
    {
     "data": {
      "text/html": [
       "<div>\n",
       "<style scoped>\n",
       "    .dataframe tbody tr th:only-of-type {\n",
       "        vertical-align: middle;\n",
       "    }\n",
       "\n",
       "    .dataframe tbody tr th {\n",
       "        vertical-align: top;\n",
       "    }\n",
       "\n",
       "    .dataframe thead th {\n",
       "        text-align: right;\n",
       "    }\n",
       "</style>\n",
       "<table border=\"1\" class=\"dataframe\">\n",
       "  <thead>\n",
       "    <tr style=\"text-align: right;\">\n",
       "      <th></th>\n",
       "      <th>true</th>\n",
       "      <th>stratified</th>\n",
       "      <th>random</th>\n",
       "      <th>random_error</th>\n",
       "      <th>statified_error</th>\n",
       "    </tr>\n",
       "  </thead>\n",
       "  <tbody>\n",
       "    <tr>\n",
       "      <th>-7.0</th>\n",
       "      <td>0.002</td>\n",
       "      <td>NaN</td>\n",
       "      <td>NaN</td>\n",
       "      <td>NaN</td>\n",
       "      <td>NaN</td>\n",
       "    </tr>\n",
       "    <tr>\n",
       "      <th>-6.0</th>\n",
       "      <td>0.007</td>\n",
       "      <td>0.002</td>\n",
       "      <td>0.002</td>\n",
       "      <td>0.005</td>\n",
       "      <td>0.005</td>\n",
       "    </tr>\n",
       "    <tr>\n",
       "      <th>-5.0</th>\n",
       "      <td>0.020</td>\n",
       "      <td>0.004</td>\n",
       "      <td>0.006</td>\n",
       "      <td>0.014</td>\n",
       "      <td>0.016</td>\n",
       "    </tr>\n",
       "    <tr>\n",
       "      <th>-4.0</th>\n",
       "      <td>0.032</td>\n",
       "      <td>0.006</td>\n",
       "      <td>0.010</td>\n",
       "      <td>0.022</td>\n",
       "      <td>0.026</td>\n",
       "    </tr>\n",
       "    <tr>\n",
       "      <th>-3.0</th>\n",
       "      <td>0.055</td>\n",
       "      <td>0.011</td>\n",
       "      <td>0.010</td>\n",
       "      <td>0.045</td>\n",
       "      <td>0.044</td>\n",
       "    </tr>\n",
       "    <tr>\n",
       "      <th>-2.0</th>\n",
       "      <td>0.100</td>\n",
       "      <td>0.020</td>\n",
       "      <td>0.019</td>\n",
       "      <td>0.081</td>\n",
       "      <td>0.080</td>\n",
       "    </tr>\n",
       "    <tr>\n",
       "      <th>-1.0</th>\n",
       "      <td>0.146</td>\n",
       "      <td>0.029</td>\n",
       "      <td>0.034</td>\n",
       "      <td>0.112</td>\n",
       "      <td>0.117</td>\n",
       "    </tr>\n",
       "    <tr>\n",
       "      <th>-0.0</th>\n",
       "      <td>0.147</td>\n",
       "      <td>0.030</td>\n",
       "      <td>0.026</td>\n",
       "      <td>0.121</td>\n",
       "      <td>0.117</td>\n",
       "    </tr>\n",
       "    <tr>\n",
       "      <th>1.0</th>\n",
       "      <td>0.170</td>\n",
       "      <td>0.034</td>\n",
       "      <td>0.024</td>\n",
       "      <td>0.146</td>\n",
       "      <td>0.136</td>\n",
       "    </tr>\n",
       "    <tr>\n",
       "      <th>2.0</th>\n",
       "      <td>0.128</td>\n",
       "      <td>0.026</td>\n",
       "      <td>0.029</td>\n",
       "      <td>0.099</td>\n",
       "      <td>0.102</td>\n",
       "    </tr>\n",
       "    <tr>\n",
       "      <th>3.0</th>\n",
       "      <td>0.091</td>\n",
       "      <td>0.018</td>\n",
       "      <td>0.015</td>\n",
       "      <td>0.076</td>\n",
       "      <td>0.073</td>\n",
       "    </tr>\n",
       "    <tr>\n",
       "      <th>4.0</th>\n",
       "      <td>0.057</td>\n",
       "      <td>0.011</td>\n",
       "      <td>0.010</td>\n",
       "      <td>0.047</td>\n",
       "      <td>0.046</td>\n",
       "    </tr>\n",
       "    <tr>\n",
       "      <th>5.0</th>\n",
       "      <td>0.022</td>\n",
       "      <td>0.004</td>\n",
       "      <td>0.007</td>\n",
       "      <td>0.015</td>\n",
       "      <td>0.018</td>\n",
       "    </tr>\n",
       "    <tr>\n",
       "      <th>6.0</th>\n",
       "      <td>0.015</td>\n",
       "      <td>0.003</td>\n",
       "      <td>0.006</td>\n",
       "      <td>0.009</td>\n",
       "      <td>0.012</td>\n",
       "    </tr>\n",
       "    <tr>\n",
       "      <th>7.0</th>\n",
       "      <td>0.008</td>\n",
       "      <td>0.002</td>\n",
       "      <td>0.002</td>\n",
       "      <td>0.006</td>\n",
       "      <td>0.006</td>\n",
       "    </tr>\n",
       "  </tbody>\n",
       "</table>\n",
       "</div>"
      ],
      "text/plain": [
       "       true  stratified  random  random_error  statified_error\n",
       "-7.0  0.002         NaN     NaN           NaN              NaN\n",
       "-6.0  0.007       0.002   0.002         0.005            0.005\n",
       "-5.0  0.020       0.004   0.006         0.014            0.016\n",
       "-4.0  0.032       0.006   0.010         0.022            0.026\n",
       "-3.0  0.055       0.011   0.010         0.045            0.044\n",
       "-2.0  0.100       0.020   0.019         0.081            0.080\n",
       "-1.0  0.146       0.029   0.034         0.112            0.117\n",
       "-0.0  0.147       0.030   0.026         0.121            0.117\n",
       " 1.0  0.170       0.034   0.024         0.146            0.136\n",
       " 2.0  0.128       0.026   0.029         0.099            0.102\n",
       " 3.0  0.091       0.018   0.015         0.076            0.073\n",
       " 4.0  0.057       0.011   0.010         0.047            0.046\n",
       " 5.0  0.022       0.004   0.007         0.015            0.018\n",
       " 6.0  0.015       0.003   0.006         0.009            0.012\n",
       " 7.0  0.008       0.002   0.002         0.006            0.006"
      ]
     },
     "execution_count": 83,
     "metadata": {},
     "output_type": "execute_result"
    }
   ],
   "source": [
    "from sklearn.model_selection import train_test_split\n",
    "from sklearn.model_selection import StratifiedShuffleSplit\n",
    "\n",
    "\n",
    "# random sampling\n",
    "train_set_rand, test_set_rand = train_test_split(sample_df, test_size=0.2, random_state=42)\n",
    "\n",
    "# stratified sampling\n",
    "split = StratifiedShuffleSplit(n_splits=1, test_size=0.2, random_state=42)\n",
    "for train_index, test_index in split.split(sample_df, sample_df['C']):\n",
    "    train_set_strat, test_set_strat = sample_df.loc[train_index], sample_df.loc[test_index]\n",
    "\n",
    "# build the revealing the results\n",
    "compare_props = pd.DataFrame({\n",
    "    \"true\": sample_df['C'].value_counts() / len(sample_df),\n",
    "    \"stratified\": test_set_strat['C'].value_counts() / len(sample_df),\n",
    "    \"random\": test_set_rand['C'].value_counts() / len(sample_df)\n",
    "}).sort_index()\n",
    "\n",
    "compare_props[\"random_error\"] = abs(compare_props['random'] - compare_props['true'])\n",
    "compare_props[\"statified_error\"] = abs(compare_props['stratified'] - compare_props['true'])\n",
    "compare_props"
   ]
  },
  {
   "cell_type": "code",
   "execution_count": 84,
   "metadata": {},
   "outputs": [
    {
     "name": "stdout",
     "output_type": "stream",
     "text": [
      "total_error_random 0.798\n",
      "total_error_statified 0.7979999999999999\n"
     ]
    }
   ],
   "source": [
    "total_error_random, total_error_statified = compare_props['random_error'].sum(), compare_props['statified_error'].sum()\n",
    "print('total_error_random', total_error_random)\n",
    "print('total_error_statified', total_error_statified)"
   ]
  },
  {
   "cell_type": "markdown",
   "metadata": {},
   "source": [
    "\n",
    "**Implementation Challenges**\n",
    "\n",
    "If we have a small dataset which catagorical variables, this would be a thing to keep in mind. Another challenge to keep in mind is, random seeding in the context where the dataset can grow. Here, we would only want the new data to be assigned randomly, while the earlier data is seeded in the same way. \n"
   ]
  },
  {
   "cell_type": "code",
   "execution_count": 28,
   "metadata": {},
   "outputs": [],
   "source": []
  }
 ],
 "metadata": {
  "kernelspec": {
   "display_name": "Python 3",
   "language": "python",
   "name": "python3"
  },
  "language_info": {
   "codemirror_mode": {
    "name": "ipython",
    "version": 3
   },
   "file_extension": ".py",
   "mimetype": "text/x-python",
   "name": "python",
   "nbconvert_exporter": "python",
   "pygments_lexer": "ipython3",
   "version": "3.6.6"
  }
 },
 "nbformat": 4,
 "nbformat_minor": 2
}
