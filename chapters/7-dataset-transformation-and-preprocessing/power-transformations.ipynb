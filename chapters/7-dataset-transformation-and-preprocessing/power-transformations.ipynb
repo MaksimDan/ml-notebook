{
 "cells": [
  {
   "cell_type": "markdown",
   "metadata": {},
   "source": [
    "# Power Transformations\n",
    "\n",
    "Power transformations are a class of transformations that transform numerical features into a form convienient to our needs. This is basically taking the input of X, and running it through a function. Common transformations (functions) can include.\n",
    "\n",
    "1. $\\log{X} + C$, constant to address all negative values and zero. This just shifts the data does its a legal move. $C=abs(min(X) - 1)$\n",
    "2. $\\sqrt{X} + C$, and to allow definition for negative values, let $C = abs(min(X))$ \n",
    "3. $X^k$\n",
    "\n",
    "## Box-Cox Transformation\n",
    "\n",
    "Box-cox, named after its creators, attempts to find the best power to transform data closely model the normal distribution. We can use this, for example, to transform are almost-but-not-quite normal distribution of data, when we have evidence to support that the data should behave normally.\n",
    "\n",
    "$$\n",
    "y_i^{(\\lambda)} = \\left\\{\n",
    "        \\begin{array}{ll}\n",
    "            \\frac{y_i^{\\lambda} - 1}{\\lambda} & \\quad \\text{if } \\lambda \\neq 0 \\\\\n",
    "            ln(y_i) & \\quad \\text{if } \\lambda > 0\n",
    "        \\end{array}\n",
    "    \\right.\n",
    "$$\n"
   ]
  },
  {
   "cell_type": "markdown",
   "metadata": {},
   "source": []
  },
  {
   "cell_type": "code",
   "execution_count": null,
   "metadata": {},
   "outputs": [],
   "source": []
  }
 ],
 "metadata": {
  "kernelspec": {
   "display_name": "Python 3",
   "language": "python",
   "name": "python3"
  },
  "language_info": {
   "codemirror_mode": {
    "name": "ipython",
    "version": 3
   },
   "file_extension": ".py",
   "mimetype": "text/x-python",
   "name": "python",
   "nbconvert_exporter": "python",
   "pygments_lexer": "ipython3",
   "version": "3.6.6"
  }
 },
 "nbformat": 4,
 "nbformat_minor": 2
}
