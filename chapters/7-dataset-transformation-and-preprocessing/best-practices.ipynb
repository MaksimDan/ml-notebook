{
 "cells": [
  {
   "cell_type": "markdown",
   "metadata": {},
   "source": [
    "# Best Practices\n",
    "\n",
    "1. Collect all relavent data and information. It is difficult to know in advance of fields or attributes will become the key indicators for the final model. This way we can word with a relavent subset of data at our convienance.\n",
    "\n",
    "2. Keep data fields consistance by translating alaises or synonyms. For example, \"one\" -> \"1\", or \"Male\" -> \"M\", etc.\n",
    "\n",
    "3. Several different immutations strategies are viable, so it important it explore all cases with your model, as see which one performs best. The same can be said with feature selection. Feature selection is not guarenteed to improve model performance so it likewise goes without saying that it also be contrasted with cross-validation strategies.\n",
    "\n",
    "4. Document the source of every features, or if the feature was engineered, how it was engineered.\n",
    "    \n",
    "5. It is common knowledge to fit a machine learning algorithm to the training set, and verify against the test set. However, like with all transformers (which includes ml predictors), it is important to only fit to the training set, and then apply the transformation on the entire dataset via the training set. For example, this can include scalers. In summary, fit with the training set, and use this to transform both the testing and training sets. A type of transformation, say, Normalization, otherwise applied to the entire dataset would introduce a bias from the source of the testing set into the training set."
   ]
  },
  {
   "cell_type": "code",
   "execution_count": null,
   "metadata": {},
   "outputs": [],
   "source": []
  }
 ],
 "metadata": {
  "kernelspec": {
   "display_name": "Python 3",
   "language": "python",
   "name": "python3"
  },
  "language_info": {
   "codemirror_mode": {
    "name": "ipython",
    "version": 3
   },
   "file_extension": ".py",
   "mimetype": "text/x-python",
   "name": "python",
   "nbconvert_exporter": "python",
   "pygments_lexer": "ipython3",
   "version": "3.6.6"
  }
 },
 "nbformat": 4,
 "nbformat_minor": 2
}
