{
 "cells": [
  {
   "cell_type": "markdown",
   "metadata": {},
   "source": [
    "# Feature Engineering\n",
    "\n",
    "\n",
    "The process of creating domain-specific features based on existing features in order to improve the performance of a machine learning algorithm. It could be as sample as formulating a new feature as a linear combination of other feature or more complex as term frequency or tf-idf features for email spam classification algorithms.\n",
    "\n",
    "Feature engineer often requires domain specific knowledge, and is often the most _time consuming_ process of forming a model.\n",
    "\n",
    "## What are some options that work for feature engineering?\n",
    "\n",
    "**Binarization**\n",
    "\n",
    "Is the process of converting a numeric feature into a binary one by enforcing a condition `X['new_feature'] = X['selected feature'] >= t`. \n"
   ]
  },
  {
   "cell_type": "code",
   "execution_count": 1,
   "metadata": {},
   "outputs": [
    {
     "data": {
      "text/plain": [
       "array([[1],\n",
       "       [0],\n",
       "       [1],\n",
       "       [0]])"
      ]
     },
     "execution_count": 1,
     "metadata": {},
     "output_type": "execute_result"
    }
   ],
   "source": [
    "from sklearn.preprocessing import Binarizer\n",
    "\n",
    "\n",
    "X = [[4], [1], [3], [0]]\n",
    "binarizer = Binarizer(threshold=2.9)\n",
    "X_new = binarizer.fit_transform(X)\n",
    "X_new"
   ]
  },
  {
   "cell_type": "markdown",
   "metadata": {},
   "source": [
    "**Discretization / Binning**\n",
    "\n",
    "Is the process of converting a numerical features into one or more catagorical ones. Binarization the special case of discretization and discretization is the generalized of binarization. A common example is an age group: for adolescent, teenage, adult, middle age, and old.\n",
    "\n",
    "**Interaction**\n",
    "\n",
    "Is the process of producing a new feature based on the mathematical operation of two other existing features. For example, the two features `n_visits_week` and `n_purchases_week` and produce `n_purchases_visit` by `n_visits_week / n_purchases_week`.\n",
    "\n",
    "The following class implementations all possible interaction terms, assumming associativity of the operations ($a+b=b+a)$. I say this because some operators are not associative, like $a^b$, but the order is not taken into account within the implementation."
   ]
  },
  {
   "cell_type": "code",
   "execution_count": 2,
   "metadata": {},
   "outputs": [
    {
     "name": "stdout",
     "output_type": "stream",
     "text": [
      "   A + B  A + C  A + D  B + C  B + D  C + D\n",
      "0     82     38    126     56    144    100\n",
      "1     98    125    121    163    159    186\n",
      "2     91     71    104     74    107     87\n",
      "\n",
      "   A - B  A - C  A - D  B - C  B - D  C - D\n",
      "0    -18     26    -62     44    -44    -88\n",
      "1    -38    -65    -61    -27    -23      4\n",
      "2     -3     17    -16     20    -13    -33\n",
      "\n",
      "   A * B  A * C  A * D  B * C  B * D  C * D\n",
      "0   1600    192   3008    300   4700    564\n",
      "1   2040   2850   2730   6460   6188   8645\n",
      "2   2068   1188   2640   1269   2820   1620\n",
      "\n",
      "      A / B     A / C     A / D     B / C     B / D     C / D\n",
      "0  0.640000  5.333333  0.340426  8.333333  0.531915  0.063830\n",
      "1  0.441176  0.315789  0.329670  0.715789  0.747253  1.043956\n",
      "2  0.936170  1.629630  0.733333  1.740741  0.783333  0.450000\n",
      "\n"
     ]
    }
   ],
   "source": [
    "import operator as op\n",
    "import itertools\n",
    "import numpy as np\n",
    "import pandas as pd\n",
    "\n",
    "\n",
    "class Interaction:\n",
    "    op_map = {\n",
    "        '+': op.add,\n",
    "        '-': op.sub,\n",
    "        '*': op.mul,\n",
    "        '/': op.truediv,\n",
    "        '^': op.pow\n",
    "    }\n",
    "\n",
    "    @staticmethod\n",
    "    def build_interactions(df, operators, corr_filter=None):\n",
    "        \"\"\"\n",
    "        :param df: DataFrame - full dataframe where the features are assummed\n",
    "        :param operatros: list of basic operatiosn\n",
    "        :param corr_filter: correlation coefficient threshold to filter attributes\n",
    "        \"\"\"\n",
    "        return {op_str: Interaction._interaction_comb(df, op_str, corr_filter) for op_str in operators}\n",
    "\n",
    "    @staticmethod\n",
    "    def op_column_name(op_str, feature_a, feature_b):\n",
    "        return f'{feature_a} {op_str} {feature_b}'\n",
    "\n",
    "    @staticmethod\n",
    "    def _interaction_comb(df, op_str, corr_filter):\n",
    "        df_map = {}\n",
    "        the_op = Interaction.op_map[op_str]\n",
    "        for a, b in itertools.combinations(list(df), 2):\n",
    "            df_map[Interaction.op_column_name(op_str, a, b)] = the_op(df[a], df[b])\n",
    "        full_df = pd.DataFrame(df_map)\n",
    "        if corr_filter is None:\n",
    "            return full_df\n",
    "        else:\n",
    "            # filter out redundantly correlated columns\n",
    "            corr_matrix = full_df.corr()\n",
    "            good_corr_filters = [Interaction.op_column_name(op_str, a, b) for a, b in\n",
    "                                 itertools.combinations(list(df), 2)\n",
    "                                 if corr_matrix[a][b] >= abs(corr_filter)]\n",
    "            return full_df[good_corr_filters]\n",
    "\n",
    "\n",
    "df = pd.DataFrame(np.random.randint(0, 100, size=(50, 4)), columns=list('ABCD'))\n",
    "dfs = Interaction.build_interactions(df, ['+', '-', '/', '^', '*'])\n",
    "\n",
    "print(dfs['+'].head(3), end='\\n\\n')\n",
    "print(dfs['-'].head(3), end='\\n\\n')\n",
    "print(dfs['*'].head(3), end='\\n\\n')\n",
    "print(dfs['/'].head(3), end='\\n\\n')\n"
   ]
  },
  {
   "cell_type": "markdown",
   "metadata": {},
   "source": [
    "**Polynomial Transformation**\n",
    "\n",
    "In the process of generating all combinations of polynomial and interaction features. For example, two features $a$ and $b$, have the polynomial interactions with 2 degrees as $a^0$ or $b^0$, $a$, $b$, $a^2$, $b^2$ and $ab$.\n",
    "\n",
    "Two features will degree three contains all the polynomial features of degree 2 as a subset, and then the additional combination you can make with 3. Under the hood, we can generalize all the possible combination on features using a power matrix that operate on the features. For example, with two features, all polynomial combinations of degree k can be described by $[a^{k_1}, b^{k_2}]$.\n",
    "\n",
    "In summary, with `PolynomialFeatures` we can generate a power matrix that describes all the possible combinations and interactions a model can have in terms of the variable number of degrees (power) and the number of features (columns).\n",
    "\n",
    "For example:"
   ]
  },
  {
   "cell_type": "code",
   "execution_count": 3,
   "metadata": {},
   "outputs": [
    {
     "name": "stdout",
     "output_type": "stream",
     "text": [
      "Columns = number of features\n",
      "Rows = number of degrees\n"
     ]
    },
    {
     "data": {
      "text/html": [
       "<div>\n",
       "<style scoped>\n",
       "    .dataframe tbody tr th:only-of-type {\n",
       "        vertical-align: middle;\n",
       "    }\n",
       "\n",
       "    .dataframe tbody tr th {\n",
       "        vertical-align: top;\n",
       "    }\n",
       "\n",
       "    .dataframe thead th {\n",
       "        text-align: right;\n",
       "    }\n",
       "</style>\n",
       "<table border=\"1\" class=\"dataframe\">\n",
       "  <thead>\n",
       "    <tr style=\"text-align: right;\">\n",
       "      <th></th>\n",
       "      <th>0</th>\n",
       "      <th>1</th>\n",
       "      <th>2</th>\n",
       "      <th>3</th>\n",
       "      <th>4</th>\n",
       "    </tr>\n",
       "  </thead>\n",
       "  <tbody>\n",
       "    <tr>\n",
       "      <th>0</th>\n",
       "      <td></td>\n",
       "      <td>1</td>\n",
       "      <td>1</td>\n",
       "      <td>1</td>\n",
       "      <td>1</td>\n",
       "    </tr>\n",
       "    <tr>\n",
       "      <th>1</th>\n",
       "      <td></td>\n",
       "      <td>1+A</td>\n",
       "      <td>1+A+B</td>\n",
       "      <td>1+A+B+C</td>\n",
       "      <td>1+A+B+C+D</td>\n",
       "    </tr>\n",
       "    <tr>\n",
       "      <th>2</th>\n",
       "      <td></td>\n",
       "      <td>1+A+A^2</td>\n",
       "      <td>1+A+B+A^2+A B+B^2</td>\n",
       "      <td>1+A+B+C+A^2+A B+A C+B^2+B C+C^2</td>\n",
       "      <td>1+A+B+C+D+A^2+A B+A C+A D+B^2+B C+B D+C^2+C D+D^2</td>\n",
       "    </tr>\n",
       "    <tr>\n",
       "      <th>3</th>\n",
       "      <td></td>\n",
       "      <td>1+A+A^2+A^3</td>\n",
       "      <td>1+A+B+A^2+A B+B^2+A^3+A^2 B+A B^2+B^3</td>\n",
       "      <td>1+A+B+C+A^2+A B+A C+B^2+B C+C^2+A^3+A^2 B+A^2 ...</td>\n",
       "      <td>1+A+B+C+D+A^2+A B+A C+A D+B^2+B C+B D+C^2+C D+...</td>\n",
       "    </tr>\n",
       "    <tr>\n",
       "      <th>4</th>\n",
       "      <td></td>\n",
       "      <td>1+A+A^2+A^3+A^4</td>\n",
       "      <td>1+A+B+A^2+A B+B^2+A^3+A^2 B+A B^2+B^3+A^4+A^3 ...</td>\n",
       "      <td>1+A+B+C+A^2+A B+A C+B^2+B C+C^2+A^3+A^2 B+A^2 ...</td>\n",
       "      <td>1+A+B+C+D+A^2+A B+A C+A D+B^2+B C+B D+C^2+C D+...</td>\n",
       "    </tr>\n",
       "  </tbody>\n",
       "</table>\n",
       "</div>"
      ],
      "text/plain": [
       "  0                1                                                  2  \\\n",
       "0                  1                                                  1   \n",
       "1                1+A                                              1+A+B   \n",
       "2            1+A+A^2                                  1+A+B+A^2+A B+B^2   \n",
       "3        1+A+A^2+A^3              1+A+B+A^2+A B+B^2+A^3+A^2 B+A B^2+B^3   \n",
       "4    1+A+A^2+A^3+A^4  1+A+B+A^2+A B+B^2+A^3+A^2 B+A B^2+B^3+A^4+A^3 ...   \n",
       "\n",
       "                                                   3  \\\n",
       "0                                                  1   \n",
       "1                                            1+A+B+C   \n",
       "2                    1+A+B+C+A^2+A B+A C+B^2+B C+C^2   \n",
       "3  1+A+B+C+A^2+A B+A C+B^2+B C+C^2+A^3+A^2 B+A^2 ...   \n",
       "4  1+A+B+C+A^2+A B+A C+B^2+B C+C^2+A^3+A^2 B+A^2 ...   \n",
       "\n",
       "                                                   4  \n",
       "0                                                  1  \n",
       "1                                          1+A+B+C+D  \n",
       "2  1+A+B+C+D+A^2+A B+A C+A D+B^2+B C+B D+C^2+C D+D^2  \n",
       "3  1+A+B+C+D+A^2+A B+A C+A D+B^2+B C+B D+C^2+C D+...  \n",
       "4  1+A+B+C+D+A^2+A B+A C+A D+B^2+B C+B D+C^2+C D+...  "
      ]
     },
     "execution_count": 3,
     "metadata": {},
     "output_type": "execute_result"
    }
   ],
   "source": [
    "import pandas as pd\n",
    "from myutils.regression.utils import polynomial_function\n",
    "\n",
    "\n",
    "max_ndegrees, max_nfeatures = 4, 4\n",
    "demo_poly_matrix = [['' for i in range(max_ndegrees+1)] for j in range(max_nfeatures+1)]\n",
    "for degree in range(max_ndegrees+1):\n",
    "    for feature in range(1, max_nfeatures+1):\n",
    "        demo_poly_matrix[degree][feature] = polynomial_function(degree, feature)\n",
    "        \n",
    "print('Columns = number of features')\n",
    "print('Rows = number of degrees')\n",
    "\n",
    "pd.DataFrame(demo_poly_matrix)"
   ]
  },
  {
   "cell_type": "markdown",
   "metadata": {},
   "source": [
    "Notice how we can entirely describe a purely linear model using a polynomial model. See the first row: a linear model is nothing more than a polynomial model with 1 degree.\n",
    "\n",
    "How `PolynomialFeatures` works is that it takes all combinations of the number of features in the model along with the number of degrees each feature could have. We can then use this to transform our data to obtain _additional_ features based off the _same_ variables. This grows at $\\frac{(n+d)!}{d!n!}$, where $d$ is the option number of degrees and $n$ is the number of features in your model. It also include interaction terms such as $ab$ if we have 2 features. So in this sense, polynomial regression is capable of finding relationship between features where a purely linear model cannot do this.\n"
   ]
  },
  {
   "cell_type": "code",
   "execution_count": 4,
   "metadata": {},
   "outputs": [
    {
     "data": {
      "text/plain": [
       "array([[ 1.,  4., 16., 64.],\n",
       "       [ 1.,  1.,  1.,  1.],\n",
       "       [ 1.,  3.,  9., 27.],\n",
       "       [ 1.,  0.,  0.,  0.]])"
      ]
     },
     "execution_count": 4,
     "metadata": {},
     "output_type": "execute_result"
    }
   ],
   "source": [
    "from sklearn.preprocessing import PolynomialFeatures\n",
    "\n",
    "\n",
    "poly = PolynomialFeatures(degree=3)\n",
    "X_new = poly.fit_transform(X)\n",
    "X_new"
   ]
  },
  {
   "cell_type": "code",
   "execution_count": null,
   "metadata": {},
   "outputs": [],
   "source": []
  }
 ],
 "metadata": {
  "kernelspec": {
   "display_name": "Python 3",
   "language": "python",
   "name": "python3"
  },
  "language_info": {
   "codemirror_mode": {
    "name": "ipython",
    "version": 3
   },
   "file_extension": ".py",
   "mimetype": "text/x-python",
   "name": "python",
   "nbconvert_exporter": "python",
   "pygments_lexer": "ipython3",
   "version": "3.6.6"
  },
  "toc": {
   "nav_menu": {},
   "number_sections": true,
   "sideBar": true,
   "skip_h1_title": false,
   "title_cell": "Table of Contents",
   "title_sidebar": "Contents",
   "toc_cell": false,
   "toc_position": {},
   "toc_section_display": true,
   "toc_window_display": true
  }
 },
 "nbformat": 4,
 "nbformat_minor": 2
}
