{
 "cells": [
  {
   "cell_type": "markdown",
   "metadata": {},
   "source": [
    "# Introduction\n",
    "\n",
    "In reinforcement learning, a machine lives in an environment and at every point is able to perceive the _state_ of that environment as a vector of features. In a given state the machine is also able to execute _actions_. As the result of each action, the machine obtains a _reward_ and is able to progress to another state.\n",
    "\n",
    "The goal of reinforcement learning is to learn a _policy_. A policy is similiar to that of an supervised system, where given a state (feature vector), the policy outputs an optimal action for a reward. We say that an action is optimal if it maximized the expected average reward.\n",
    "\n",
    "Reinforment learning is distinct in the way the decision making is made on a sequential basis and the end goal is long term."
   ]
  },
  {
   "cell_type": "code",
   "execution_count": null,
   "metadata": {},
   "outputs": [],
   "source": []
  }
 ],
 "metadata": {
  "kernelspec": {
   "display_name": "Python 3",
   "language": "python",
   "name": "python3"
  },
  "language_info": {
   "codemirror_mode": {
    "name": "ipython",
    "version": 3
   },
   "file_extension": ".py",
   "mimetype": "text/x-python",
   "name": "python",
   "nbconvert_exporter": "python",
   "pygments_lexer": "ipython3",
   "version": "3.6.6"
  }
 },
 "nbformat": 4,
 "nbformat_minor": 2
}
