{
 "cells": [
  {
   "cell_type": "markdown",
   "metadata": {},
   "source": [
    "# Model Labeling\n",
    "\n",
    "Labeling is a very time intensive task, but data is not available, but there are ways to help migate this and prioritize certain areas of the training set during labeling process.\n",
    "\n",
    "If our goal is to maximize performance with minimal amount of work, our goal is to identify instances in the training set that are most worth while to label.\n",
    "\n",
    "We can...\n",
    "\n",
    "1. Run outlier detection and avoid labeling outlier cases.\n",
    "2. Run a semi-supervised learning algorithm like clustering and to identify k centroids and label propgate instances closest to this centroid. See ![this chapter](../...).\n",
    "3. Uncertainity sampling: label instances the model (which particularly has soft labeling capabilities) is uncertain about (i.e. where it's estimated probability is the lowest).\n"
   ]
  },
  {
   "cell_type": "code",
   "execution_count": null,
   "metadata": {},
   "outputs": [],
   "source": []
  }
 ],
 "metadata": {
  "kernelspec": {
   "display_name": "Python 3",
   "language": "python",
   "name": "python3"
  },
  "language_info": {
   "codemirror_mode": {
    "name": "ipython",
    "version": 3
   },
   "file_extension": ".py",
   "mimetype": "text/x-python",
   "name": "python",
   "nbconvert_exporter": "python",
   "pygments_lexer": "ipython3",
   "version": "3.6.7"
  }
 },
 "nbformat": 4,
 "nbformat_minor": 2
}
