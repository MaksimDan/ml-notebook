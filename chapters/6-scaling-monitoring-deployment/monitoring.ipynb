{
 "cells": [
  {
   "cell_type": "markdown",
   "metadata": {},
   "source": [
    "# Monitoring\n",
    "\n",
    "As data evolves, models \"rot\" over time. So it is a good idea to regularly update the models with fresh data, and perform healthchecks periodically.\n",
    "\n",
    "## Healthchecks\n",
    "\n",
    "### Model\n",
    "\n",
    "It is a good idea to routinely monitor its performance at regular intervals. If the model is not up our standards, we also might want make an alert."
   ]
  },
  {
   "cell_type": "code",
   "execution_count": 4,
   "metadata": {},
   "outputs": [
    {
     "name": "stdout",
     "output_type": "stream",
     "text": [
      "Health check on the model, R^2: 0.75\n"
     ]
    }
   ],
   "source": [
    "import logging\n",
    "from sklearn.metrics import r2_score\n",
    "\n",
    "\n",
    "def health_check(r2_thres=.5):\n",
    "    # mock..\n",
    "    # score = r2_score(y_train, predictions)\n",
    "    score = .75\n",
    "    print(f'Health check on the model, R^2: {score}')\n",
    "    if score <= r2_thres:\n",
    "        logging.warn(f'Model healthcheck below R^2 threshold: {score}')\n",
    "\n",
    "health_check()"
   ]
  },
  {
   "cell_type": "markdown",
   "metadata": {},
   "source": [
    "### Data\n",
    "\n",
    "Sometimes input data can fail and can send in bad data, no data, or just random data. These are important to catch because otherwise finding these failures at the expense of the model (healthcheck) could already cause some potential damage.\n",
    "\n",
    "Data comes in at particular distribution with some amplitude, deviation, and offset (mean). There are many different ways we can compare whether two distributes are similiar \"enough\". And we can define what \"enough\" means exactly.\n",
    "\n"
   ]
  },
  {
   "cell_type": "markdown",
   "metadata": {},
   "source": [
    "## Rollbacks\n",
    "\n",
    "If for whatever reason the previous model failed, then you should rollback to the previous deployment. For this reason, it is a good idea to maintain a kind of model history state.\n",
    "\n"
   ]
  }
 ],
 "metadata": {
  "kernelspec": {
   "display_name": "Python 3",
   "language": "python",
   "name": "python3"
  },
  "language_info": {
   "codemirror_mode": {
    "name": "ipython",
    "version": 3
   },
   "file_extension": ".py",
   "mimetype": "text/x-python",
   "name": "python",
   "nbconvert_exporter": "python",
   "pygments_lexer": "ipython3",
   "version": "3.6.6"
  }
 },
 "nbformat": 4,
 "nbformat_minor": 2
}
