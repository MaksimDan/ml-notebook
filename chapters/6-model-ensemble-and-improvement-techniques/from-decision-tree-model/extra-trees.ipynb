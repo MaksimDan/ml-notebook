{
 "cells": [
  {
   "cell_type": "markdown",
   "metadata": {},
   "source": [
    "# Extremely Random Trees (Extra-Trees)\n",
    "\n",
    "As a recap on random forests, for every node split, a random subset of features are selected, and then from that group of random features the best feature is selected using mutual information or some other metric.\n",
    "\n",
    "Now, rather than selecting the best feature based off some metric, one other dumb-but-actual-works-ok technique is to just randomly select a feature again from\n",
    "\n",
    "\n",
    "??? -> \n",
    "\n",
    "    When you are growing a tree in a Random Forest, at each node only a random subset of the features is\n",
    "    considered for splitting (as discussed earlier). It is possible to make trees even more random by also\n",
    "    using random thresholds for each feature rather than searching for the best possible thresholds (like\n",
    "    regular Decision Trees do).\n",
    "\n",
    "    A forest of such extremely random trees is simply called an Extremely Randomized Trees ensemble\n",
    "    12\n",
    "    (or\n",
    "    Extra-Trees for short). Once again, this trades more bias for a lower variance. It also makes Extra-Trees\n",
    "    much faster to train than regular Random Forests since finding the best possible threshold for each feature\n",
    "    at every node is one of the most time-consuming tasks of growing a tree.\n",
    "    \n",
    "\n",
    "**Should I use a random forest or Extra-Tree model?**\n",
    "\n",
    "There is no distinct way to tell. Extre-Trees tend to perform worse in a high dimensional setting."
   ]
  },
  {
   "cell_type": "code",
   "execution_count": null,
   "metadata": {},
   "outputs": [],
   "source": []
  }
 ],
 "metadata": {
  "kernelspec": {
   "display_name": "Python 3",
   "language": "python",
   "name": "python3"
  },
  "language_info": {
   "codemirror_mode": {
    "name": "ipython",
    "version": 3
   },
   "file_extension": ".py",
   "mimetype": "text/x-python",
   "name": "python",
   "nbconvert_exporter": "python",
   "pygments_lexer": "ipython3",
   "version": "3.6.6"
  }
 },
 "nbformat": 4,
 "nbformat_minor": 2
}
