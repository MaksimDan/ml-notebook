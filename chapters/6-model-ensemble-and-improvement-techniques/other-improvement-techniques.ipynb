{
 "cells": [
  {
   "cell_type": "markdown",
   "metadata": {},
   "source": [
    "# Other Improvement Techniques\n",
    "\n",
    "1. For classification based tasks confusion matricies reveal areas that your classifier might need more work in. Using these pain points, we can focus our attention on:\n",
    "    1. Get more training data\n",
    "    2. Engineer new features on misclassified groups. This might require additional preprocessing on the data.\n",
    "    3. Looks at these errors individually. See where the classification is going wrong, and use your own head to come up with a hypothesis as to why this happens."
   ]
  }
 ],
 "metadata": {
  "kernelspec": {
   "display_name": "Python 3",
   "language": "python",
   "name": "python3"
  },
  "language_info": {
   "codemirror_mode": {
    "name": "ipython",
    "version": 3
   },
   "file_extension": ".py",
   "mimetype": "text/x-python",
   "name": "python",
   "nbconvert_exporter": "python",
   "pygments_lexer": "ipython3",
   "version": "3.6.6"
  }
 },
 "nbformat": 4,
 "nbformat_minor": 2
}
