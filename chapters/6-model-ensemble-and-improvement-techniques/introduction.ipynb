{
 "cells": [
  {
   "cell_type": "markdown",
   "metadata": {},
   "source": [
    "# Introduction\n",
    "\n",
    "In ensemble learning the basis on one type of model or more are used in creative ways to build an entirely new one. In other words, every ensemble will:\n",
    "\n",
    "1. Have many different (or the same) classifiers.\n",
    "2. Each of which makes a classification or regression.\n",
    "3. And in the end, a final prediction is made using some statistical mode on each of the models.\n",
    "\n",
    "The main idea is to employ whats known as the \"wisdom of the crowd\", and that in general, any individual classifier performs worse than many models working together. For example, in a \"count the number of jelly beans in a jar\" analogy, the average prediction will in the majority of cases have a lower error than any the error of a single individuals prediction.\n",
    "\n",
    "**Why do ensemble methods tend to work so well?**\n",
    "\n",
    "Intuitively we can probabely understand why this is the case. In the jelly bean analogy, a individuals overestimately will in most cases be eliminated by a persons underestimate. By even mathematically, we can show that an ensemble of weak learners (models that tend to perform slightly better than random guessing), become a strong learner (a high accuracy achieving model).\n",
    "\n",
    "Consider the following simulation for a binary classifier.\n",
    "\n",
    "1. You have 10 classifiers, each of which have 51% probability of obtaining the correct classification (we'll call heads).\n",
    "2. An individual classifier forms its prediction. Then we obtain our final classification by obtaining the majority voted classification on the 10 different classifiers.\n",
    "\n",
    "![more_models_is_better.png](../../assets/6-model-ensemble-and-improvement-techniques/more_models_is_better.png)"
   ]
  },
  {
   "cell_type": "code",
   "execution_count": 19,
   "metadata": {},
   "outputs": [
    {
     "data": {
      "text/html": [
       "<div>\n",
       "<style scoped>\n",
       "    .dataframe tbody tr th:only-of-type {\n",
       "        vertical-align: middle;\n",
       "    }\n",
       "\n",
       "    .dataframe tbody tr th {\n",
       "        vertical-align: top;\n",
       "    }\n",
       "\n",
       "    .dataframe thead th {\n",
       "        text-align: right;\n",
       "    }\n",
       "</style>\n",
       "<table border=\"1\" class=\"dataframe\">\n",
       "  <thead>\n",
       "    <tr style=\"text-align: right;\">\n",
       "      <th></th>\n",
       "      <th>class</th>\n",
       "      <th>n_models</th>\n",
       "      <th>prob</th>\n",
       "      <th>winner</th>\n",
       "    </tr>\n",
       "  </thead>\n",
       "  <tbody>\n",
       "    <tr>\n",
       "      <th>0</th>\n",
       "      <td></td>\n",
       "      <td>0</td>\n",
       "      <td>1.000000</td>\n",
       "      <td>None</td>\n",
       "    </tr>\n",
       "    <tr>\n",
       "      <th>1</th>\n",
       "      <td>0</td>\n",
       "      <td>1</td>\n",
       "      <td>0.490000</td>\n",
       "      <td>0</td>\n",
       "    </tr>\n",
       "    <tr>\n",
       "      <th>2</th>\n",
       "      <td>1</td>\n",
       "      <td>1</td>\n",
       "      <td>0.510000</td>\n",
       "      <td>1</td>\n",
       "    </tr>\n",
       "    <tr>\n",
       "      <th>3</th>\n",
       "      <td>00</td>\n",
       "      <td>2</td>\n",
       "      <td>0.240100</td>\n",
       "      <td>0</td>\n",
       "    </tr>\n",
       "    <tr>\n",
       "      <th>4</th>\n",
       "      <td>01</td>\n",
       "      <td>2</td>\n",
       "      <td>0.249900</td>\n",
       "      <td>0</td>\n",
       "    </tr>\n",
       "    <tr>\n",
       "      <th>5</th>\n",
       "      <td>10</td>\n",
       "      <td>2</td>\n",
       "      <td>0.249900</td>\n",
       "      <td>1</td>\n",
       "    </tr>\n",
       "    <tr>\n",
       "      <th>6</th>\n",
       "      <td>11</td>\n",
       "      <td>2</td>\n",
       "      <td>0.260100</td>\n",
       "      <td>1</td>\n",
       "    </tr>\n",
       "    <tr>\n",
       "      <th>7</th>\n",
       "      <td>000</td>\n",
       "      <td>3</td>\n",
       "      <td>0.117649</td>\n",
       "      <td>0</td>\n",
       "    </tr>\n",
       "    <tr>\n",
       "      <th>8</th>\n",
       "      <td>001</td>\n",
       "      <td>3</td>\n",
       "      <td>0.122451</td>\n",
       "      <td>0</td>\n",
       "    </tr>\n",
       "    <tr>\n",
       "      <th>9</th>\n",
       "      <td>010</td>\n",
       "      <td>3</td>\n",
       "      <td>0.122451</td>\n",
       "      <td>0</td>\n",
       "    </tr>\n",
       "  </tbody>\n",
       "</table>\n",
       "</div>"
      ],
      "text/plain": [
       "  class  n_models      prob winner\n",
       "0               0  1.000000   None\n",
       "1     0         1  0.490000      0\n",
       "2     1         1  0.510000      1\n",
       "3    00         2  0.240100      0\n",
       "4    01         2  0.249900      0\n",
       "5    10         2  0.249900      1\n",
       "6    11         2  0.260100      1\n",
       "7   000         3  0.117649      0\n",
       "8   001         3  0.122451      0\n",
       "9   010         3  0.122451      0"
      ]
     },
     "execution_count": 19,
     "metadata": {},
     "output_type": "execute_result"
    }
   ],
   "source": [
    "from queue import Queue\n",
    "from collections import Counter\n",
    "import pandas as pd\n",
    "\n",
    "\n",
    "def build_prob_tree(p_events, n_models):\n",
    "    assert sum(p_events) == 1, \"all probable events must sum to 1.\"\n",
    "    history = []\n",
    "    q = Queue()\n",
    "    q.put({'n_models': 0, 'prob': 1, 'class': '', 'winner': None})\n",
    "    \n",
    "    while not q.empty():\n",
    "        parent = q.get()\n",
    "        history.append(parent)\n",
    "        if parent['n_models'] <= n_models:\n",
    "            for c, p in enumerate(p_events):\n",
    "                _class = parent['class']+str(c)\n",
    "                majority_class = Counter(_class).most_common(1)[0][0]\n",
    "                q.put({'n_models': parent['n_models']+1,\n",
    "                       'prob': p*parent['prob'],\n",
    "                       'class': _class,\n",
    "                       'winner': majority_class})\n",
    "    return history\n",
    "\n",
    "\n",
    "hist = build_prob_tree([.49, .51], 15)\n",
    "pd.DataFrame(hist).head(10)"
   ]
  },
  {
   "cell_type": "code",
   "execution_count": 20,
   "metadata": {},
   "outputs": [
    {
     "data": {
      "text/html": [
       "<div>\n",
       "<style scoped>\n",
       "    .dataframe tbody tr th:only-of-type {\n",
       "        vertical-align: middle;\n",
       "    }\n",
       "\n",
       "    .dataframe tbody tr th {\n",
       "        vertical-align: top;\n",
       "    }\n",
       "\n",
       "    .dataframe thead th {\n",
       "        text-align: right;\n",
       "    }\n",
       "</style>\n",
       "<table border=\"1\" class=\"dataframe\">\n",
       "  <thead>\n",
       "    <tr style=\"text-align: right;\">\n",
       "      <th></th>\n",
       "      <th>n_models</th>\n",
       "      <th>p_correct</th>\n",
       "    </tr>\n",
       "  </thead>\n",
       "  <tbody>\n",
       "    <tr>\n",
       "      <th>0</th>\n",
       "      <td>0</td>\n",
       "      <td>0.000000</td>\n",
       "    </tr>\n",
       "    <tr>\n",
       "      <th>1</th>\n",
       "      <td>1</td>\n",
       "      <td>0.510000</td>\n",
       "    </tr>\n",
       "    <tr>\n",
       "      <th>2</th>\n",
       "      <td>2</td>\n",
       "      <td>0.510000</td>\n",
       "    </tr>\n",
       "    <tr>\n",
       "      <th>3</th>\n",
       "      <td>3</td>\n",
       "      <td>0.514998</td>\n",
       "    </tr>\n",
       "    <tr>\n",
       "      <th>4</th>\n",
       "      <td>4</td>\n",
       "      <td>0.514998</td>\n",
       "    </tr>\n",
       "    <tr>\n",
       "      <th>5</th>\n",
       "      <td>5</td>\n",
       "      <td>0.518745</td>\n",
       "    </tr>\n",
       "    <tr>\n",
       "      <th>6</th>\n",
       "      <td>6</td>\n",
       "      <td>0.518745</td>\n",
       "    </tr>\n",
       "    <tr>\n",
       "      <th>7</th>\n",
       "      <td>7</td>\n",
       "      <td>0.521866</td>\n",
       "    </tr>\n",
       "    <tr>\n",
       "      <th>8</th>\n",
       "      <td>8</td>\n",
       "      <td>0.521866</td>\n",
       "    </tr>\n",
       "    <tr>\n",
       "      <th>9</th>\n",
       "      <td>9</td>\n",
       "      <td>0.524596</td>\n",
       "    </tr>\n",
       "  </tbody>\n",
       "</table>\n",
       "</div>"
      ],
      "text/plain": [
       "   n_models  p_correct\n",
       "0         0   0.000000\n",
       "1         1   0.510000\n",
       "2         2   0.510000\n",
       "3         3   0.514998\n",
       "4         4   0.514998\n",
       "5         5   0.518745\n",
       "6         6   0.518745\n",
       "7         7   0.521866\n",
       "8         8   0.521866\n",
       "9         9   0.524596"
      ]
     },
     "execution_count": 20,
     "metadata": {},
     "output_type": "execute_result"
    }
   ],
   "source": [
    "from collections import defaultdict\n",
    "\n",
    "\n",
    "def flatten_by_level(history, correct_classifier):\n",
    "    by_n_models = defaultdict(list)\n",
    "    for d in history:\n",
    "        by_n_models[d['n_models']].append(d)\n",
    "    \n",
    "    flattened_d = []\n",
    "    for n_models, d_list in by_n_models.items():\n",
    "        sum_correct_model_prob = 0\n",
    "        for d in d_list:\n",
    "            if d['winner'] == correct_classifier:\n",
    "                sum_correct_model_prob += d['prob']\n",
    "        flattened_d.append({'n_models': n_models,\n",
    "                            'p_correct': sum_correct_model_prob})\n",
    "    return flattened_d\n",
    "\n",
    "\n",
    "flattened_hist = flatten_by_level(hist, '1')\n",
    "flattened_hist_df = pd.DataFrame(flattened_hist)\n",
    "flattened_hist_df.head(10)"
   ]
  },
  {
   "cell_type": "code",
   "execution_count": 27,
   "metadata": {},
   "outputs": [
    {
     "data": {
      "text/plain": [
       "Text(0.5, 1.0, 'Probability of Correct Binary Classification from Voting\\n via Variable Weak Learners | P(X=0)=.49 && P(X=1)=.51')"
      ]
     },
     "execution_count": 27,
     "metadata": {},
     "output_type": "execute_result"
    },
    {
     "data": {
      "image/png": "[encoded data removed]",
      "text/plain": [
       "<Figure size 432x288 with 1 Axes>"
      ]
     },
     "metadata": {
      "needs_background": "light"
     },
     "output_type": "display_data"
    }
   ],
   "source": [
    "import seaborn as sns\n",
    "import matplotlib.pyplot as plt\n",
    "\n",
    "\n",
    "ax = sns.lineplot(x=\"n_models\", y=\"p_correct\", data=flattened_hist_df)\n",
    "plt.title('Probability of Correct Binary Classification from Voting\\n '\n",
    "          'via Variable Weak Learners | P(X=0)=.49 && P(X=1)=.51')"
   ]
  },
  {
   "cell_type": "code",
   "execution_count": 31,
   "metadata": {},
   "outputs": [
    {
     "data": {
      "text/plain": [
       "Text(0.5, 1.0, 'Probability of Correct Binary Classification from Voting\\n via Variable Weak Learners | P(X=0)=.30 && P(X=1)=.70')"
      ]
     },
     "execution_count": 31,
     "metadata": {},
     "output_type": "execute_result"
    },
    {
     "data": {
      "image/png": "[encoded data removed]",
      "text/plain": [
       "<Figure size 432x288 with 1 Axes>"
      ]
     },
     "metadata": {
      "needs_background": "light"
     },
     "output_type": "display_data"
    }
   ],
   "source": [
    "hist2 = build_prob_tree([.40, .60], 10)\n",
    "flattened_hist2 = flatten_by_level(hist2, '1')\n",
    "flattened_hist_df2 = pd.DataFrame(flattened_hist2)\n",
    "\n",
    "\n",
    "ax = sns.lineplot(x=\"n_models\", y=\"p_correct\", data=flattened_hist_df2)\n",
    "plt.title('Probability of Correct Binary Classification from Voting\\n '\n",
    "          'via Variable Weak Learners | P(X=0)=.40 && P(X=1)=.60')"
   ]
  },
  {
   "cell_type": "markdown",
   "metadata": {},
   "source": [
    "We can see that by increasing the strength of the correct classifier, exponentially increases the performance of a voting ensemble classifier."
   ]
  },
  {
   "cell_type": "code",
   "execution_count": 33,
   "metadata": {},
   "outputs": [
    {
     "data": {
      "text/plain": [
       "Text(0.5, 1.0, 'Probability of Correct Binary Classification from Voting\\n via Variable Weak Learners | P(X=0)=.15 && P(X=1)=.70 && P(X=2)=.15')"
      ]
     },
     "execution_count": 33,
     "metadata": {},
     "output_type": "execute_result"
    },
    {
     "data": {
      "image/png": "[encoded data removed]",
      "text/plain": [
       "<Figure size 432x288 with 1 Axes>"
      ]
     },
     "metadata": {
      "needs_background": "light"
     },
     "output_type": "display_data"
    }
   ],
   "source": [
    "hist3 = build_prob_tree([.20, .60, .20], 10)\n",
    "flattened_hist3 = flatten_by_level(hist3, '1')\n",
    "flattened_hist_df3 = pd.DataFrame(flattened_hist3)\n",
    "\n",
    "\n",
    "ax = sns.lineplot(x=\"n_models\", y=\"p_correct\", data=flattened_hist_df3)\n",
    "plt.title('Probability of Correct Binary Classification from Voting\\n '\n",
    "          'via Variable Weak Learners | P(X=0)=.20 && P(X=1)=.60 && P(X=2)=.20')"
   ]
  },
  {
   "cell_type": "markdown",
   "metadata": {},
   "source": [
    "As as we increase the number of classes within the model, the probability of obtaining a correct classification from the complete ensemble increase even if you main the total sum of a misclassification the same. That's wierd. ???\n",
    "\n",
    "\n",
    "Of course, the details of this simulation assuming independent models, and hence do not share any uncorrelated errors. In the real world, model ensembles pull from the same data set so this same assumption cannot be justified. However this also speaks to the idea that if our models do share some correlation, the accuracy of the ensemble would decrease. This is because it would also imply models would share the same type of mistakes. \n",
    "\n",
    "\n",
    "But also the same non-mistakes ???\n",
    "\n",
    "\n",
    "The main take away is that proper enemble techniques can improve the overall performance of your machine learning model. Mathematically, we've shown this to be true simply due as a probabilistic consequence. "
   ]
  },
  {
   "cell_type": "code",
   "execution_count": null,
   "metadata": {},
   "outputs": [],
   "source": []
  }
 ],
 "metadata": {
  "kernelspec": {
   "display_name": "Python 3",
   "language": "python",
   "name": "python3"
  },
  "language_info": {
   "codemirror_mode": {
    "name": "ipython",
    "version": 3
   },
   "file_extension": ".py",
   "mimetype": "text/x-python",
   "name": "python",
   "nbconvert_exporter": "python",
   "pygments_lexer": "ipython3",
   "version": "3.6.6"
  }
 },
 "nbformat": 4,
 "nbformat_minor": 2
}
