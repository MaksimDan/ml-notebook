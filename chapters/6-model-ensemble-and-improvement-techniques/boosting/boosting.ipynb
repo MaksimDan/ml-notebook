{
 "cells": [
  {
   "cell_type": "markdown",
   "metadata": {},
   "source": [
    "# Boosting\n",
    "\n",
    "The general idea in most boosting algorithms is use use other learners to correct other learners. As an oversimplified template, boosting follows these guidelines\n",
    "\n",
    "1. A predictor is trained.\n",
    "2. Another predictor is trained using the previous predictor as a corrector.\n",
    "3. Repeat 2 for some time.\n",
    "4. Using all the predictors as an enemble to form a final weighted prediction. The weighting scheme depends on the boosting algorithm. As option is to weight each predictor based on its overal accuracy on the training set.\n",
    "\n",
    "**Disadvantages**\n",
    "* Due to the serialized dependency the algorithms cannot be parallelized and so boosting does not scale as well as other ensemble techniques.\n"
   ]
  }
 ],
 "metadata": {
  "kernelspec": {
   "display_name": "Python 3",
   "language": "python",
   "name": "python3"
  },
  "language_info": {
   "codemirror_mode": {
    "name": "ipython",
    "version": 3
   },
   "file_extension": ".py",
   "mimetype": "text/x-python",
   "name": "python",
   "nbconvert_exporter": "python",
   "pygments_lexer": "ipython3",
   "version": "3.6.6"
  }
 },
 "nbformat": 4,
 "nbformat_minor": 2
}
