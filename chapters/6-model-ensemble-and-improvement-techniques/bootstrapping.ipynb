{
 "cells": [
  {
   "cell_type": "markdown",
   "metadata": {},
   "source": [
    "# Bootstrapping\n",
    "\n",
    "Bootstrapping is a statistical procedure to create data from existing data by sampling with replacement. The concept is simple, but it allows you to generate both a similiar and larger dataset by picking out of a hat.\n",
    "\n",
    "## Motivations\n",
    "\n",
    "One of the big motivators is to built a better model by reducing overfitting. The procedure looks like this:\n",
    "\n",
    "```\n",
    "while model_count:\n",
    "    1. Bootstrap\n",
    "    2. Fit the model\n",
    "    3. Store the predictor\n",
    "final_model = avg(all_models)\n",
    "```"
   ]
  },
  {
   "cell_type": "code",
   "execution_count": null,
   "metadata": {},
   "outputs": [],
   "source": []
  }
 ],
 "metadata": {
  "kernelspec": {
   "display_name": "Python 3",
   "language": "python",
   "name": "python3"
  },
  "language_info": {
   "codemirror_mode": {
    "name": "ipython",
    "version": 3
   },
   "file_extension": ".py",
   "mimetype": "text/x-python",
   "name": "python",
   "nbconvert_exporter": "python",
   "pygments_lexer": "ipython3",
   "version": "3.6.6"
  }
 },
 "nbformat": 4,
 "nbformat_minor": 2
}
