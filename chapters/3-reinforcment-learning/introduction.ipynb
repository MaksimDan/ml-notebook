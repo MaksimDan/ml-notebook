{
 "cells": [
  {
   "cell_type": "markdown",
   "metadata": {},
   "source": [
    "# Reinforcement Learning \n",
    "\n",
    "## What is it?\n",
    "\n",
    "Learning by trail and error through the concept of reward-punishment maximization over time. Learning data provides feedback so that the system adapts to dynamic conditions in order to achieve a certain goal\n",
    "\n",
    "## When is it used?\n",
    "\n",
    "## Why is it used, or why isnt it used?"
   ]
  }
 ],
 "metadata": {
  "kernelspec": {
   "display_name": "Python 3",
   "language": "python",
   "name": "python3"
  },
  "language_info": {
   "codemirror_mode": {
    "name": "ipython",
    "version": 3
   },
   "file_extension": ".py",
   "mimetype": "text/x-python",
   "name": "python",
   "nbconvert_exporter": "python",
   "pygments_lexer": "ipython3",
   "version": "3.6.6"
  }
 },
 "nbformat": 4,
 "nbformat_minor": 2
}
