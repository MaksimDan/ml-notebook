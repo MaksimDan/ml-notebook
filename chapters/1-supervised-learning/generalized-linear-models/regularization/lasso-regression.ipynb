{
 "cells": [
  {
   "cell_type": "markdown",
   "metadata": {},
   "source": [
    "# Lasso\n",
    "\n",
    "Lasso, or _Least Absolute Shrinkage_, or l1 penalty, adds an additional term to the cost function, just like ridge regression. So now instead of minimizing $J(w) = ||Xw-y||^2$, we now minimize $J(w) = ||Xw-y||^2 + \\alpha \\sum_{i=1}^n |w_i|$\n",
    "\n",
    "Or.\n",
    "\n",
    "$$J(w) = MSE(w) + \\alpha \\sum_{i=1}^n |w_i|$$\n",
    "\n",
    "\n",
    "## What is the distinct difference from Ridge Regression?\n",
    "\n",
    "Only L1 regularization allows for feature selection. To see why this is the case, consider two weight vectors and assume the produce the same log loss.\n",
    "\n",
    "* $w_1 = (1,0)$\n",
    "* $w_2 = (.5,.5)$\n",
    "\n",
    "**L1 Regularization (Lasso)**\n",
    "* $||w_1||^1 = \\sum_{j=1}^n |w_j| = 1 + 0 = 1$\n",
    "* $||w_1||^1 = \\sum_{j=1}^n |w_j| = .5 + .5 = 1$\n",
    "\n",
    "\n",
    "**L2 Regularization (Ridge)**\n",
    "* $||w_2||^2 = \\sum_{j=1}^n |w_j| = 1^2 + 0^2 = 1$\n",
    "* $||w_2||^2 = \\sum_{j=1}^n |w_j| = .5^2 + .5^2 = .5$\n",
    "\n",
    "\n",
    "With L1 regularization, the same penality is produced despite similiar weights - unlike with l2 regularization. With l2 regularization, small weights are favored _for all weights_. This is because $|w_j|^2 < 1$ when $w_j < 1$, and when $|w_j|^2 > 1$ the penality EXPLODES due to the square term. Therefore from its perspective, having _all_ the weights be small is a more effective strategy then having some of the weights be small, and a few weights be really large. An effective balance would be to have all the weights be small in order to compensate for a few very large weights.\n",
    "\n",
    "With l1 regularization, this effect is dramatically reduced. For example, if a weight is 5 its l1 penality would be 5, where as with l2 regularization, it would be 25 - which takes up space for 5 other weights just as large. Therefore, it allows for both small and large weights equally - which allows for some 0 and other weights can be large. It is for this reason that l1 regularization can be used for parameter selection.\n",
    "\n",
    "For this reason, Lasso is preferred for its tendency to eliminate parameters and produce a sparse model with a few nonzero feature weights.\n",
    "\n",
    "\n",
    "## Example - Lasso Weights as a Function of Alpha"
   ]
  },
  {
   "cell_type": "code",
   "execution_count": 5,
   "metadata": {},
   "outputs": [
    {
     "name": "stderr",
     "output_type": "stream",
     "text": [
      "100% (10000 of 10000) |##################| Elapsed Time: 0:00:03 Time:  0:00:03\n"
     ]
    },
    {
     "data": {
      "text/plain": [
       "Text(0.5,1,'Coefficient value change as a function of alpha - Lasso')"
      ]
     },
     "execution_count": 5,
     "metadata": {},
     "output_type": "execute_result"
    },
    {
     "data": {
      "image/png": "[encoded data removed]",
      "text/plain": [
       "<Figure size 432x288 with 1 Axes>"
      ]
     },
     "metadata": {
      "needs_background": "light"
     },
     "output_type": "display_data"
    }
   ],
   "source": [
    "from sklearn import linear_model\n",
    "from sklearn.datasets import load_boston\n",
    "from progressbar import ProgressBar\n",
    "import pandas as pd\n",
    "import seaborn as sns\n",
    "import numpy as np\n",
    "import matplotlib.pyplot as plt\n",
    "\n",
    "\n",
    "boston = load_boston()\n",
    "X, y = boston.data, boston.target\n",
    "\n",
    "w_by_alpha = []\n",
    "bar = ProgressBar()\n",
    "for a in bar(np.arange(10, .00001, -.001)):\n",
    "    reg = linear_model.Lasso(alpha=a)\n",
    "    reg.fit(X, y)\n",
    "    coef = list(reg.coef_)\n",
    "    coef.extend([reg.intercept_]+[a])\n",
    "    w_by_alpha.append(coef)\n",
    "\n",
    "columns = [f'w_{i}' for i in range(X.shape[1], -1, -1)] + ['a']\n",
    "w_by_alpha_df = pd.DataFrame(w_by_alpha, columns=columns)\n",
    "\n",
    "w_by_alpha_df = w_by_alpha_df.melt(id_vars=['a'])\n",
    "sns.lineplot(x=\"a\", y=\"value\", hue=\"variable\", data=w_by_alpha_df)\n",
    "plt.xlabel('alpha')\n",
    "plt.ylabel('weight')\n",
    "plt.title('Coefficient value change as a function of alpha - Lasso')"
   ]
  },
  {
   "cell_type": "markdown",
   "metadata": {},
   "source": [
    "We also observe that a relatively high quantity of weights converge towards zero, each with a relatively small alpha. So where as the alpha parameter in `Ridge` controlled the degree to which coefficients would tend towards zero, the alpha parameter in Lasso would control the degree of sparsity in a model. This reiterates the fact that `Lasso` yields sparse models."
   ]
  },
  {
   "cell_type": "markdown",
   "metadata": {},
   "source": [
    "## LassoCV\n",
    "\n",
    "Like with `RidgeCV` we can alpha tune using `LassoCV`. It can be should in both cases, however, that the 'optimal' alpha score yields significantly accuracy scores on different subsets of the data. For this reason, it should not be trusted very much."
   ]
  },
  {
   "cell_type": "code",
   "execution_count": 9,
   "metadata": {},
   "outputs": [
    {
     "name": "stdout",
     "output_type": "stream",
     "text": [
      "alpha: 0.011264816923358867, score: 0.7240674802448815\n"
     ]
    }
   ],
   "source": [
    "from sklearn.model_selection import train_test_split\n",
    "\n",
    "\n",
    "X_train, X_test, y_train, y_test = train_test_split(X, y, test_size=0.33, random_state=42)\n",
    "alphas = np.logspace(-4, -0.5, 30)\n",
    "lasso_cv = linear_model.LassoCV(alphas=alphas, random_state=0)\n",
    "lasso_cv.fit(X_train, y_train)\n",
    "print(f\"alpha: {lasso_cv.alpha_}, score: {lasso_cv.score(X_test, y_test)}\")"
   ]
  },
  {
   "cell_type": "markdown",
   "metadata": {},
   "source": [
    "## LassoLarsCV\n",
    "\n",
    "LassoLarsCV solves the same problem as Lasso but uses a different algorithm (LARS) to do so. Rather than explicitly providing the alphas, the algorithm finds it itself - which adds to its stability.\n",
    "\n",
    "[TODO]"
   ]
  },
  {
   "cell_type": "code",
   "execution_count": 12,
   "metadata": {},
   "outputs": [
    {
     "name": "stdout",
     "output_type": "stream",
     "text": [
      "alpha: 0.0035909182138314927, score: 0.7181183524588123\n"
     ]
    }
   ],
   "source": [
    "lasso_cv = linear_model.LassoLarsCV()\n",
    "lasso_cv.fit(X_train, y_train)\n",
    "print(f\"alpha: {lasso_cv.alpha_}, score: {lasso_cv.score(X_test, y_test)}\")"
   ]
  },
  {
   "cell_type": "markdown",
   "metadata": {},
   "source": [
    "## LassoLarsIC\n",
    "\n",
    "Rather than using CV for model selection of the regularization parameter, LassoLarsIC uses Akaike Information Criterion (AIC) and Bayes Information Criterion. This is a cheaper alternative to CV since in CV, the regularization path is computed once, where as with LarsIC, it is computed once.\n",
    "\n",
    "Cons:\n",
    "* Relies on proper estimation of the degrees of freedom.\n",
    "* Derived for large samples.\n",
    "* Assume the model is correct.\n",
    "\n",
    "[TODO]"
   ]
  },
  {
   "cell_type": "markdown",
   "metadata": {},
   "source": [
    "## Other \n",
    "\n",
    "```python\n",
    "# lass regression using gradient descent\n",
    "SGDRegressor(penalty=\"l1\")\n",
    "```\n"
   ]
  },
  {
   "cell_type": "code",
   "execution_count": null,
   "metadata": {},
   "outputs": [],
   "source": []
  }
 ],
 "metadata": {
  "kernelspec": {
   "display_name": "Python 3",
   "language": "python",
   "name": "python3"
  },
  "language_info": {
   "codemirror_mode": {
    "name": "ipython",
    "version": 3
   },
   "file_extension": ".py",
   "mimetype": "text/x-python",
   "name": "python",
   "nbconvert_exporter": "python",
   "pygments_lexer": "ipython3",
   "version": "3.8.5"
  }
 },
 "nbformat": 4,
 "nbformat_minor": 4
}
