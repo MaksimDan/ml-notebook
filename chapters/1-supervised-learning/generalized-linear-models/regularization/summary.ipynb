{
 "cells": [
  {
   "cell_type": "markdown",
   "metadata": {},
   "source": [
    "# Summary"
   ]
  },
  {
   "cell_type": "markdown",
   "metadata": {},
   "source": [
    "Regularization comes in two (main) forms: L1 and L2. Elastic Net is a combination of lasso and ridge regression and does not introduce anything new.\n",
    "\n",
    "$L_q$ regularization introduces the additional term $\\alpha ||w||^q$\n",
    "\n",
    "$$J(w) = \\text{base_cost} + \\alpha ||w||^q$$\n",
    "\n",
    "Breaking down these terms:\n",
    "* $\\alpha$ - regularization tuning constant\n",
    "* $q$ - 1 or 2 depending L1 or L2 regularization respectively\n",
    "* $||w||^1 = \\sum_{j=1}^n |w_j|$\n",
    "* $||w||^2 = \\sum_{j=1}^n w_j^2$\n",
    "\n",
    "$\\alpha$ is a hyperparameter that is tuned to make sure that the model does not over generalize. A large alpha will penalize the weights a lot more and underfit, where as a small alpha can effectively negate off the regularization term or at least approximate the original model.\n"
   ]
  },
  {
   "cell_type": "markdown",
   "metadata": {},
   "source": [
    "## When should I Regularize?\n",
    "\n",
    "In generalize it is almost always preferable to have some degree of regularization. So a LinearRegression model on its own is almost never recommended.\n",
    "\n",
    "## How should I Regularize?\n",
    "\n",
    "Ridge is a good default without anything in mind. Use Lasso or Elastic Net if you suspect that there is some redundencies between the features. Elastic Net tends to be prefered over Lasso because it can be helpful in the context when several features are strong coorelated (redundent) or when the number of features out weight the number of training instances."
   ]
  },
  {
   "cell_type": "code",
   "execution_count": null,
   "metadata": {},
   "outputs": [],
   "source": []
  }
 ],
 "metadata": {
  "kernelspec": {
   "display_name": "Python 3",
   "language": "python",
   "name": "python3"
  },
  "language_info": {
   "codemirror_mode": {
    "name": "ipython",
    "version": 3
   },
   "file_extension": ".py",
   "mimetype": "text/x-python",
   "name": "python",
   "nbconvert_exporter": "python",
   "pygments_lexer": "ipython3",
   "version": "3.6.6"
  }
 },
 "nbformat": 4,
 "nbformat_minor": 2
}
