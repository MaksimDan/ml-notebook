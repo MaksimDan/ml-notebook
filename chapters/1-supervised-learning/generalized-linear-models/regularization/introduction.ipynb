{
 "cells": [
  {
   "cell_type": "markdown",
   "metadata": {},
   "source": [
    "# Introduction\n",
    "\n",
    "Regularization is a technique used to reduce overfitting in a model by adding additional constraints and thereby reducing its degrees of freedom. As a simple example, reducing the number of degrees of freedom in a model is techniqually a regularization technique. More advanced techniques constrain the weights of the linear model.\n",
    "\n",
    "Three major regularization techniques include:\n",
    "* Ridge Regression\n",
    "* Lasso Regression\n",
    "* Elastic Net\n",
    "\n",
    "Note that in the context of regularization, a model is trained with the parameter, and then predicted without it. This is not unique to regularization. Partially why the cost function could be different than the performance measure of used for testing is because in training it is helpful to have a optimization friendly derivative (we want it to be differentiable)."
   ]
  },
  {
   "cell_type": "markdown",
   "metadata": {},
   "source": [
    "## Best Practices\n",
    "\n",
    "In general and with especially with most regularization models, its important to scale the data using a Standard Scaler due to its high sensativity of the data."
   ]
  },
  {
   "cell_type": "code",
   "execution_count": null,
   "metadata": {},
   "outputs": [],
   "source": []
  }
 ],
 "metadata": {
  "kernelspec": {
   "display_name": "Python 3",
   "language": "python",
   "name": "python3"
  },
  "language_info": {
   "codemirror_mode": {
    "name": "ipython",
    "version": 3
   },
   "file_extension": ".py",
   "mimetype": "text/x-python",
   "name": "python",
   "nbconvert_exporter": "python",
   "pygments_lexer": "ipython3",
   "version": "3.8.5"
  }
 },
 "nbformat": 4,
 "nbformat_minor": 4
}
