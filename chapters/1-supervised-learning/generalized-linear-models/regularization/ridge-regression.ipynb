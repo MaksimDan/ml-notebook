{
 "cells": [
  {
   "cell_type": "markdown",
   "metadata": {},
   "source": [
    "# Ridge Regression\n",
    "\n",
    "In ridge regression (also known as an l2 penalty). an additional term $\\alpha \\sum_{i=1}^n w_i^2$ is added to the cost function. So now instead of minimizing $J(w) = ||Xw-y||^2$, we now minimize $J(w) = ||Xw-y||^2 + \\alpha \\sum_{i=1}^n w_i^2$\n",
    "\n",
    "Or.\n",
    "\n",
    "$$J(w) = MSE(w) + \\frac{\\alpha}{2} \\sum_{i=1}^n w_i^2$$\n",
    "\n",
    "The $\\frac{1}{2}$ doesn't really matter here. We just want a clean derivative.\n",
    "\n",
    "**Lets look at its effects**\n",
    "\n",
    "Adding this additional term to the cost function, imposes a penalty of on size of coefficients. If any particular weight happens to grow large then the cost function grows large. \n",
    "\n",
    "* $\\alpha$ = tuning parameter (where $\\alpha > 0$, otherwise there would be no regularization)\n",
    "* $||w||^2_2$ = the magnitude of the weight vector, squared.\n",
    "\n",
    "So all this is term is adding is a penalty on the size of _each_ weight. The larger a weight is, the exponentially larger the penalty - and the smaller the weight is, the exponentially smaller the penalty. We can also see that a preference for all weights to be small together is also preferred because any one weight that is high would otherwise affect the overall cost exponentially.\n",
    "\n",
    "Another thing to notice is that the bias term is not regularized (i=1). Why might we want to avoid regularizing the bias term? The bias term is really just an offset for the model, and we want that to be able to begin from anywhere. It's a weight that was made up to begin with, and is differentiable from the weights associated from the features.\n",
    "\n",
    "**Implementing Ridge Regression**\n",
    "\n",
    "In practice, the cost function would change. Since the ridge regression regularization term is independent, we could simply append its derivative to the cost function of the model.\n",
    "\n",
    "$$\n",
    "\\begin{align*}\n",
    "    \\frac{\\partial}{\\partial_w} (\\frac{\\alpha}{2} \\sum_{i=1}^n w_i^2) = \\\\\n",
    "    \\frac{\\partial}{\\partial_w} (\\frac{\\alpha}{2}  (w_1^2 + w_2^2 + w_3^2 + \\dots + w_n^2)) = \\\\\n",
    "    \\alpha (w_1 + w_2 + w_3 + \\dots + w_n) = \\\\\n",
    "    \\alpha w = \n",
    "\\end{align*}\n",
    "$$"
   ]
  },
  {
   "cell_type": "markdown",
   "metadata": {},
   "source": [
    "**Why are high weights bad? Why is this something we would like to avoid?**\n",
    "\n",
    "Collinearity occurs when one predictor variable (or coefficient) in a regression model can be linearly predicted with the others with a substantial degree of accuracy, rendering the other variables almost useless.\n"
   ]
  },
  {
   "cell_type": "markdown",
   "metadata": {},
   "source": [
    "## Example - Ridge Weights as a Function of Alpha\n",
    "\n",
    "For example, we can observe how each weight varies as a function of alpha using boston housing prices dataset."
   ]
  },
  {
   "cell_type": "code",
   "execution_count": 1,
   "metadata": {},
   "outputs": [],
   "source": [
    "from sklearn import linear_model\n",
    "from sklearn.datasets import load_boston\n",
    "\n",
    "\n",
    "boston = load_boston()\n",
    "X, y = boston.data, boston.target"
   ]
  },
  {
   "cell_type": "code",
   "execution_count": 31,
   "metadata": {},
   "outputs": [
    {
     "name": "stderr",
     "output_type": "stream",
     "text": [
      "100% (999 of 999) |######################| Elapsed Time: 0:00:00 Time:  0:00:00\n"
     ]
    },
    {
     "data": {
      "text/html": [
       "<div>\n",
       "<style scoped>\n",
       "    .dataframe tbody tr th:only-of-type {\n",
       "        vertical-align: middle;\n",
       "    }\n",
       "\n",
       "    .dataframe tbody tr th {\n",
       "        vertical-align: top;\n",
       "    }\n",
       "\n",
       "    .dataframe thead th {\n",
       "        text-align: right;\n",
       "    }\n",
       "</style>\n",
       "<table border=\"1\" class=\"dataframe\">\n",
       "  <thead>\n",
       "    <tr style=\"text-align: right;\">\n",
       "      <th></th>\n",
       "      <th>a</th>\n",
       "      <th>w_13</th>\n",
       "      <th>w_12</th>\n",
       "      <th>w_11</th>\n",
       "      <th>w_10</th>\n",
       "      <th>w_9</th>\n",
       "      <th>w_8</th>\n",
       "      <th>w_7</th>\n",
       "      <th>w_6</th>\n",
       "      <th>w_5</th>\n",
       "      <th>w_4</th>\n",
       "      <th>w_3</th>\n",
       "      <th>w_2</th>\n",
       "      <th>w_1</th>\n",
       "      <th>w_0</th>\n",
       "    </tr>\n",
       "  </thead>\n",
       "  <tbody>\n",
       "    <tr>\n",
       "      <th>0</th>\n",
       "      <td>10.00</td>\n",
       "      <td>27.467885</td>\n",
       "      <td>-0.101435</td>\n",
       "      <td>0.049579</td>\n",
       "      <td>-0.042962</td>\n",
       "      <td>1.952021</td>\n",
       "      <td>-2.371619</td>\n",
       "      <td>3.702272</td>\n",
       "      <td>-0.010707</td>\n",
       "      <td>-1.248808</td>\n",
       "      <td>0.279596</td>\n",
       "      <td>-0.013993</td>\n",
       "      <td>-0.797945</td>\n",
       "      <td>0.010037</td>\n",
       "      <td>-0.559366</td>\n",
       "    </tr>\n",
       "    <tr>\n",
       "      <th>1</th>\n",
       "      <td>9.99</td>\n",
       "      <td>27.467331</td>\n",
       "      <td>-0.101435</td>\n",
       "      <td>0.049578</td>\n",
       "      <td>-0.042955</td>\n",
       "      <td>1.952499</td>\n",
       "      <td>-2.373677</td>\n",
       "      <td>3.702501</td>\n",
       "      <td>-0.010708</td>\n",
       "      <td>-1.248840</td>\n",
       "      <td>0.279591</td>\n",
       "      <td>-0.013993</td>\n",
       "      <td>-0.797952</td>\n",
       "      <td>0.010037</td>\n",
       "      <td>-0.559346</td>\n",
       "    </tr>\n",
       "    <tr>\n",
       "      <th>2</th>\n",
       "      <td>9.98</td>\n",
       "      <td>27.466778</td>\n",
       "      <td>-0.101435</td>\n",
       "      <td>0.049576</td>\n",
       "      <td>-0.042947</td>\n",
       "      <td>1.952977</td>\n",
       "      <td>-2.375739</td>\n",
       "      <td>3.702729</td>\n",
       "      <td>-0.010708</td>\n",
       "      <td>-1.248872</td>\n",
       "      <td>0.279586</td>\n",
       "      <td>-0.013992</td>\n",
       "      <td>-0.797960</td>\n",
       "      <td>0.010037</td>\n",
       "      <td>-0.559325</td>\n",
       "    </tr>\n",
       "  </tbody>\n",
       "</table>\n",
       "</div>"
      ],
      "text/plain": [
       "       a       w_13      w_12      w_11      w_10       w_9       w_8  \\\n",
       "0  10.00  27.467885 -0.101435  0.049579 -0.042962  1.952021 -2.371619   \n",
       "1   9.99  27.467331 -0.101435  0.049578 -0.042955  1.952499 -2.373677   \n",
       "2   9.98  27.466778 -0.101435  0.049576 -0.042947  1.952977 -2.375739   \n",
       "\n",
       "        w_7       w_6       w_5       w_4       w_3       w_2       w_1  \\\n",
       "0  3.702272 -0.010707 -1.248808  0.279596 -0.013993 -0.797945  0.010037   \n",
       "1  3.702501 -0.010708 -1.248840  0.279591 -0.013993 -0.797952  0.010037   \n",
       "2  3.702729 -0.010708 -1.248872  0.279586 -0.013992 -0.797960  0.010037   \n",
       "\n",
       "        w_0  \n",
       "0 -0.559366  \n",
       "1 -0.559346  \n",
       "2 -0.559325  "
      ]
     },
     "execution_count": 31,
     "metadata": {},
     "output_type": "execute_result"
    }
   ],
   "source": [
    "from sklearn import linear_model\n",
    "from sklearn.datasets import load_boston\n",
    "from progressbar import ProgressBar\n",
    "import pandas as pd\n",
    "import seaborn as sns\n",
    "import numpy as np\n",
    "import matplotlib.pyplot as plt\n",
    "\n",
    "\n",
    "w_by_alpha = []\n",
    "bar = ProgressBar()\n",
    "for a in bar(np.arange(10, .01, -.01)):\n",
    "    reg = linear_model.Ridge(alpha=a)\n",
    "    reg.fit(X, y)\n",
    "    coef = [a] + [reg.intercept_] + list(reg.coef_)\n",
    "    w_by_alpha.append(coef)\n",
    "\n",
    "columns = ['a'] + [f'w_{i}' for i in range(X.shape[1], -1, -1)]\n",
    "w_by_alpha_df = pd.DataFrame(w_by_alpha, columns=columns)\n",
    "w_by_alpha_df.head(3)"
   ]
  },
  {
   "cell_type": "code",
   "execution_count": 32,
   "metadata": {},
   "outputs": [
    {
     "data": {
      "text/plain": [
       "Text(0.5, 1.0, 'Coefficient value change as a function of alpha - Ridge')"
      ]
     },
     "execution_count": 32,
     "metadata": {},
     "output_type": "execute_result"
    },
    {
     "data": {
      "image/png": "[encoded data removed]",
      "text/plain": [
       "<Figure size 432x288 with 1 Axes>"
      ]
     },
     "metadata": {
      "needs_background": "light"
     },
     "output_type": "display_data"
    }
   ],
   "source": [
    "import seaborn as sns\n",
    "\n",
    "w_by_alpha_df_melt = w_by_alpha_df.melt(id_vars=['a'])\n",
    "sns.lineplot(x=\"a\", y=\"value\", hue=\"variable\", data=w_by_alpha_df_melt)\n",
    "plt.xlabel('alpha')\n",
    "plt.ylabel('weight')\n",
    "plt.title('Coefficient value change as a function of alpha - Ridge')"
   ]
  },
  {
   "cell_type": "markdown",
   "metadata": {},
   "source": [
    "As alpha increases, the weights tend more and more towards zero because we've defined greater loss for higher weights. And when weights are smaller, this leads to a \"flatter\" and less \"dramatic\" curve. \n",
    "\n",
    "To demonstrate this: Consider the two functions with drastically different weights in magnitude:\n",
    "\n",
    "$y(x) = \\frac{cos(\\pi x)}{x} - x^2 + x$\n",
    "\n",
    "$y(x) = 100\\frac{3cos(\\pi x)}{x} - 100x^2 + 200x - 1000$"
   ]
  },
  {
   "cell_type": "code",
   "execution_count": 55,
   "metadata": {},
   "outputs": [
    {
     "data": {
      "text/plain": [
       "<matplotlib.axes._subplots.AxesSubplot at 0x1a1d133400>"
      ]
     },
     "execution_count": 55,
     "metadata": {},
     "output_type": "execute_result"
    },
    {
     "data": {
      "image/png": "[encoded data removed]",
      "text/plain": [
       "<Figure size 432x288 with 1 Axes>"
      ]
     },
     "metadata": {
      "needs_background": "light"
     },
     "output_type": "display_data"
    },
    {
     "data": {
      "image/png": "[encoded data removed]",
      "text/plain": [
       "<Figure size 432x288 with 1 Axes>"
      ]
     },
     "metadata": {
      "needs_background": "light"
     },
     "output_type": "display_data"
    }
   ],
   "source": [
    "from math import pi\n",
    "from myutils.draw.math import plt_2d_functions\n",
    "\n",
    "\n",
    "plt_2d_functions([lambda x: np.cos(pi*x)/x - x**2 + x], np.arange(.1, 2, .01), title)\n",
    "plt_2d_functions([lambda x: 100*np.cos(3*pi*x)/x - 100*x**2 + 200*x - 1000], np.arange(.1, 2, .01))"
   ]
  },
  {
   "cell_type": "markdown",
   "metadata": {},
   "source": [
    "## Example - Tuning Alpha with RidgeCV\n",
    "\n",
    "Alternatively, we can use `RidgeCV` which uses built cross validation to tune $\\alpha$."
   ]
  },
  {
   "cell_type": "code",
   "execution_count": 56,
   "metadata": {},
   "outputs": [
    {
     "data": {
      "text/plain": [
       "0.1"
      ]
     },
     "execution_count": 56,
     "metadata": {},
     "output_type": "execute_result"
    }
   ],
   "source": [
    "from sklearn import linear_model\n",
    "\n",
    "\n",
    "reg = linear_model.RidgeCV(alphas=np.arange(0.1, 10, .001))\n",
    "reg.fit(X, y)       \n",
    "reg.alpha_"
   ]
  },
  {
   "cell_type": "markdown",
   "metadata": {},
   "source": [
    "## Other \n",
    "\n",
    "```python\n",
    "# to use a closed form solution solver\n",
    "Ridge(alpha=1, solver=\"cholesky\")\n",
    "\n",
    "# ridge regression using gradient descent\n",
    "SGDRegressor(penalty=\"l2\")\n",
    "```\n"
   ]
  },
  {
   "cell_type": "code",
   "execution_count": null,
   "metadata": {},
   "outputs": [],
   "source": []
  }
 ],
 "metadata": {
  "kernelspec": {
   "display_name": "Python 3",
   "language": "python",
   "name": "python3"
  },
  "language_info": {
   "codemirror_mode": {
    "name": "ipython",
    "version": 3
   },
   "file_extension": ".py",
   "mimetype": "text/x-python",
   "name": "python",
   "nbconvert_exporter": "python",
   "pygments_lexer": "ipython3",
   "version": "3.6.6"
  }
 },
 "nbformat": 4,
 "nbformat_minor": 2
}
