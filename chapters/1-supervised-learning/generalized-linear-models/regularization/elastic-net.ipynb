{
 "cells": [
  {
   "cell_type": "markdown",
   "metadata": {},
   "source": [
    "# Elastic Net\n",
    "\n",
    "Elastic Net serves as a middle ground between lasso and ridge regression. Both regularization terms of lasso and ridge are applied, but they are contro;led using a mix ratio $r$.\n",
    "\n",
    "Our models cost function becomes:\n",
    "\n",
    "$$J(w) = MSE(w) + r \\alpha \\sum_{i=1}^n |w_i| + \\alpha \\frac{1-2}{2} \\sum_{i=1}^n w_i^2$$\n",
    "\n",
    "\n",
    "Here are the consequences of addding an $r$ term:\n",
    "* When $r=0$, the lasso regularization term cancels out, and it becomes a ridge regression.\n",
    "* When $r=1$, the ridge regularization term cancels out, and it becomes a lasso regression.\n",
    "* When we vary $r$ between 0 and 1, we effectively get another $\\alpha$, where an $r$ closer to 1 favors lasso and an $r$ closer to 0 favors ridge.\n",
    "\n"
   ]
  },
  {
   "cell_type": "markdown",
   "metadata": {},
   "source": [
    "## Example\n",
    "\n"
   ]
  },
  {
   "cell_type": "code",
   "execution_count": 3,
   "metadata": {},
   "outputs": [
    {
     "data": {
      "text/plain": [
       "ElasticNet(alpha=0.1, copy_X=True, fit_intercept=True, l1_ratio=0.5,\n",
       "      max_iter=1000, normalize=False, positive=False, precompute=False,\n",
       "      random_state=None, selection='cyclic', tol=0.0001, warm_start=False)"
      ]
     },
     "execution_count": 3,
     "metadata": {},
     "output_type": "execute_result"
    }
   ],
   "source": [
    "from sklearn.linear_model import ElasticNet\n",
    "from sklearn import linear_model\n",
    "from sklearn.datasets import load_boston\n",
    "\n",
    "\n",
    "boston = load_boston()\n",
    "X, y = boston.data, boston.target\n",
    "\n",
    "elastic_net = ElasticNet(alpha=0.1, l1_ratio=0.5)\n",
    "elastic_net.fit(X, y)"
   ]
  }
 ],
 "metadata": {
  "kernelspec": {
   "display_name": "Python 3",
   "language": "python",
   "name": "python3"
  },
  "language_info": {
   "codemirror_mode": {
    "name": "ipython",
    "version": 3
   },
   "file_extension": ".py",
   "mimetype": "text/x-python",
   "name": "python",
   "nbconvert_exporter": "python",
   "pygments_lexer": "ipython3",
   "version": "3.6.6"
  }
 },
 "nbformat": 4,
 "nbformat_minor": 2
}
