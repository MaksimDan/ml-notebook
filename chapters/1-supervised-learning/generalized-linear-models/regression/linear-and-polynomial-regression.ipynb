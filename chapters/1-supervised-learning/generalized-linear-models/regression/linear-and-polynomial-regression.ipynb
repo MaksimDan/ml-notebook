{
 "cells": [
  {
   "cell_type": "markdown",
   "metadata": {},
   "source": [
    "# Linear and Polynomial Regression\n",
    "\n",
    "Linear regression deals specifically with numerical values, unlike where logistic regression deals with applying the same numerical process on top of a sigmoid to make a classification.\n",
    "\n",
    "Sklearn support two different algorithms to perform linear regression: `SGDRegressor` and `LinearRegressor`. `LinearRegressor` follows the closed-form approach to finding the parameters to a model, as explained in ![here](here), while `SGDRegressor` takes a more iterative approach.\n"
   ]
  },
  {
   "cell_type": "markdown",
   "metadata": {},
   "source": [
    "## Example with Sklearns `SGDRegressor` (Stochastic Gradient Descent)"
   ]
  },
  {
   "cell_type": "code",
   "execution_count": 1,
   "metadata": {},
   "outputs": [],
   "source": [
    "%matplotlib inline\n",
    "import numpy as np\n",
    "import matplotlib.pyplot as plt\n",
    "\n",
    "\n",
    "n_samples, n_features = 10, 5\n",
    "np.random.seed(0)\n",
    "y = np.random.randn(n_samples)\n",
    "X = np.random.randn(n_samples, n_features)"
   ]
  },
  {
   "cell_type": "code",
   "execution_count": 2,
   "metadata": {},
   "outputs": [
    {
     "name": "stdout",
     "output_type": "stream",
     "text": [
      "intercept: [0.50243877] \n",
      "coefficients: [-0.14683705  0.16149987 -0.35308364  0.10294115  0.31454682]\n"
     ]
    }
   ],
   "source": [
    "from sklearn import linear_model\n",
    "\n",
    "\n",
    "clf = linear_model.SGDRegressor(max_iter=1000, tol=1e-3)\n",
    "clf.fit(X, y)\n",
    "\n",
    "print(f'intercept: {clf.intercept_} \\ncoefficients: {clf.coef_}')"
   ]
  },
  {
   "cell_type": "markdown",
   "metadata": {},
   "source": [
    "## Polynomial Regression\n",
    "\n",
    "We can actually use the basis of a linear regression model to build up a polynomial one when our data is more complex than a straight line. \n",
    "\n",
    "### How it Works\n",
    "\n",
    "The main idea here is to train the weights of a linear model like \n",
    "\n",
    "$$z = w_0 + x_1 w_1 + x_2 w_2 + x_3 w_3 + \\dots + x_n w_n$$\n",
    "\n",
    "Which we can also read like:\n",
    "\n",
    "$$z = w_0^1 + x_1 w_1^1 + x_2 w_2^1 + x_3 w_3^1 + \\dots + x_n w_n^1$$\n",
    "\n",
    "And then just add additional terms in the model to outline the polynomial function we would like to fit. Once we do this, training the model follows the same exact process as before. \n",
    "\n",
    "$$z = w_0^{w_{00}} + x_1 w_1^{w_{01}} + x_2 w_2^{w_{02}} + x_3 w_3^{w_{03}} + \\dots + x_n w_n^{w_{0n}}$$\n",
    "\n",
    "Note that in above, I am not include interaction terms between features, which is what sklearn additionally does."
   ]
  },
  {
   "cell_type": "code",
   "execution_count": 3,
   "metadata": {},
   "outputs": [
    {
     "data": {
      "text/plain": [
       "Text(0.5, 1.0, '$x^2 + x + 2$')"
      ]
     },
     "execution_count": 3,
     "metadata": {},
     "output_type": "execute_result"
    },
    {
     "data": {
      "image/png": "[encoded data removed]",
      "text/plain": [
       "<Figure size 432x288 with 1 Axes>"
      ]
     },
     "metadata": {
      "needs_background": "light"
     },
     "output_type": "display_data"
    }
   ],
   "source": [
    "%matplotlib inline\n",
    "from myutils.datasets import noisy_func\n",
    "import numpy as np\n",
    "import matplotlib.pyplot as plt\n",
    "\n",
    "\n",
    "X, y = noisy_func(lambda x: x**2 + x + 2, np.arange(-3, 3, .1), 100, 1.3)\n",
    "plt.scatter(X, y)\n",
    "plt.title(r'$x^2 + x + 2$')"
   ]
  },
  {
   "cell_type": "markdown",
   "metadata": {},
   "source": [
    "With `PolynomialFeatures` we can generate a power matrix that describes all the possible combinations and interactions a model can have in terms of the variable number of degrees (power) and the number of features (columns)."
   ]
  },
  {
   "cell_type": "markdown",
   "metadata": {},
   "source": [
    "### Example\n",
    "\n",
    "Below we will demonstrate two models. One that properly fits to the data, and another one that clearly overfits."
   ]
  },
  {
   "cell_type": "code",
   "execution_count": 7,
   "metadata": {},
   "outputs": [
    {
     "name": "stdout",
     "output_type": "stream",
     "text": [
      "model: 1+A+A^2\n",
      "coeficients:  1.855780248523212 [0.         1.0468964  1.03453018]\n",
      "originally noisy function:  x^2 + x + 2\n"
     ]
    }
   ],
   "source": [
    "from sklearn.preprocessing import PolynomialFeatures\n",
    "from sklearn.linear_model import LinearRegression\n",
    "\n",
    "\n",
    "# introduce new features based on polynomial expression\n",
    "poly2_features = PolynomialFeatures(degree=2, include_bias=True)\n",
    "X_poly2 = poly2_features.fit_transform(X.reshape(-1, 1))\n",
    "\n",
    "# now fit all these features into the model and reinterpret\n",
    "lin_reg_poly2 = LinearRegression()\n",
    "lin_reg_poly2.fit(X_poly2, y)\n",
    "print(f'model: {polynomial_function(2, 1)}')\n",
    "print(f'coeficients: ', lin_reg_poly2.intercept_, lin_reg_poly2.coef_)\n",
    "print(f'originally noisy function: ', 'x^2 + x + 2')"
   ]
  },
  {
   "cell_type": "code",
   "execution_count": 9,
   "metadata": {},
   "outputs": [
    {
     "name": "stdout",
     "output_type": "stream",
     "text": [
      "model: ... too large for practical viewing!\n",
      "coeficients: ... too large for practical viewing!\n",
      "originally noisy function:  x^2 + x + 2\n"
     ]
    }
   ],
   "source": [
    "poly200_features = PolynomialFeatures(degree=200, include_bias=True)\n",
    "X_poly200 = poly200_features.fit_transform(X.reshape(-1, 1))\n",
    "\n",
    "lin_reg_poly200 = LinearRegression()\n",
    "lin_reg_poly200.fit(X_poly200, y)\n",
    "print(f'model: ... too large for practical viewing!')\n",
    "print(f'coeficients: ... too large for practical viewing!')\n",
    "print(f'originally noisy function: ', 'x^2 + x + 2')"
   ]
  },
  {
   "cell_type": "code",
   "execution_count": 25,
   "metadata": {},
   "outputs": [
    {
     "data": {
      "text/plain": [
       "<matplotlib.collections.PathCollection at 0x1a25497b70>"
      ]
     },
     "execution_count": 25,
     "metadata": {},
     "output_type": "execute_result"
    },
    {
     "data": {
      "image/png": "[encoded data removed]",
      "text/plain": [
       "<Figure size 432x288 with 1 Axes>"
      ]
     },
     "metadata": {
      "needs_background": "light"
     },
     "output_type": "display_data"
    }
   ],
   "source": [
    "from myutils.draw.math import plt_2d_functions\n",
    "\n",
    "# plot the first model as a polynomial function\n",
    "w_0, w_1, w_2 = lin_reg_poly2.intercept_, lin_reg_poly2.coef_[1], lin_reg_poly2.coef_[2]\n",
    "plt_2d_functions([lambda A: w_0*1 + w_1*A + w_2*A**2], x=np.arange(-3, 3, .1), title=r'$1+A+A^2$')\n",
    "plt.scatter(X, y)"
   ]
  },
  {
   "cell_type": "markdown",
   "metadata": {},
   "source": [
    "Not bad!"
   ]
  },
  {
   "cell_type": "code",
   "execution_count": 28,
   "metadata": {},
   "outputs": [
    {
     "data": {
      "text/plain": [
       "<matplotlib.collections.PathCollection at 0x1a2567e6a0>"
      ]
     },
     "execution_count": 28,
     "metadata": {},
     "output_type": "execute_result"
    },
    {
     "data": {
      "image/png": "[encoded data removed]",
      "text/plain": [
       "<Figure size 432x288 with 1 Axes>"
      ]
     },
     "metadata": {
      "needs_background": "light"
     },
     "output_type": "display_data"
    }
   ],
   "source": [
    "# for poly 200, we'll do a predict plot since the number of coefficients in the model\n",
    "# are just too exhaustively large\n",
    "sample_predict = poly200_features.transform(np.linspace(-3, 3, 100).reshape(-1, 1))\n",
    "y_predict_200poly = lin_reg_poly200.predict(sample_predict)\n",
    "plt.plot(np.linspace(-3, 3, 100), y_predict_200poly, 'g-', label='300')\n",
    "plt.ylim((0, 10))\n",
    "plt.scatter(X, y)"
   ]
  },
  {
   "cell_type": "markdown",
   "metadata": {},
   "source": [
    "Yikes!"
   ]
  },
  {
   "cell_type": "code",
   "execution_count": null,
   "metadata": {},
   "outputs": [],
   "source": []
  }
 ],
 "metadata": {
  "kernelspec": {
   "display_name": "Python 3",
   "language": "python",
   "name": "python3"
  },
  "language_info": {
   "codemirror_mode": {
    "name": "ipython",
    "version": 3
   },
   "file_extension": ".py",
   "mimetype": "text/x-python",
   "name": "python",
   "nbconvert_exporter": "python",
   "pygments_lexer": "ipython3",
   "version": "3.6.6"
  }
 },
 "nbformat": 4,
 "nbformat_minor": 2
}
