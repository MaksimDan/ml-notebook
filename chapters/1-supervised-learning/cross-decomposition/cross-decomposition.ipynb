{
 "cells": [
  {
   "cell_type": "markdown",
   "metadata": {},
   "source": [
    "# Cross Decomposition\n",
    "\n",
    "## What is it?\n",
    "\n",
    "Cross decomposition contains two different families of algorithms: partial least squares (PLS) and the canonical correlation analysis (CCA). These are used to find the linear relations between two multivarient datasets X and Y. This is done by identifying the multidimensional direction or vector in X, that best or maximumally explains the variance in Y.\n",
    "\n",
    "## When is it used?\n",
    "\n",
    "* PLS is used particularly when the matrix of predictors has more features than observations or when X has multicollinarity. In these situations, standard regression will fail.\n",
    "\n",
    "## Why is it used, or why isnt it used?\n",
    "\n",
    "## How is it used?\n"
   ]
  },
  {
   "cell_type": "code",
   "execution_count": 2,
   "metadata": {},
   "outputs": [
    {
     "data": {
      "text/plain": [
       "array([[ 0.26087869,  0.15302213],\n",
       "       [ 0.60667302,  0.45634164],\n",
       "       [ 6.46856199,  6.48931562],\n",
       "       [11.7638863 , 12.00132061]])"
      ]
     },
     "execution_count": 2,
     "metadata": {},
     "output_type": "execute_result"
    }
   ],
   "source": [
    "from sklearn.cross_decomposition import PLSRegression\n",
    "\n",
    "\n",
    "X = [[0., 0., 1.], [1.,0.,0.], [2.,2.,2.], [2.,5.,4.]]\n",
    "Y = [[0.1, -0.2], [0.9, 1.1], [6.2, 5.9], [11.9, 12.3]]\n",
    "pls2 = PLSRegression(n_components=2)\n",
    "pls2.fit(X, Y)\n",
    "Y_pred = pls2.predict(X)\n",
    "Y_pred"
   ]
  },
  {
   "cell_type": "code",
   "execution_count": null,
   "metadata": {},
   "outputs": [],
   "source": []
  }
 ],
 "metadata": {
  "kernelspec": {
   "display_name": "Python 3",
   "language": "python",
   "name": "python3"
  },
  "language_info": {
   "codemirror_mode": {
    "name": "ipython",
    "version": 3
   },
   "file_extension": ".py",
   "mimetype": "text/x-python",
   "name": "python",
   "nbconvert_exporter": "python",
   "pygments_lexer": "ipython3",
   "version": "3.6.6"
  }
 },
 "nbformat": 4,
 "nbformat_minor": 2
}
