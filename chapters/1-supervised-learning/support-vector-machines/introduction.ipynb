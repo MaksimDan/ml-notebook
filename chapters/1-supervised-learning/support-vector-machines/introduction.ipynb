{
 "cells": [
  {
   "cell_type": "markdown",
   "metadata": {},
   "source": [
    "# Introduction\n",
    "\n",
    "An SVM is another ML model that can perform:\n",
    "* both linear and nonlinear regression / classification\n",
    "* outlier detection\n",
    "\n",
    "They tend to work well with classification based tasks on small to medium sized datasets that are _feature scaled_. \n",
    "\n",
    "Unlike logistic classifiers, SVC's do out associate a probability with the classification. However, both logistic and SVM based classifiers can be trained using gradient descent. `SGDClassifier` supoorts by default a `loss='hinge'` which is a linear svm, and `loss='log'` for logistic regression based model using gradient descent as the primary learner. Gradient descent based classifiers are built to scale better with larger datasets. There are several other SVM based implementations in https://scikit-learn.org/stable/modules/classes.html#module-sklearn.svm.\n",
    "\n"
   ]
  },
  {
   "cell_type": "code",
   "execution_count": null,
   "metadata": {},
   "outputs": [],
   "source": []
  }
 ],
 "metadata": {
  "kernelspec": {
   "display_name": "Python 3",
   "language": "python",
   "name": "python3"
  },
  "language_info": {
   "codemirror_mode": {
    "name": "ipython",
    "version": 3
   },
   "file_extension": ".py",
   "mimetype": "text/x-python",
   "name": "python",
   "nbconvert_exporter": "python",
   "pygments_lexer": "ipython3",
   "version": "3.6.6"
  }
 },
 "nbformat": 4,
 "nbformat_minor": 2
}
