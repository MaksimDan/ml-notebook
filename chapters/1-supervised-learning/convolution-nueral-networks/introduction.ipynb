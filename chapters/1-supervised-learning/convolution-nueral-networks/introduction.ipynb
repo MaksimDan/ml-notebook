{
 "cells": [
  {
   "cell_type": "markdown",
   "metadata": {},
   "source": [
    "# Introduction\n",
    "\n",
    "\n",
    "## Image segmentation\n",
    "\n",
    "Image segmentation can be decomposited into several different segmentation problem types.\n",
    "\n",
    "* _Semantic Segmentation_: Will assign all objects that relate to the same semantic to the same segment. For example, there could be a pedestian semantic, where all pedestrians are the same segment.\n",
    "\n",
    "* _Instance Segmentation_: Will assign all objects to an individual segement, even if they belong to the same semantic. Use the same example from above, each pedestrian would become as an independent segment instance.\n",
    "\n"
   ]
  },
  {
   "cell_type": "code",
   "execution_count": null,
   "metadata": {},
   "outputs": [],
   "source": []
  }
 ],
 "metadata": {
  "kernelspec": {
   "display_name": "Python 3",
   "language": "python",
   "name": "python3"
  },
  "language_info": {
   "codemirror_mode": {
    "name": "ipython",
    "version": 3
   },
   "file_extension": ".py",
   "mimetype": "text/x-python",
   "name": "python",
   "nbconvert_exporter": "python",
   "pygments_lexer": "ipython3",
   "version": "3.6.7"
  }
 },
 "nbformat": 4,
 "nbformat_minor": 2
}
