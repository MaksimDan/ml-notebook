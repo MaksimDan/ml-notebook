{
 "cells": [
  {
   "cell_type": "markdown",
   "metadata": {},
   "source": [
    "# Introduction\n",
    "\n",
    "ANN's were originally inspired from the brains architecture. In 1943, there was a landmark paper entitled, \"A Logical Calculus of Ideas Immanent in Nervous Activity\", by the neurophysiologist Warren McCulloch and the mathematician Walter Pitts. However, as we dive deeper into the intricacies of neural nets, we'll find plenty differences from the natural biological units that make up the brain.\n",
    "\n",
    "\n",
    "![test](../../../../assets/1-supervised-learning/biological-neuron.png)\n",
    "\n",
    "Biological neurons receive short electrical impulses called signals from other neurons via these synapses. When a neuron receives a sufficient number of signals from other neurons within a few milliseconds, it fires its own signals.\n",
    "\n",
    "ANN's make of the core of deep learning. Over the years since their development, they have proved to be scalable, powerful, and versatile to handle a wide array of tasks. "
   ]
  },
  {
   "cell_type": "code",
   "execution_count": null,
   "metadata": {},
   "outputs": [],
   "source": []
  }
 ],
 "metadata": {
  "kernelspec": {
   "display_name": "Python 3",
   "language": "python",
   "name": "python3"
  },
  "language_info": {
   "codemirror_mode": {
    "name": "ipython",
    "version": 3
   },
   "file_extension": ".py",
   "mimetype": "text/x-python",
   "name": "python",
   "nbconvert_exporter": "python",
   "pygments_lexer": "ipython3",
   "version": "3.8.5"
  }
 },
 "nbformat": 4,
 "nbformat_minor": 4
}
