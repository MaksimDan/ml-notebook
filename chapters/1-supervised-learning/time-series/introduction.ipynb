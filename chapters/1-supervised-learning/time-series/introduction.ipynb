{
 "cells": [
  {
   "cell_type": "markdown",
   "metadata": {},
   "source": [
    "# Introduction\n",
    "\n",
    "Time series analysis is the endeavor of extracting meaningful summary and statistical information from points arranged in chronological order. Order is the key term here. Random forests and linear regression models simply outline input and output relationships, without the dependendecies of anything else. Time series could matter for example, in situations where information has a strong dependency for what happened in the past.\n",
    "\n",
    "## Kinds of Time Series\n",
    "\n",
    "*Univariate* time series; that is, they have just one variable measured against time.\n",
    "*Multivariate* time series are series with multiple variables measured at each timestamp.\n",
    "\n",
    "\n"
   ]
  }
 ],
 "metadata": {
  "kernelspec": {
   "display_name": "Python 3",
   "language": "python",
   "name": "python3"
  },
  "language_info": {
   "codemirror_mode": {
    "name": "ipython",
    "version": 3
   },
   "file_extension": ".py",
   "mimetype": "text/x-python",
   "name": "python",
   "nbconvert_exporter": "python",
   "pygments_lexer": "ipython3",
   "version": "3.7.4"
  }
 },
 "nbformat": 4,
 "nbformat_minor": 4
}
