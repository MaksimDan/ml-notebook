{
 "cells": [
  {
   "cell_type": "markdown",
   "metadata": {},
   "source": [
    "# Dataset Types\n",
    "\n",
    "There are generally three different kinds of datasets: train, test, and validation.\n",
    "\n",
    "\n",
    "## Training and Validation Sets\n",
    "\n",
    "The training set and validation set generally go together. This means that the training set can also in part be used as the testing set and the two are used interchangably here.\n",
    "\n",
    "When we refer to the validation set, it is generally referred to as the cross validation set where the training set is used to cross validate data.\n",
    "\n",
    "\n",
    "## Testing Set\n",
    "\n",
    "The final model evaluations is held out specifically within a testing set. In this sense, it remains untouched (with exception to the transformations inline with the training set) until the absolute final model is built."
   ]
  },
  {
   "cell_type": "markdown",
   "metadata": {},
   "source": []
  }
 ],
 "metadata": {
  "kernelspec": {
   "display_name": "Python 3",
   "language": "python",
   "name": "python3"
  },
  "language_info": {
   "codemirror_mode": {
    "name": "ipython",
    "version": 3
   },
   "file_extension": ".py",
   "mimetype": "text/x-python",
   "name": "python",
   "nbconvert_exporter": "python",
   "pygments_lexer": "ipython3",
   "version": "3.6.6"
  }
 },
 "nbformat": 4,
 "nbformat_minor": 2
}
