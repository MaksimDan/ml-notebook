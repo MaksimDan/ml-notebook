{
 "cells": [
  {
   "cell_type": "markdown",
   "metadata": {},
   "source": [
    "# Cross-Validation\n",
    "\n",
    "## K-fold Cross Validation\n",
    "\n",
    "To asset how a model will generally perform in practice, we use k-fold cross-validation. The process for k-fold cross validation is simple. Make sure that the date is shuffled. This will ensure that each fold is relatively similiar and as a result won't carry drastic degrees of variance between each cross validation score.\n",
    "\n",
    "\n",
    "1. Split the training set into k equal parts or folds.\n",
    "2. For each fold, take the current fold and treat it as the test set. Take the remaining k-1 folds and treat this as the training set.\n",
    "3. Train and test your model using the current training and test sets.\n",
    "4. Average the performance across all k trails as the summarized performance metric.\n",
    "\n",
    "\n",
    "**Advantages with Cross-Validation**\n",
    "1. The entire dataset is involved in both the training and evaluation process, so it is particularly beneficial working with a dataset limited in size.\n",
    "2. Cross validation comes in as a distribution of scores, so that means obtain additional statistics such as the precision (standard deviation)\n",
    "\n",
    "## Using Cross-validation"
   ]
  },
  {
   "cell_type": "code",
   "execution_count": 29,
   "metadata": {},
   "outputs": [],
   "source": [
    "from sklearn.datasets import load_iris\n",
    "from sklearn.model_selection import train_test_split\n",
    "import numpy as np\n",
    "import pandas as pd\n",
    "\n",
    "iris = load_iris()\n",
    "X, y = iris.data, iris.target\n",
    "X_train, y_train, y_train, y_test = train_test_split(X, y, test_size=.33, random_state=42)"
   ]
  },
  {
   "cell_type": "code",
   "execution_count": 30,
   "metadata": {},
   "outputs": [
    {
     "data": {
      "text/plain": [
       "SGDClassifier(alpha=0.0001, average=False, class_weight=None,\n",
       "       early_stopping=False, epsilon=0.1, eta0=0.0, fit_intercept=True,\n",
       "       l1_ratio=0.15, learning_rate='optimal', loss='hinge', max_iter=1000,\n",
       "       n_iter=None, n_iter_no_change=5, n_jobs=None, penalty='l2',\n",
       "       power_t=0.5, random_state=42, shuffle=True, tol=0.2,\n",
       "       validation_fraction=0.1, verbose=0, warm_start=False)"
      ]
     },
     "execution_count": 30,
     "metadata": {},
     "output_type": "execute_result"
    }
   ],
   "source": [
    "from sklearn.linear_model import SGDClassifier\n",
    "\n",
    "\n",
    "sgd_clf = SGDClassifier(random_state=42, max_iter=1000, tol=.20)\n",
    "sgd_clf.fit(X_train, y_train)"
   ]
  },
  {
   "cell_type": "markdown",
   "metadata": {},
   "source": [
    "### Version 1 - Base"
   ]
  },
  {
   "cell_type": "code",
   "execution_count": 31,
   "metadata": {},
   "outputs": [
    {
     "name": "stdout",
     "output_type": "stream",
     "text": [
      "accuracy fold 0: 0.8285714285714286\n",
      "accuracy fold 1: 0.6363636363636364\n",
      "accuracy fold 2: 0.96875\n"
     ]
    }
   ],
   "source": [
    "from sklearn.model_selection import StratifiedKFold\n",
    "from sklearn.metrics import accuracy_score\n",
    "from sklearn.base import clone\n",
    "\n",
    "\n",
    "skfolds = StratifiedKFold(n_splits=3, random_state=42)\n",
    "for i, (train_index, test_index) in enumerate(skfolds.split(X_train, y_train)):\n",
    "    clone_clf = clone(sgd_clf)\n",
    "    X_train_fold, y_train_fold = X_train[train_index], y_train[train_index]\n",
    "    X_test_fold, y_test_fold = X_train[test_index], y_train[test_index]\n",
    "    clone_clf.fit(X_train_fold, y_train_fold)\n",
    "    y_pred_fold = clone_clf.predict(X_test_fold)\n",
    "    print(f'accuracy fold {i}: {accuracy_score(y_test_fold, y_pred_fold)}')"
   ]
  },
  {
   "cell_type": "markdown",
   "metadata": {},
   "source": [
    "### Version 2 - From Source"
   ]
  },
  {
   "cell_type": "code",
   "execution_count": 32,
   "metadata": {},
   "outputs": [
    {
     "data": {
      "text/plain": [
       "array([0.82857143, 0.63636364, 0.96875   ])"
      ]
     },
     "execution_count": 32,
     "metadata": {},
     "output_type": "execute_result"
    }
   ],
   "source": [
    "from sklearn.model_selection import cross_val_score\n",
    "\n",
    "\n",
    "scores = cross_val_score(sgd_clf, X_train, y_train, scoring=\"accuracy\", cv=3)\n",
    "scores"
   ]
  }
 ],
 "metadata": {
  "kernelspec": {
   "display_name": "Python 3",
   "language": "python",
   "name": "python3"
  },
  "language_info": {
   "codemirror_mode": {
    "name": "ipython",
    "version": 3
   },
   "file_extension": ".py",
   "mimetype": "text/x-python",
   "name": "python",
   "nbconvert_exporter": "python",
   "pygments_lexer": "ipython3",
   "version": "3.6.6"
  }
 },
 "nbformat": 4,
 "nbformat_minor": 2
}
