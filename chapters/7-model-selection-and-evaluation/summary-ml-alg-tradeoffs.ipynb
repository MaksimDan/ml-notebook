{
 "cells": [
  {
   "cell_type": "markdown",
   "metadata": {},
   "source": [
    "```\n",
    "template\n",
    "\n",
    "**Pros**\n",
    "* \n",
    "\n",
    "**Cons**\n",
    "* \n",
    "\n",
    "```\n",
    "\n",
    "# Summary of ML Algorithms and Trade offs\n",
    "\n",
    "## Classification\n",
    "\n",
    "### Logistic Regression\n",
    "\n",
    "**Pros**\n",
    "* Fast, and highly scalable with large data, which a property mostly achieved with stochastic gradient descent.\n",
    "\n",
    "**Cons**\n",
    "* \n",
    "\n",
    "\n",
    "### SVM\n",
    "\n",
    "**Pros**\n",
    "* Ususally understandable\n",
    "\n",
    "**Cons**\n",
    "* Scales poorly with dataN\n",
    "\n"
   ]
  },
  {
   "cell_type": "code",
   "execution_count": null,
   "metadata": {},
   "outputs": [],
   "source": []
  }
 ],
 "metadata": {
  "kernelspec": {
   "display_name": "Python 3",
   "language": "python",
   "name": "python3"
  },
  "language_info": {
   "codemirror_mode": {
    "name": "ipython",
    "version": 3
   },
   "file_extension": ".py",
   "mimetype": "text/x-python",
   "name": "python",
   "nbconvert_exporter": "python",
   "pygments_lexer": "ipython3",
   "version": "3.6.6"
  }
 },
 "nbformat": 4,
 "nbformat_minor": 2
}
